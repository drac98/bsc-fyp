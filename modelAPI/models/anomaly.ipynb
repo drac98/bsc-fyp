{
 "cells": [
  {
   "cell_type": "code",
   "execution_count": 1,
   "id": "e99b6186",
   "metadata": {},
   "outputs": [
    {
     "name": "stdout",
     "output_type": "stream",
     "text": [
      "bentoml\r\n"
     ]
    }
   ],
   "source": [
    "!whoami"
   ]
  },
  {
   "cell_type": "code",
   "execution_count": 2,
   "id": "662c2ef0",
   "metadata": {},
   "outputs": [
    {
     "name": "stdout",
     "output_type": "stream",
     "text": [
      "anomaly.ipynb\t\t       __pycache__\t service.py\r\n",
      "gat_lstm_autoencoder_husni.pt  requirements.txt\r\n"
     ]
    }
   ],
   "source": [
    "!ls"
   ]
  },
  {
   "cell_type": "markdown",
   "id": "747e0e8d",
   "metadata": {},
   "source": [
    "# BentoML Scikit-learn Tutorial\n",
    "\n",
    "\n",
    "This is a sample project demonstrating basic usage of [BentoML](https://github.com/bentoml) with\n",
    "Scikit-learn.\n",
    "\n",
    "In this project, we will train a classifier model using Scikit-learn and the Iris dataset, build\n",
    "a prediction service for serving the trained model via an HTTP server, and containerize the \n",
    "model server as a docker image for production deployment.\n",
    "\n",
    "\n",
    "Link to source code: https://github.com/bentoml/BentoML/tree/main/examples/quickstart\n",
    "\n",
    "### Install Dependencies\n",
    "\n",
    "Install required python packages:"
   ]
  },
  {
   "cell_type": "code",
   "execution_count": null,
   "id": "daa3cbef",
   "metadata": {},
   "outputs": [],
   "source": [
    "!pip install -r requirements.txt"
   ]
  },
  {
   "cell_type": "markdown",
   "id": "b66e31f7",
   "metadata": {},
   "source": [
    "##  Model Training"
   ]
  },
  {
   "cell_type": "code",
   "execution_count": 3,
   "id": "ebb45007",
   "metadata": {},
   "outputs": [],
   "source": [
    "import torch\n",
    "import torch.nn as nn\n",
    "import pandas as pd\n",
    "import numpy as np\n",
    "import pandas as pd\n",
    "import seaborn as sns\n",
    "import matplotlib.pyplot as plt\n",
    "from sklearn.manifold import TSNE\n",
    "from mpl_toolkits.mplot3d import Axes3D\n",
    "from sklearn.metrics import classification_report\n",
    "import torch.nn.functional as F\n",
    "from sklearn.model_selection import train_test_split\n",
    "from sklearn.metrics import confusion_matrix"
   ]
  },
  {
   "cell_type": "code",
   "execution_count": 4,
   "id": "d974a867",
   "metadata": {},
   "outputs": [],
   "source": [
    "import glob"
   ]
  },
  {
   "cell_type": "code",
   "execution_count": 5,
   "id": "d494bff9",
   "metadata": {},
   "outputs": [],
   "source": [
    "class GATLayer(nn.Module):\n",
    "    \n",
    "    def __init__(self, c_in, c_out, num_heads=1, concat_heads=True, alpha=0.2):\n",
    "        \"\"\"\n",
    "        Inputs:\n",
    "            c_in - Dimensionality of input features\n",
    "            c_out - Dimensionality of output features\n",
    "            num_heads - Number of heads, i.e. attention mechanisms to apply in parallel. The \n",
    "                        output features are equally split up over the heads if concat_heads=True.\n",
    "            concat_heads - If True, the output of the different heads is concatenated instead of averaged.\n",
    "            alpha - Negative slope of the LeakyReLU activation.\n",
    "        \"\"\"\n",
    "        super().__init__()\n",
    "        self.num_heads = num_heads\n",
    "        self.concat_heads = concat_heads\n",
    "        if self.concat_heads:\n",
    "            assert c_out % num_heads == 0, \"Number of output features must be a multiple of the count of heads.\"\n",
    "            c_out = c_out // num_heads\n",
    "        \n",
    "        # Sub-modules and parameters needed in the layer\n",
    "        self.projection = nn.Linear(c_in, c_out * num_heads)\n",
    "        self.a = nn.Parameter(torch.Tensor(num_heads, 2 * c_out)) # One per head\n",
    "        self.leakyrelu = nn.LeakyReLU(alpha)\n",
    "        \n",
    "        # Initialization from the original implementation\n",
    "        nn.init.xavier_uniform_(self.projection.weight.data, gain=1.414)\n",
    "        nn.init.xavier_uniform_(self.a.data, gain=1.414)\n",
    "        \n",
    "    def forward(self, node_feats, adj_matrix, print_attn_probs=False):\n",
    "        \"\"\"\n",
    "        Inputs:\n",
    "            node_feats - Input features of the node. Shape: [batch_size, c_in]\n",
    "            adj_matrix - Adjacency matrix including self-connections. Shape: [batch_size, num_nodes, num_nodes]\n",
    "            print_attn_probs - If True, the attention weights are printed during the forward pass (for debugging purposes)\n",
    "        \"\"\"\n",
    "        batch_size, num_nodes = node_feats.size(0), node_feats.size(1)\n",
    "        \n",
    "        # Apply linear layer and sort nodes by head\n",
    "        node_feats = self.projection(node_feats)\n",
    "        node_feats = node_feats.view(batch_size, num_nodes, self.num_heads, -1)\n",
    "        # We need to calculate the attention logits for every edge in the adjacency matrix \n",
    "        # Doing this on all possible combinations of nodes is very expensive\n",
    "        # => Create a tensor of [W*h_i||W*h_j] with i and j being the indices of all edges\n",
    "        edges = adj_matrix.nonzero(as_tuple=False) # Returns indices where the adjacency matrix is not 0 => edges\n",
    "        node_feats_flat = node_feats.view(batch_size * num_nodes, self.num_heads, -1)\n",
    "        edge_indices_row = edges[:,0] * num_nodes + edges[:,1]\n",
    "        edge_indices_col = edges[:,0] * num_nodes + edges[:,2]\n",
    "        a_input = torch.cat([\n",
    "            torch.index_select(input=node_feats_flat, index=edge_indices_row, dim=0),\n",
    "            torch.index_select(input=node_feats_flat, index=edge_indices_col, dim=0)\n",
    "        ], dim=-1) # Index select returns a tensor with node_feats_flat being indexed at the desired positions along dim=0\n",
    "        # Calculate attention MLP output (independent for each head)\n",
    "        attn_logits = torch.einsum('bhc,hc->bh', a_input, self.a) \n",
    "        attn_logits = self.leakyrelu(attn_logits)\n",
    "        # Map list of attention values back into a matrix\n",
    "        attn_matrix = attn_logits.new_zeros(adj_matrix.shape+(self.num_heads,)).fill_(-9e15)\n",
    "        attn_matrix[adj_matrix[...,None].repeat(1,1,1,self.num_heads) == 1] = attn_logits.reshape(-1)\n",
    "        # Weighted average of attention\n",
    "        self.attn_probs = F.softmax(attn_matrix, dim=2)\n",
    "        if print_attn_probs:\n",
    "            print(\"Attention probs\\n\", self.attn_probs.permute(0, 3, 1, 2))\n",
    "        node_feats = torch.einsum('bijh,bjhc->bihc', self.attn_probs, node_feats)\n",
    "        # If heads should be concatenated, we can do this by reshaping. Otherwise, take mean\n",
    "        if self.concat_heads:\n",
    "            node_feats = node_feats.reshape(batch_size, num_nodes, -1)\n",
    "        else:\n",
    "            node_feats = node_feats.mean(dim=2)\n",
    "        return node_feats "
   ]
  },
  {
   "cell_type": "code",
   "execution_count": 6,
   "id": "69a19a8a",
   "metadata": {},
   "outputs": [],
   "source": [
    "class ReconstructionModel(nn.Module):\n",
    "    def __init__(self, input_size, hidden_size1, hidden_size2, output_size,alpha=0.2,dropout_prob=0.3):\n",
    "        super(ReconstructionModel, self).__init__()\n",
    "\n",
    "\n",
    "        self.fc1 = nn.Linear(input_size, 192)\n",
    "        self.dropout1 = nn.Dropout(p=dropout_prob)\n",
    "        self.fc1_ = nn.Linear(192, hidden_size1)\n",
    "        self.dropout1_ = nn.Dropout(p=dropout_prob)\n",
    "        self.fc2 = nn.Linear(hidden_size1, hidden_size2)\n",
    "        self.dropout2 = nn.Dropout(p=dropout_prob)\n",
    "        self.fc3 = nn.Linear(hidden_size2, hidden_size1)\n",
    "        self.dropout3 = nn.Dropout(p=dropout_prob)\n",
    "        self.fc3_ = nn.Linear(hidden_size1, 192)\n",
    "        self.dropout3_ = nn.Dropout(p=dropout_prob)\n",
    "        self.fc4 = nn.Linear(192, output_size)\n",
    "\n",
    "        self.leakyrelu = nn.ReLU()\n",
    "\n",
    "    def forward(self, x):\n",
    "        x = torch.sigmoid(self.fc1(x))\n",
    "        x = self.dropout1(x)\n",
    "        x = self.leakyrelu(self.fc1_(x))\n",
    "        x = self.dropout1_(x)\n",
    "        x = self.leakyrelu(self.fc2(x))\n",
    "        x = self.dropout2(x)\n",
    "        encoder_out = x\n",
    "        x = self.leakyrelu(self.fc3(x))\n",
    "        x = self.dropout3(x)\n",
    "        x = self.leakyrelu(self.fc3_(x))\n",
    "        x = self.dropout3_(x)\n",
    "        # x = torch.sigmoid(self.fc4(x))\n",
    "        x = self.fc4(x)\n",
    "        \n",
    "        return x,encoder_out"
   ]
  },
  {
   "cell_type": "code",
   "execution_count": 7,
   "id": "56fc6129",
   "metadata": {},
   "outputs": [],
   "source": [
    "class gat_lstm_autoencoder(nn.Module):\n",
    "  def __init__(self, num_nodes,input_features_size, gat_out_size, lstm_out_size, linear_out_size, reconstruct_hidden_size1, reconstruct_hidden_size2, num_layers, num_heads,batch_size,period):\n",
    "\n",
    "    super(gat_lstm_autoencoder, self).__init__()\n",
    "    self.num_nodes = num_nodes\n",
    "    self.hidden_size = gat_out_size\n",
    "    self.hidden_size1 = lstm_out_size\n",
    "    self.input_features_size = input_features_size\n",
    "    self.batch_size = batch_size\n",
    "    self.period = period\n",
    "    self.gat = GATLayer(input_features_size, 32, num_heads)\n",
    "    self.gat1 = GATLayer(32, 16, num_heads)\n",
    "    self.gat2 = GATLayer(16, self.hidden_size, num_heads)\n",
    "    self.lstm = nn.LSTM(num_nodes*self.hidden_size, self.hidden_size1, num_layers, batch_first=False, dropout=0.2)\n",
    "    self.linear = nn.Linear( self.hidden_size1, linear_out_size)\n",
    "    self.reconstruct = ReconstructionModel(linear_out_size,reconstruct_hidden_size1, reconstruct_hidden_size2,num_nodes*input_features_size)\n",
    "\n",
    "  # GAT:    [batch_size,num_nodes,features],[num_nodes,num_nodes]   |   [batch_size,num_nodes,hidden_size]\n",
    "  # LSTM:   [batch_size,1,num_nodes*hidden_size]                    |   [batch_size,1,num_nodes*hidden_size1]\n",
    "  # Linear: [batch_size,num_nodes*hidden_size1]                     |   [batch_size,num_nodes*hidden_size2]\n",
    "  # Recons: [batch_size,num_nodes*hidden_size2]                     |   [batch_size,num_nodes*input_size]\n",
    "\n",
    "  \n",
    "\n",
    "  def forward(self, x, adj):\n",
    "    # print('before_gat',x.shape)\n",
    "    x = self.gat(x, adj)\n",
    "    x = F.elu(x)\n",
    "    x = self.gat1(x, adj)\n",
    "    x = F.elu(x)\n",
    "    x = self.gat2(x, adj)\n",
    "    x = F.elu(x)\n",
    "    gat_out = x\n",
    "    # print('after_gat',x.shape)\n",
    "    x = x.reshape(self.period,self.batch_size//self.period,self.num_nodes*self.hidden_size)\n",
    "    # print('before_lstm',x.shape)\n",
    "    x,(hn,cn) = self.lstm(x)\n",
    "\n",
    "    x = x.reshape(self.batch_size,self.hidden_size1)\n",
    "    # print('before_linear',x.shape)\n",
    "    x = self.linear(x)\n",
    "    # print('after linear',x.shape)\n",
    "    x_,encoder_out = self.reconstruct(x)\n",
    "    # print('after_reconstruct',x_.shape)\n",
    "    x_ = x_.reshape(self.batch_size,self.num_nodes,self.input_features_size)\n",
    "    # print('out',x_.shape)\n",
    "    return x_,x,gat_out,encoder_out\n",
    "\n",
    "\n",
    "  def predict(self,x,adj):\n",
    "    batch_size  = x.size(0)\n",
    "    x = self.gat(x, adj)\n",
    "    x = F.elu(x)\n",
    "    x = self.gat1(x, adj)\n",
    "    x = F.elu(x)\n",
    "    x = self.gat2(x, adj)\n",
    "    x = F.elu(x)\n",
    "    gat_out = x\n",
    "\n",
    "    x = x.reshape(-1,1,self.num_nodes*self.hidden_size)\n",
    "    x,(hn,cn) = self.lstm(x)\n",
    "    x = x.reshape(-1,self.hidden_size1)\n",
    "\n",
    "    x = self.linear(x)\n",
    "    x_,encoder_out = self.reconstruct(x)\n",
    "    x_ = x_.reshape(-1,self.num_nodes,self.input_features_size)\n",
    "    return x_,x,gat_out,encoder_out"
   ]
  },
  {
   "cell_type": "code",
   "execution_count": 8,
   "id": "165b9c7f",
   "metadata": {},
   "outputs": [],
   "source": [
    "class gat_lstm(nn.Module):\n",
    "  #model = gat_lstm_autoencoder(num_nodes,input_features_size,gat_out_size,lstm_out_size,linear_out_size,reconstruct_hidden_size1,reconstruct_hidden_size2,num_layers,num_heads,batch_size,period)\n",
    "  def __init__(self, num_nodes,input_features_size, gat_out_size, lstm_out_size, linear_out_size, reconstruct_hidden_size1, reconstruct_hidden_size2, num_layers, num_heads,batch_size,period):\n",
    "\n",
    "    super(gat_lstm, self).__init__()\n",
    "    self.num_nodes = num_nodes\n",
    "    self.hidden_size = gat_out_size\n",
    "    self.hidden_size1 = lstm_out_size\n",
    "    self.input_features_size = input_features_size\n",
    "    self.batch_size = batch_size\n",
    "    self.period = period\n",
    "    self.gat = GATLayer(input_features_size, self.hidden_size, num_heads)\n",
    "    self.lstm = nn.LSTM(num_nodes*self.hidden_size, self.hidden_size1, num_layers, batch_first=False, dropout=0.2)\n",
    "    self.linear = nn.Linear( self.hidden_size1, linear_out_size)\n",
    "    self.linear2 = nn.Linear( linear_out_size, num_nodes*input_features_size)\n",
    "    # self.reconstruct = ReconstructionModel(linear_out_size,reconstruct_hidden_size1, reconstruct_hidden_size2,num_nodes*input_features_size)\n",
    "\n",
    "  # GAT:    [batch_size,num_nodes,features],[num_nodes,num_nodes]   |   [batch_size,num_nodes,hidden_size]\n",
    "  # LSTM:   [batch_size,1,num_nodes*hidden_size]                    |   [batch_size,1,num_nodes*hidden_size1]\n",
    "  # Linear: [batch_size,num_nodes*hidden_size1]                     |   [batch_size,num_nodes*hidden_size2]\n",
    "  # Recons: [batch_size,num_nodes*hidden_size2]                     |   [batch_size,num_nodes*input_size]\n",
    "\n",
    "  \n",
    "\n",
    "  def forward(self, x, adj):\n",
    "    # print('before_gat',x.shape)\n",
    "    x = self.gat(x, adj)\n",
    "    x = F.elu(x)\n",
    "    gat_out = x\n",
    "    # print('after_gat',x.shape)\n",
    "    x = x.reshape(self.period,self.batch_size//self.period,self.num_nodes*self.hidden_size)\n",
    "    # print('before_lstm',x.shape)\n",
    "    x,(hn,cn) = self.lstm(x)\n",
    "    # print('after_lstm',x.shape)\n",
    "    x = x.reshape(self.batch_size,self.hidden_size1)\n",
    "    # print('before_linear',x.shape)\n",
    "    x = self.linear(x)\n",
    "    x_ = self.linear2(x)\n",
    "    # print('after linear',x.shape)\n",
    "    # x_,encoder_out = self.reconstruct(x)\n",
    "    encoder_out = x\n",
    "    # print('after_reconstruct',x_.shape)\n",
    "    x_ = x_.reshape(self.batch_size,self.num_nodes,self.input_features_size)\n",
    "    # print('out',x_.shape)\n",
    "    return x_,x,gat_out,encoder_out\n",
    "\n",
    "\n",
    "  def predict(self,x,adj):\n",
    "    batch_size  = x.size(0)\n",
    "    x = self.gat(x, adj)\n",
    "    x = F.elu(x)\n",
    "    gat_out = x\n",
    "\n",
    "    x = x.reshape(-1,1,self.num_nodes*self.hidden_size)\n",
    "    x,(hn,cn) = self.lstm(x)\n",
    "    x = x.reshape(-1,self.hidden_size1)\n",
    "\n",
    "    x = self.linear(x)\n",
    "    x_ = self.linear2(x)\n",
    "    encoder_out = x\n",
    "    # x_,encoder_out = self.reconstruct(x)\n",
    "    x_ = x_.reshape(-1,self.num_nodes,self.input_features_size)\n",
    "    return x_,x,gat_out,encoder_out"
   ]
  },
  {
   "cell_type": "code",
   "execution_count": 9,
   "id": "933917eb",
   "metadata": {},
   "outputs": [],
   "source": [
    "#without lstm\n",
    "class gat_autoencoder(nn.Module):\n",
    "  def __init__(self, num_nodes,input_features_size, gat_out_size, lstm_out_size, linear_out_size, reconstruct_hidden_size1, reconstruct_hidden_size2, num_layers, num_heads,batch_size,period):\n",
    "\n",
    "    super(gat_autoencoder, self).__init__()\n",
    "    self.num_nodes = num_nodes\n",
    "    self.hidden_size = gat_out_size\n",
    "    self.hidden_size1 = lstm_out_size\n",
    "    self.input_features_size = input_features_size\n",
    "    self.batch_size = batch_size\n",
    "    self.period = period\n",
    "    self.gat = GATLayer(input_features_size, self.hidden_size, num_heads)\n",
    "    # self.lstm = nn.LSTM(num_nodes*self.hidden_size, self.hidden_size1, num_layers, batch_first=True, dropout=0.2)\n",
    "    self.linear = nn.Linear( self.hidden_size*self.num_nodes, linear_out_size)\n",
    "    self.reconstruct = ReconstructionModel(linear_out_size,reconstruct_hidden_size1, reconstruct_hidden_size2,num_nodes*input_features_size)\n",
    "\n",
    "  # GAT:    [batch_size,num_nodes,features],[num_nodes,num_nodes]   |   [batch_size,num_nodes,hidden_size]\n",
    "  # LSTM:   [batch_size,1,num_nodes*hidden_size]                    |   [batch_size,1,num_nodes*hidden_size1]\n",
    "  # Linear: [batch_size,num_nodes*hidden_size1]                     |   [batch_size,num_nodes*hidden_size2]\n",
    "  # Recons: [batch_size,num_nodes*hidden_size2]                     |   [batch_size,num_nodes*input_size]\n",
    "\n",
    "  \n",
    "\n",
    "  def forward(self, x, adj):\n",
    "    # print('before_gat',x.shape)\n",
    "    x = self.gat(x, adj)\n",
    "    x = F.elu(x)\n",
    "    gat_out = x\n",
    "    # print('after_gat',x.shape)\n",
    "    # x = x.reshape(self.period,self.batch_size//self.period,self.num_nodes*self.hidden_size)\n",
    "    # print('before_lstm',x.shape)\n",
    "    # x,(hn,cn) = self.lstm(x)\n",
    "    # print('after_lstm',x.shape)\n",
    "    x = x.reshape(self.batch_size,self.hidden_size*self.num_nodes)\n",
    "    # print('before_linear',x.shape)\n",
    "    x = self.linear(x)\n",
    "    # print('after linear',x.shape)\n",
    "    x_,encoder_out = self.reconstruct(x)\n",
    "    # print('after_reconstruct',x_.shape)\n",
    "    x_ = x_.reshape(self.batch_size,self.num_nodes,self.input_features_size)\n",
    "    # print('out',x_.shape)\n",
    "    return x_,x,gat_out,encoder_out\n",
    "\n",
    "\n",
    "  def predict(self,x,adj):\n",
    "    batch_size  = x.size(0)\n",
    "    x = self.gat(x, adj)\n",
    "    x = F.elu(x)\n",
    "    gat_out = x\n",
    "\n",
    "    # x = x.reshape(self.period,1,self.num_nodes*self.hidden_size)\n",
    "    # x,(hn,cn) = self.lstm(x)\n",
    "    x = x.reshape(-1,self.hidden_size*self.num_nodes)\n",
    "\n",
    "    x = self.linear(x)\n",
    "    x_,encoder_out = self.reconstruct(x)\n",
    "    x_ = x_.reshape(-1,self.num_nodes,self.input_features_size)\n",
    "    return x_,x,gat_out,encoder_out"
   ]
  },
  {
   "cell_type": "code",
   "execution_count": 10,
   "id": "ebf3b3e1",
   "metadata": {},
   "outputs": [],
   "source": [
    "#without gat\n",
    "class lstm_autoencoder(nn.Module):\n",
    "  def __init__(self, num_nodes,input_features_size, gat_out_size, lstm_out_size, linear_out_size, reconstruct_hidden_size1, reconstruct_hidden_size2, num_layers, num_heads,batch_size,period):\n",
    "\n",
    "    super(lstm_autoencoder, self).__init__()\n",
    "    self.num_nodes = num_nodes\n",
    "    self.hidden_size = gat_out_size\n",
    "    self.hidden_size1 = lstm_out_size\n",
    "    self.input_features_size = input_features_size\n",
    "    self.batch_size = batch_size\n",
    "    self.period = period\n",
    "    # self.gat = GATLayer(input_features_size, self.hidden_size, num_heads)\n",
    "    self.lstm = nn.LSTM(num_nodes*self.input_features_size, self.hidden_size1, num_layers, batch_first=True, dropout=0.2)\n",
    "    self.linear = nn.Linear( self.hidden_size1, linear_out_size)\n",
    "    self.reconstruct = ReconstructionModel(linear_out_size,reconstruct_hidden_size1, reconstruct_hidden_size2,num_nodes*input_features_size)\n",
    "\n",
    "  # GAT:    [batch_size,num_nodes,features],[num_nodes,num_nodes]   |   [batch_size,num_nodes,hidden_size]\n",
    "  # LSTM:   [batch_size,1,num_nodes*hidden_size]                    |   [batch_size,1,num_nodes*hidden_size1]\n",
    "  # Linear: [batch_size,num_nodes*hidden_size1]                     |   [batch_size,num_nodes*hidden_size2]\n",
    "  # Recons: [batch_size,num_nodes*hidden_size2]                     |   [batch_size,num_nodes*input_size]\n",
    "\n",
    "  \n",
    "\n",
    "  def forward(self, x, adj):\n",
    "    # print('before_gat',x.shape)\n",
    "    # x = self.gat(x, adj)\n",
    "    # x = F.elu(x)\n",
    "    gat_out = x\n",
    "    # print('after_gat',x.shape)\n",
    "    x = x.reshape(self.period,self.batch_size//self.period,self.num_nodes*self.input_features_size)\n",
    "    # print('before_lstm',x.shape)\n",
    "    x,(hn,cn) = self.lstm(x)\n",
    "    # print('after_lstm',x.shape)\n",
    "    x = x.reshape(self.batch_size,self.hidden_size1)\n",
    "    # print('before_linear',x.shape)\n",
    "    x = self.linear(x)\n",
    "    # print('after linear',x.shape)\n",
    "    x_,encoder_out = self.reconstruct(x)\n",
    "    # print('after_reconstruct',x_.shape)\n",
    "    x_ = x_.reshape(self.batch_size,self.num_nodes,self.input_features_size)\n",
    "    # print('out',x_.shape)\n",
    "    return x_,x,gat_out,encoder_out\n",
    "\n",
    "\n",
    "  def predict(self,x,adj):\n",
    "    batch_size  = x.size(0)\n",
    "    # x = self.gat(x, adj)\n",
    "    # x = F.elu(x)\n",
    "    gat_out = x\n",
    "\n",
    "    x = x.reshape(-1,1,self.num_nodes*self.input_features_size)\n",
    "    x,(hn,cn) = self.lstm(x)\n",
    "    x = x.reshape(-1,self.hidden_size1)\n",
    "\n",
    "    x = self.linear(x)\n",
    "    x_,encoder_out = self.reconstruct(x)\n",
    "    x_ = x_.reshape(-1,self.num_nodes,self.input_features_size)\n",
    "    return x_,x,gat_out,encoder_out"
   ]
  },
  {
   "cell_type": "code",
   "execution_count": 11,
   "id": "ed4ac9d0",
   "metadata": {},
   "outputs": [],
   "source": [
    "#with only autoencoder\n",
    "class autoencoder(nn.Module):\n",
    "  def __init__(self, num_nodes,input_features_size, gat_out_size, lstm_out_size, linear_out_size, reconstruct_hidden_size1, reconstruct_hidden_size2, num_layers, num_heads,batch_size,period):\n",
    "\n",
    "    super(autoencoder, self).__init__()\n",
    "    self.num_nodes = num_nodes\n",
    "    self.hidden_size = gat_out_size\n",
    "    self.hidden_size1 = lstm_out_size\n",
    "    self.input_features_size = input_features_size\n",
    "    self.batch_size = batch_size\n",
    "    self.period = period\n",
    "    # self.gat = GATLayer(input_features_size, self.hidden_size, num_heads)\n",
    "    # self.lstm = nn.LSTM(num_nodes*self.hidden_size, self.hidden_size1, num_layers, batch_first=True, dropout=0.2)\n",
    "    self.linear = nn.Linear( num_nodes*self.input_features_size, linear_out_size)\n",
    "    self.reconstruct = ReconstructionModel(linear_out_size,reconstruct_hidden_size1, reconstruct_hidden_size2,num_nodes*input_features_size)\n",
    "\n",
    "  # GAT:    [batch_size,num_nodes,features],[num_nodes,num_nodes]   |   [batch_size,num_nodes,hidden_size]\n",
    "  # LSTM:   [batch_size,1,num_nodes*hidden_size]                    |   [batch_size,1,num_nodes*hidden_size1]\n",
    "  # Linear: [batch_size,num_nodes*hidden_size1]                     |   [batch_size,num_nodes*hidden_size2]\n",
    "  # Recons: [batch_size,num_nodes*hidden_size2]                     |   [batch_size,num_nodes*input_size]\n",
    "\n",
    "  \n",
    "\n",
    "  def forward(self, x, adj):\n",
    "    # print('before_gat',x.shape)\n",
    "    # x = self.gat(x, adj)\n",
    "    # x = F.elu(x)\n",
    "    gat_out = x\n",
    "    # print('after_gat',x.shape)\n",
    "    x = x.reshape(-1,self.num_nodes*self.input_features_size)\n",
    "    \n",
    "    x = self.linear(x)\n",
    "    # print('after linear',x.shape)\n",
    "    x_,encoder_out = self.reconstruct(x)\n",
    "    # print('after_reconstruct',x_.shape)\n",
    "    x_ = x_.reshape(self.batch_size,self.num_nodes,self.input_features_size)\n",
    "    # print('out',x_.shape)\n",
    "    return x_,x,gat_out,encoder_out\n",
    "\n",
    "\n",
    "  def predict(self,x,adj):\n",
    "    batch_size  = x.size(0)\n",
    "    # x = self.gat(x, adj)\n",
    "    # x = F.elu(x)\n",
    "    gat_out = x\n",
    "\n",
    "    x = x.reshape(-1,self.num_nodes*self.input_features_size)\n",
    "    # x,(hn,cn) = self.lstm(x)\n",
    "    # x = x.reshape(-1,self.hidden_size1)\n",
    "\n",
    "    x = self.linear(x)\n",
    "    x_,encoder_out = self.reconstruct(x)\n",
    "    x_ = x_.reshape(-1,self.num_nodes,self.input_features_size)\n",
    "    return x_,x,gat_out,encoder_out"
   ]
  },
  {
   "cell_type": "code",
   "execution_count": 12,
   "id": "54f1a63a",
   "metadata": {},
   "outputs": [],
   "source": [
    "adj_matrix = torch.Tensor([#['payment 0', 'shipping 1', 'redis 2', 'mongodb 3', 'dispatch 4', 'rabbitmq 5', 'user 6', 'mysql 7', 'catalogue 8', 'ratings 9', 'web 10', 'cart 11']\n",
    "       [[1, 0, 0, 0, 0, 1, 0, 0, 0, 0, 1, 1],\n",
    "        [0, 1, 0, 0, 0, 0, 0, 1, 0, 0, 1, 0],\n",
    "        [0, 0, 1, 0, 0, 0, 1, 0, 0, 0, 0, 1],\n",
    "        [0, 0, 0, 1, 0, 0, 1, 0, 0, 0, 0, 0],\n",
    "        [0, 0, 0, 0, 1, 1, 0, 0, 0, 0, 0, 0],\n",
    "        [1, 0, 0, 0, 1, 1, 0, 0, 0, 0, 0, 0],\n",
    "        [0, 0, 1, 1, 0, 0, 1, 0, 0, 0, 1, 0],\n",
    "        [0, 1, 0, 0, 0, 0, 0, 1, 0, 1, 0, 0],\n",
    "        [0, 0, 0, 0, 0, 0, 0, 0, 1, 1, 1, 1],\n",
    "        [0, 0, 0, 0, 0, 0, 0, 1, 1, 1, 1, 0],\n",
    "        [1, 1, 0, 0, 0, 0, 1, 0, 1, 1, 1, 1],\n",
    "        [1, 0, 1, 0, 0, 0, 0, 0, 1, 0, 1, 1]]])"
   ]
  },
  {
   "cell_type": "code",
   "execution_count": 13,
   "id": "e4160f7b",
   "metadata": {},
   "outputs": [],
   "source": [
    "import bentoml"
   ]
  },
  {
   "cell_type": "code",
   "execution_count": 14,
   "id": "f5e265c7",
   "metadata": {},
   "outputs": [],
   "source": [
    "model_path = \"./\""
   ]
  },
  {
   "cell_type": "code",
   "execution_count": 15,
   "id": "e67fa719",
   "metadata": {},
   "outputs": [],
   "source": [
    "model_name = 'gat_lstm_autoencoder_husni.pt'"
   ]
  },
  {
   "cell_type": "code",
   "execution_count": 16,
   "id": "b74f10fc",
   "metadata": {},
   "outputs": [],
   "source": [
    "model = torch.load(model_path + model_name)"
   ]
  },
  {
   "cell_type": "code",
   "execution_count": null,
   "id": "1fabd940",
   "metadata": {},
   "outputs": [],
   "source": []
  },
  {
   "cell_type": "code",
   "execution_count": 17,
   "id": "c63d0eaa",
   "metadata": {},
   "outputs": [],
   "source": [
    "# model = model.to_torchscript()\n",
    "# torch.jit.save(script, \"torchscript_model.pt\")"
   ]
  },
  {
   "cell_type": "code",
   "execution_count": 18,
   "id": "12385186",
   "metadata": {},
   "outputs": [],
   "source": [
    "# model.train()"
   ]
  },
  {
   "cell_type": "code",
   "execution_count": 19,
   "id": "d12fbde5",
   "metadata": {},
   "outputs": [
    {
     "data": {
      "text/plain": [
       "Model(tag=\"gat_lstm_autoencoder:v1\", path=\"/home/bentoml/bentoml/models/gat_lstm_autoencoder/v1/\")"
      ]
     },
     "execution_count": 19,
     "metadata": {},
     "output_type": "execute_result"
    }
   ],
   "source": [
    "bentoml.pytorch.save_model(\n",
    "    \"gat_lstm_autoencoder:v1\", \n",
    "    model\n",
    ")"
   ]
  },
  {
   "cell_type": "code",
   "execution_count": 20,
   "id": "147df900",
   "metadata": {},
   "outputs": [
    {
     "name": "stdout",
     "output_type": "stream",
     "text": [
      "\u001b[1m \u001b[0m\u001b[1mTag                    \u001b[0m\u001b[1m \u001b[0m\u001b[1m \u001b[0m\u001b[1mModule         \u001b[0m\u001b[1m \u001b[0m\u001b[1m \u001b[0m\u001b[1mSize    \u001b[0m\u001b[1m \u001b[0m\u001b[1m \u001b[0m\u001b[1mCreation Time      \u001b[0m\u001b[1m \u001b[0m\r\n",
      " gat_lstm_autoencoder:v1  bentoml.pytorch  9.68 MiB  2023-06-04 11:38:53 \r\n"
     ]
    }
   ],
   "source": [
    "!bentoml models list"
   ]
  },
  {
   "cell_type": "code",
   "execution_count": 21,
   "id": "30afafd8",
   "metadata": {},
   "outputs": [
    {
     "name": "stdout",
     "output_type": "stream",
     "text": [
      "\u001b[91;49mname\u001b[0m\u001b[97;49m:\u001b[0m\u001b[97;49m \u001b[0m\u001b[49mgat_lstm_autoencoder\u001b[0m\r\n",
      "\u001b[91;49mversion\u001b[0m\u001b[97;49m:\u001b[0m\u001b[97;49m \u001b[0m\u001b[49mv1\u001b[0m\r\n",
      "\u001b[91;49mmodule\u001b[0m\u001b[97;49m:\u001b[0m\u001b[97;49m \u001b[0m\u001b[49mbentoml.pytorch\u001b[0m\r\n",
      "\u001b[91;49mlabels\u001b[0m\u001b[97;49m:\u001b[0m\u001b[97;49m \u001b[0m\u001b[49m{\u001b[0m\u001b[49m}\u001b[0m\r\n",
      "\u001b[91;49moptions\u001b[0m\u001b[97;49m:\u001b[0m\r\n",
      "\u001b[97;49m  \u001b[0m\u001b[91;49mpartial_kwargs\u001b[0m\u001b[97;49m:\u001b[0m\u001b[97;49m \u001b[0m\u001b[49m{\u001b[0m\u001b[49m}\u001b[0m\r\n",
      "\u001b[91;49mmetadata\u001b[0m\u001b[97;49m:\u001b[0m\u001b[97;49m \u001b[0m\u001b[49m{\u001b[0m\u001b[49m}\u001b[0m\r\n",
      "\u001b[91;49mcontext\u001b[0m\u001b[97;49m:\u001b[0m\r\n",
      "\u001b[97;49m  \u001b[0m\u001b[91;49mframework_name\u001b[0m\u001b[97;49m:\u001b[0m\u001b[97;49m \u001b[0m\u001b[49mtorch\u001b[0m\r\n",
      "\u001b[97;49m  \u001b[0m\u001b[91;49mframework_versions\u001b[0m\u001b[97;49m:\u001b[0m\r\n",
      "\u001b[97;49m    \u001b[0m\u001b[91;49mtorch\u001b[0m\u001b[97;49m:\u001b[0m\u001b[97;49m \u001b[0m\u001b[49m2.0.1\u001b[0m\r\n",
      "\u001b[97;49m  \u001b[0m\u001b[91;49mbentoml_version\u001b[0m\u001b[97;49m:\u001b[0m\u001b[97;49m \u001b[0m\u001b[49m1.0.18\u001b[0m\r\n",
      "\u001b[97;49m  \u001b[0m\u001b[91;49mpython_version\u001b[0m\u001b[97;49m:\u001b[0m\u001b[97;49m \u001b[0m\u001b[49m3.9.13\u001b[0m\r\n",
      "\u001b[91;49msignatures\u001b[0m\u001b[97;49m:\u001b[0m\r\n",
      "\u001b[97;49m  \u001b[0m\u001b[91;49m__call__\u001b[0m\u001b[97;49m:\u001b[0m\r\n",
      "\u001b[97;49m    \u001b[0m\u001b[91;49mbatchable\u001b[0m\u001b[97;49m:\u001b[0m\u001b[97;49m \u001b[0m\u001b[49mfalse\u001b[0m\r\n",
      "\u001b[91;49mapi_version\u001b[0m\u001b[97;49m:\u001b[0m\u001b[97;49m \u001b[0m\u001b[49mv1\u001b[0m\r\n",
      "\u001b[91;49mcreation_time\u001b[0m\u001b[97;49m:\u001b[0m\u001b[97;49m \u001b[0m\u001b[93;49m'\u001b[0m\u001b[93;49m2023-06-04T11:38:53.522768+00:00\u001b[0m\u001b[93;49m'\u001b[0m\r\n",
      "\r\n"
     ]
    }
   ],
   "source": [
    "!bentoml models get gat_lstm_autoencoder:v1"
   ]
  },
  {
   "cell_type": "code",
   "execution_count": 22,
   "id": "c2bd1243",
   "metadata": {},
   "outputs": [],
   "source": [
    "loaded_model = bentoml.pytorch.load_model(\"gat_lstm_autoencoder:v1\")"
   ]
  },
  {
   "cell_type": "code",
   "execution_count": 23,
   "id": "51913be6",
   "metadata": {},
   "outputs": [],
   "source": [
    "data = torch.Tensor([[[45056.0, 22585344.0, 27111424.0, 27295744.0, 0.00999999999999995, 0.001054579, 0.0700000000000001, 539.0, 0.0, 0.0, 4.0, 2516.0, 0.0, 0.0, 1.0, 0.0, 0.0, 0.0, 0.0, 1], [45056.0, 22585344.0, 27111424.0, 27295744.0, 0.00999999999999995, 0.001054579, 0.0700000000000001, 539.0, 0.0, 0.0, 4.0, 2516.0, 0.0, 0.0, 1.0, 0.0, 0.0, 0.0, 0.0, 1], [45056.0, 22585344.0, 27111424.0, 27295744.0, 0.00999999999999995, 0.001054579, 0.0700000000000001, 539.0, 0.0, 0.0, 4.0, 2516.0, 0.0, 0.0, 1.0, 0.0, 0.0, 0.0, 0.0, 1], [45056.0, 22585344.0, 27111424.0, 27295744.0, 0.00999999999999995, 0.001054579, 0.0700000000000001, 539.0, 0.0, 0.0, 4.0, 2516.0, 0.0, 0.0, 1.0, 0.0, 0.0, 0.0, 0.0, 1], [45056.0, 22585344.0, 27111424.0, 27295744.0, 0.00999999999999995, 0.001054579, 0.0700000000000001, 539.0, 0.0, 0.0, 4.0, 2516.0, 0.0, 0.0, 1.0, 0.0, 0.0, 0.0, 0.0, 1], [45056.0, 22585344.0, 27111424.0, 27295744.0, 0.00999999999999995, 0.001054579, 0.0700000000000001, 539.0, 0.0, 0.0, 4.0, 2516.0, 0.0, 0.0, 1.0, 0.0, 0.0, 0.0, 0.0, 1], [45056.0, 22585344.0, 27111424.0, 27295744.0, 0.00999999999999995, 0.001054579, 0.0700000000000001, 539.0, 0.0, 0.0, 4.0, 2516.0, 0.0, 0.0, 1.0, 0.0, 0.0, 0.0, 0.0, 1], [45056.0, 22585344.0, 27111424.0, 27295744.0, 0.00999999999999995, 0.001054579, 0.0700000000000001, 539.0, 0.0, 0.0, 4.0, 2516.0, 0.0, 0.0, 1.0, 0.0, 0.0, 0.0, 0.0, 1], [45056.0, 22585344.0, 27111424.0, 27295744.0, 0.00999999999999995, 0.001054579, 0.0700000000000001, 539.0, 0.0, 0.0, 4.0, 2516.0, 0.0, 0.0, 1.0, 0.0, 0.0, 0.0, 0.0, 1], [45056.0, 22585344.0, 27111424.0, 27295744.0, 0.00999999999999995, 0.001054579, 0.0700000000000001, 539.0, 0.0, 0.0, 4.0, 2516.0, 0.0, 0.0, 1.0, 0.0, 0.0, 0.0, 0.0, 1], [45056.0, 22585344.0, 27111424.0, 27295744.0, 0.00999999999999995, 0.001054579, 0.0700000000000001, 539.0, 0.0, 0.0, 4.0, 2516.0, 0.0, 0.0, 1.0, 0.0, 0.0, 0.0, 0.0, 1], [45056.0, 22585344.0, 27111424.0, 27295744.0, 0.00999999999999995, 0.001054579, 0.0700000000000001, 539.0, 0.0, 0.0, 4.0, 2516.0, 0.0, 0.0, 1.0, 0.0, 0.0, 0.0, 0.0, 1]], [[45056.0, 22585344.0, 27111424.0, 27295744.0, 0.00999999999999995, 0.001054579, 0.0700000000000001, 539.0, 0.0, 0.0, 4.0, 2516.0, 0.0, 0.0, 1.0, 0.0, 0.0, 0.0, 0.0, 1], [45056.0, 22585344.0, 27111424.0, 27295744.0, 0.00999999999999995, 0.001054579, 0.0700000000000001, 539.0, 0.0, 0.0, 4.0, 2516.0, 0.0, 0.0, 1.0, 0.0, 0.0, 0.0, 0.0, 1], [45056.0, 22585344.0, 27111424.0, 27295744.0, 0.00999999999999995, 0.001054579, 0.0700000000000001, 539.0, 0.0, 0.0, 4.0, 2516.0, 0.0, 0.0, 1.0, 0.0, 0.0, 0.0, 0.0, 1], [45056.0, 22585344.0, 27111424.0, 27295744.0, 0.00999999999999995, 0.001054579, 0.0700000000000001, 539.0, 0.0, 0.0, 4.0, 2516.0, 0.0, 0.0, 1.0, 0.0, 0.0, 0.0, 0.0, 1], [45056.0, 22585344.0, 27111424.0, 27295744.0, 0.00999999999999995, 0.001054579, 0.0700000000000001, 539.0, 0.0, 0.0, 4.0, 2516.0, 0.0, 0.0, 1.0, 0.0, 0.0, 0.0, 0.0, 1], [45056.0, 22585344.0, 27111424.0, 27295744.0, 0.00999999999999995, 0.001054579, 0.0700000000000001, 539.0, 0.0, 0.0, 4.0, 2516.0, 0.0, 0.0, 1.0, 0.0, 0.0, 0.0, 0.0, 1], [45056.0, 22585344.0, 27111424.0, 27295744.0, 0.00999999999999995, 0.001054579, 0.0700000000000001, 539.0, 0.0, 0.0, 4.0, 2516.0, 0.0, 0.0, 1.0, 0.0, 0.0, 0.0, 0.0, 1], [45056.0, 22585344.0, 27111424.0, 27295744.0, 0.00999999999999995, 0.001054579, 0.0700000000000001, 539.0, 0.0, 0.0, 4.0, 2516.0, 0.0, 0.0, 1.0, 0.0, 0.0, 0.0, 0.0, 1], [45056.0, 22585344.0, 27111424.0, 27295744.0, 0.00999999999999995, 0.001054579, 0.0700000000000001, 539.0, 0.0, 0.0, 4.0, 2516.0, 0.0, 0.0, 1.0, 0.0, 0.0, 0.0, 0.0, 1], [45056.0, 22585344.0, 27111424.0, 27295744.0, 0.00999999999999995, 0.001054579, 0.0700000000000001, 539.0, 0.0, 0.0, 4.0, 2516.0, 0.0, 0.0, 1.0, 0.0, 0.0, 0.0, 0.0, 1], [45056.0, 22585344.0, 27111424.0, 27295744.0, 0.00999999999999995, 0.001054579, 0.0700000000000001, 539.0, 0.0, 0.0, 4.0, 2516.0, 0.0, 0.0, 1.0, 0.0, 0.0, 0.0, 0.0, 1], [45056.0, 22585344.0, 27111424.0, 27295744.0, 0.00999999999999995, 0.001054579, 0.0700000000000001, 539.0, 0.0, 0.0, 4.0, 2516.0, 0.0, 0.0, 1.0, 0.0, 0.0, 0.0, 0.0, 1]], [[45056.0, 22585344.0, 27111424.0, 27295744.0, 0.00999999999999995, 0.001054579, 0.0700000000000001, 539.0, 0.0, 0.0, 4.0, 2516.0, 0.0, 0.0, 1.0, 0.0, 0.0, 0.0, 0.0, 1], [45056.0, 22585344.0, 27111424.0, 27295744.0, 0.00999999999999995, 0.001054579, 0.0700000000000001, 539.0, 0.0, 0.0, 4.0, 2516.0, 0.0, 0.0, 1.0, 0.0, 0.0, 0.0, 0.0, 1], [45056.0, 22585344.0, 27111424.0, 27295744.0, 0.00999999999999995, 0.001054579, 0.0700000000000001, 539.0, 0.0, 0.0, 4.0, 2516.0, 0.0, 0.0, 1.0, 0.0, 0.0, 0.0, 0.0, 1], [45056.0, 22585344.0, 27111424.0, 27295744.0, 0.00999999999999995, 0.001054579, 0.0700000000000001, 539.0, 0.0, 0.0, 4.0, 2516.0, 0.0, 0.0, 1.0, 0.0, 0.0, 0.0, 0.0, 1], [45056.0, 22585344.0, 27111424.0, 27295744.0, 0.00999999999999995, 0.001054579, 0.0700000000000001, 539.0, 0.0, 0.0, 4.0, 2516.0, 0.0, 0.0, 1.0, 0.0, 0.0, 0.0, 0.0, 1], [45056.0, 22585344.0, 27111424.0, 27295744.0, 0.00999999999999995, 0.001054579, 0.0700000000000001, 539.0, 0.0, 0.0, 4.0, 2516.0, 0.0, 0.0, 1.0, 0.0, 0.0, 0.0, 0.0, 1], [45056.0, 22585344.0, 27111424.0, 27295744.0, 0.00999999999999995, 0.001054579, 0.0700000000000001, 539.0, 0.0, 0.0, 4.0, 2516.0, 0.0, 0.0, 1.0, 0.0, 0.0, 0.0, 0.0, 1], [45056.0, 22585344.0, 27111424.0, 27295744.0, 0.00999999999999995, 0.001054579, 0.0700000000000001, 539.0, 0.0, 0.0, 4.0, 2516.0, 0.0, 0.0, 1.0, 0.0, 0.0, 0.0, 0.0, 1], [45056.0, 22585344.0, 27111424.0, 27295744.0, 0.00999999999999995, 0.001054579, 0.0700000000000001, 539.0, 0.0, 0.0, 4.0, 2516.0, 0.0, 0.0, 1.0, 0.0, 0.0, 0.0, 0.0, 1], [45056.0, 22585344.0, 27111424.0, 27295744.0, 0.00999999999999995, 0.001054579, 0.0700000000000001, 539.0, 0.0, 0.0, 4.0, 2516.0, 0.0, 0.0, 1.0, 0.0, 0.0, 0.0, 0.0, 1], [45056.0, 22585344.0, 27111424.0, 27295744.0, 0.00999999999999995, 0.001054579, 0.0700000000000001, 539.0, 0.0, 0.0, 4.0, 2516.0, 0.0, 0.0, 1.0, 0.0, 0.0, 0.0, 0.0, 1], [45056.0, 22585344.0, 27111424.0, 27295744.0, 0.00999999999999995, 0.001054579, 0.0700000000000001, 539.0, 0.0, 0.0, 4.0, 2516.0, 0.0, 0.0, 1.0, 0.0, 0.0, 0.0, 0.0, 1]], [[45056.0, 22585344.0, 27111424.0, 27295744.0, 0.00999999999999995, 0.001054579, 0.0700000000000001, 539.0, 0.0, 0.0, 4.0, 2516.0, 0.0, 0.0, 1.0, 0.0, 0.0, 0.0, 0.0, 1], [45056.0, 22585344.0, 27111424.0, 27295744.0, 0.00999999999999995, 0.001054579, 0.0700000000000001, 539.0, 0.0, 0.0, 4.0, 2516.0, 0.0, 0.0, 1.0, 0.0, 0.0, 0.0, 0.0, 1], [45056.0, 22585344.0, 27111424.0, 27295744.0, 0.00999999999999995, 0.001054579, 0.0700000000000001, 539.0, 0.0, 0.0, 4.0, 2516.0, 0.0, 0.0, 1.0, 0.0, 0.0, 0.0, 0.0, 1], [45056.0, 22585344.0, 27111424.0, 27295744.0, 0.00999999999999995, 0.001054579, 0.0700000000000001, 539.0, 0.0, 0.0, 4.0, 2516.0, 0.0, 0.0, 1.0, 0.0, 0.0, 0.0, 0.0, 1], [45056.0, 22585344.0, 27111424.0, 27295744.0, 0.00999999999999995, 0.001054579, 0.0700000000000001, 539.0, 0.0, 0.0, 4.0, 2516.0, 0.0, 0.0, 1.0, 0.0, 0.0, 0.0, 0.0, 1], [45056.0, 22585344.0, 27111424.0, 27295744.0, 0.00999999999999995, 0.001054579, 0.0700000000000001, 539.0, 0.0, 0.0, 4.0, 2516.0, 0.0, 0.0, 1.0, 0.0, 0.0, 0.0, 0.0, 1], [45056.0, 22585344.0, 27111424.0, 27295744.0, 0.00999999999999995, 0.001054579, 0.0700000000000001, 539.0, 0.0, 0.0, 4.0, 2516.0, 0.0, 0.0, 1.0, 0.0, 0.0, 0.0, 0.0, 1], [45056.0, 22585344.0, 27111424.0, 27295744.0, 0.00999999999999995, 0.001054579, 0.0700000000000001, 539.0, 0.0, 0.0, 4.0, 2516.0, 0.0, 0.0, 1.0, 0.0, 0.0, 0.0, 0.0, 1], [45056.0, 22585344.0, 27111424.0, 27295744.0, 0.00999999999999995, 0.001054579, 0.0700000000000001, 539.0, 0.0, 0.0, 4.0, 2516.0, 0.0, 0.0, 1.0, 0.0, 0.0, 0.0, 0.0, 1], [45056.0, 22585344.0, 27111424.0, 27295744.0, 0.00999999999999995, 0.001054579, 0.0700000000000001, 539.0, 0.0, 0.0, 4.0, 2516.0, 0.0, 0.0, 1.0, 0.0, 0.0, 0.0, 0.0, 1], [45056.0, 22585344.0, 27111424.0, 27295744.0, 0.00999999999999995, 0.001054579, 0.0700000000000001, 539.0, 0.0, 0.0, 4.0, 2516.0, 0.0, 0.0, 1.0, 0.0, 0.0, 0.0, 0.0, 1], [45056.0, 22585344.0, 27111424.0, 27295744.0, 0.00999999999999995, 0.001054579, 0.0700000000000001, 539.0, 0.0, 0.0, 4.0, 2516.0, 0.0, 0.0, 1.0, 0.0, 0.0, 0.0, 0.0, 1]], [[45056.0, 22585344.0, 27111424.0, 27295744.0, 0.00999999999999995, 0.001054579, 0.0700000000000001, 539.0, 0.0, 0.0, 4.0, 2516.0, 0.0, 0.0, 1.0, 0.0, 0.0, 0.0, 0.0, 1], [45056.0, 22585344.0, 27111424.0, 27295744.0, 0.00999999999999995, 0.001054579, 0.0700000000000001, 539.0, 0.0, 0.0, 4.0, 2516.0, 0.0, 0.0, 1.0, 0.0, 0.0, 0.0, 0.0, 1], [45056.0, 22585344.0, 27111424.0, 27295744.0, 0.00999999999999995, 0.001054579, 0.0700000000000001, 539.0, 0.0, 0.0, 4.0, 2516.0, 0.0, 0.0, 1.0, 0.0, 0.0, 0.0, 0.0, 1], [45056.0, 22585344.0, 27111424.0, 27295744.0, 0.00999999999999995, 0.001054579, 0.0700000000000001, 539.0, 0.0, 0.0, 4.0, 2516.0, 0.0, 0.0, 1.0, 0.0, 0.0, 0.0, 0.0, 1], [45056.0, 22585344.0, 27111424.0, 27295744.0, 0.00999999999999995, 0.001054579, 0.0700000000000001, 539.0, 0.0, 0.0, 4.0, 2516.0, 0.0, 0.0, 1.0, 0.0, 0.0, 0.0, 0.0, 1], [45056.0, 22585344.0, 27111424.0, 27295744.0, 0.00999999999999995, 0.001054579, 0.0700000000000001, 539.0, 0.0, 0.0, 4.0, 2516.0, 0.0, 0.0, 1.0, 0.0, 0.0, 0.0, 0.0, 1], [45056.0, 22585344.0, 27111424.0, 27295744.0, 0.00999999999999995, 0.001054579, 0.0700000000000001, 539.0, 0.0, 0.0, 4.0, 2516.0, 0.0, 0.0, 1.0, 0.0, 0.0, 0.0, 0.0, 1], [45056.0, 22585344.0, 27111424.0, 27295744.0, 0.00999999999999995, 0.001054579, 0.0700000000000001, 539.0, 0.0, 0.0, 4.0, 2516.0, 0.0, 0.0, 1.0, 0.0, 0.0, 0.0, 0.0, 1], [45056.0, 22585344.0, 27111424.0, 27295744.0, 0.00999999999999995, 0.001054579, 0.0700000000000001, 539.0, 0.0, 0.0, 4.0, 2516.0, 0.0, 0.0, 1.0, 0.0, 0.0, 0.0, 0.0, 1], [45056.0, 22585344.0, 27111424.0, 27295744.0, 0.00999999999999995, 0.001054579, 0.0700000000000001, 539.0, 0.0, 0.0, 4.0, 2516.0, 0.0, 0.0, 1.0, 0.0, 0.0, 0.0, 0.0, 1], [45056.0, 22585344.0, 27111424.0, 27295744.0, 0.00999999999999995, 0.001054579, 0.0700000000000001, 539.0, 0.0, 0.0, 4.0, 2516.0, 0.0, 0.0, 1.0, 0.0, 0.0, 0.0, 0.0, 1], [45056.0, 22585344.0, 27111424.0, 27295744.0, 0.00999999999999995, 0.001054579, 0.0700000000000001, 539.0, 0.0, 0.0, 4.0, 2516.0, 0.0, 0.0, 1.0, 0.0, 0.0, 0.0, 0.0, 1]], [[45056.0, 22585344.0, 27111424.0, 27295744.0, 0.00999999999999995, 0.001054579, 0.0700000000000001, 539.0, 0.0, 0.0, 4.0, 2516.0, 0.0, 0.0, 1.0, 0.0, 0.0, 0.0, 0.0, 1], [45056.0, 22585344.0, 27111424.0, 27295744.0, 0.00999999999999995, 0.001054579, 0.0700000000000001, 539.0, 0.0, 0.0, 4.0, 2516.0, 0.0, 0.0, 1.0, 0.0, 0.0, 0.0, 0.0, 1], [45056.0, 22585344.0, 27111424.0, 27295744.0, 0.00999999999999995, 0.001054579, 0.0700000000000001, 539.0, 0.0, 0.0, 4.0, 2516.0, 0.0, 0.0, 1.0, 0.0, 0.0, 0.0, 0.0, 1], [45056.0, 22585344.0, 27111424.0, 27295744.0, 0.00999999999999995, 0.001054579, 0.0700000000000001, 539.0, 0.0, 0.0, 4.0, 2516.0, 0.0, 0.0, 1.0, 0.0, 0.0, 0.0, 0.0, 1], [45056.0, 22585344.0, 27111424.0, 27295744.0, 0.00999999999999995, 0.001054579, 0.0700000000000001, 539.0, 0.0, 0.0, 4.0, 2516.0, 0.0, 0.0, 1.0, 0.0, 0.0, 0.0, 0.0, 1], [45056.0, 22585344.0, 27111424.0, 27295744.0, 0.00999999999999995, 0.001054579, 0.0700000000000001, 539.0, 0.0, 0.0, 4.0, 2516.0, 0.0, 0.0, 1.0, 0.0, 0.0, 0.0, 0.0, 1], [45056.0, 22585344.0, 27111424.0, 27295744.0, 0.00999999999999995, 0.001054579, 0.0700000000000001, 539.0, 0.0, 0.0, 4.0, 2516.0, 0.0, 0.0, 1.0, 0.0, 0.0, 0.0, 0.0, 1], [45056.0, 22585344.0, 27111424.0, 27295744.0, 0.00999999999999995, 0.001054579, 0.0700000000000001, 539.0, 0.0, 0.0, 4.0, 2516.0, 0.0, 0.0, 1.0, 0.0, 0.0, 0.0, 0.0, 1], [45056.0, 22585344.0, 27111424.0, 27295744.0, 0.00999999999999995, 0.001054579, 0.0700000000000001, 539.0, 0.0, 0.0, 4.0, 2516.0, 0.0, 0.0, 1.0, 0.0, 0.0, 0.0, 0.0, 1], [45056.0, 22585344.0, 27111424.0, 27295744.0, 0.00999999999999995, 0.001054579, 0.0700000000000001, 539.0, 0.0, 0.0, 4.0, 2516.0, 0.0, 0.0, 1.0, 0.0, 0.0, 0.0, 0.0, 1], [45056.0, 22585344.0, 27111424.0, 27295744.0, 0.00999999999999995, 0.001054579, 0.0700000000000001, 539.0, 0.0, 0.0, 4.0, 2516.0, 0.0, 0.0, 1.0, 0.0, 0.0, 0.0, 0.0, 1], [45056.0, 22585344.0, 27111424.0, 27295744.0, 0.00999999999999995, 0.001054579, 0.0700000000000001, 539.0, 0.0, 0.0, 4.0, 2516.0, 0.0, 0.0, 1.0, 0.0, 0.0, 0.0, 0.0, 1]], [[45056.0, 22585344.0, 27111424.0, 27295744.0, 0.00999999999999995, 0.001054579, 0.0700000000000001, 539.0, 0.0, 0.0, 4.0, 2516.0, 0.0, 0.0, 1.0, 0.0, 0.0, 0.0, 0.0, 1], [45056.0, 22585344.0, 27111424.0, 27295744.0, 0.00999999999999995, 0.001054579, 0.0700000000000001, 539.0, 0.0, 0.0, 4.0, 2516.0, 0.0, 0.0, 1.0, 0.0, 0.0, 0.0, 0.0, 1], [45056.0, 22585344.0, 27111424.0, 27295744.0, 0.00999999999999995, 0.001054579, 0.0700000000000001, 539.0, 0.0, 0.0, 4.0, 2516.0, 0.0, 0.0, 1.0, 0.0, 0.0, 0.0, 0.0, 1], [45056.0, 22585344.0, 27111424.0, 27295744.0, 0.00999999999999995, 0.001054579, 0.0700000000000001, 539.0, 0.0, 0.0, 4.0, 2516.0, 0.0, 0.0, 1.0, 0.0, 0.0, 0.0, 0.0, 1], [45056.0, 22585344.0, 27111424.0, 27295744.0, 0.00999999999999995, 0.001054579, 0.0700000000000001, 539.0, 0.0, 0.0, 4.0, 2516.0, 0.0, 0.0, 1.0, 0.0, 0.0, 0.0, 0.0, 1], [45056.0, 22585344.0, 27111424.0, 27295744.0, 0.00999999999999995, 0.001054579, 0.0700000000000001, 539.0, 0.0, 0.0, 4.0, 2516.0, 0.0, 0.0, 1.0, 0.0, 0.0, 0.0, 0.0, 1], [45056.0, 22585344.0, 27111424.0, 27295744.0, 0.00999999999999995, 0.001054579, 0.0700000000000001, 539.0, 0.0, 0.0, 4.0, 2516.0, 0.0, 0.0, 1.0, 0.0, 0.0, 0.0, 0.0, 1], [45056.0, 22585344.0, 27111424.0, 27295744.0, 0.00999999999999995, 0.001054579, 0.0700000000000001, 539.0, 0.0, 0.0, 4.0, 2516.0, 0.0, 0.0, 1.0, 0.0, 0.0, 0.0, 0.0, 1], [45056.0, 22585344.0, 27111424.0, 27295744.0, 0.00999999999999995, 0.001054579, 0.0700000000000001, 539.0, 0.0, 0.0, 4.0, 2516.0, 0.0, 0.0, 1.0, 0.0, 0.0, 0.0, 0.0, 1], [45056.0, 22585344.0, 27111424.0, 27295744.0, 0.00999999999999995, 0.001054579, 0.0700000000000001, 539.0, 0.0, 0.0, 4.0, 2516.0, 0.0, 0.0, 1.0, 0.0, 0.0, 0.0, 0.0, 1], [45056.0, 22585344.0, 27111424.0, 27295744.0, 0.00999999999999995, 0.001054579, 0.0700000000000001, 539.0, 0.0, 0.0, 4.0, 2516.0, 0.0, 0.0, 1.0, 0.0, 0.0, 0.0, 0.0, 1], [45056.0, 22585344.0, 27111424.0, 27295744.0, 0.00999999999999995, 0.001054579, 0.0700000000000001, 539.0, 0.0, 0.0, 4.0, 2516.0, 0.0, 0.0, 1.0, 0.0, 0.0, 0.0, 0.0, 1]], [[45056.0, 22585344.0, 27111424.0, 27295744.0, 0.00999999999999995, 0.001054579, 0.0700000000000001, 539.0, 0.0, 0.0, 4.0, 2516.0, 0.0, 0.0, 1.0, 0.0, 0.0, 0.0, 0.0, 1], [45056.0, 22585344.0, 27111424.0, 27295744.0, 0.00999999999999995, 0.001054579, 0.0700000000000001, 539.0, 0.0, 0.0, 4.0, 2516.0, 0.0, 0.0, 1.0, 0.0, 0.0, 0.0, 0.0, 1], [45056.0, 22585344.0, 27111424.0, 27295744.0, 0.00999999999999995, 0.001054579, 0.0700000000000001, 539.0, 0.0, 0.0, 4.0, 2516.0, 0.0, 0.0, 1.0, 0.0, 0.0, 0.0, 0.0, 1], [45056.0, 22585344.0, 27111424.0, 27295744.0, 0.00999999999999995, 0.001054579, 0.0700000000000001, 539.0, 0.0, 0.0, 4.0, 2516.0, 0.0, 0.0, 1.0, 0.0, 0.0, 0.0, 0.0, 1], [45056.0, 22585344.0, 27111424.0, 27295744.0, 0.00999999999999995, 0.001054579, 0.0700000000000001, 539.0, 0.0, 0.0, 4.0, 2516.0, 0.0, 0.0, 1.0, 0.0, 0.0, 0.0, 0.0, 1], [45056.0, 22585344.0, 27111424.0, 27295744.0, 0.00999999999999995, 0.001054579, 0.0700000000000001, 539.0, 0.0, 0.0, 4.0, 2516.0, 0.0, 0.0, 1.0, 0.0, 0.0, 0.0, 0.0, 1], [45056.0, 22585344.0, 27111424.0, 27295744.0, 0.00999999999999995, 0.001054579, 0.0700000000000001, 539.0, 0.0, 0.0, 4.0, 2516.0, 0.0, 0.0, 1.0, 0.0, 0.0, 0.0, 0.0, 1], [45056.0, 22585344.0, 27111424.0, 27295744.0, 0.00999999999999995, 0.001054579, 0.0700000000000001, 539.0, 0.0, 0.0, 4.0, 2516.0, 0.0, 0.0, 1.0, 0.0, 0.0, 0.0, 0.0, 1], [45056.0, 22585344.0, 27111424.0, 27295744.0, 0.00999999999999995, 0.001054579, 0.0700000000000001, 539.0, 0.0, 0.0, 4.0, 2516.0, 0.0, 0.0, 1.0, 0.0, 0.0, 0.0, 0.0, 1], [45056.0, 22585344.0, 27111424.0, 27295744.0, 0.00999999999999995, 0.001054579, 0.0700000000000001, 539.0, 0.0, 0.0, 4.0, 2516.0, 0.0, 0.0, 1.0, 0.0, 0.0, 0.0, 0.0, 1], [45056.0, 22585344.0, 27111424.0, 27295744.0, 0.00999999999999995, 0.001054579, 0.0700000000000001, 539.0, 0.0, 0.0, 4.0, 2516.0, 0.0, 0.0, 1.0, 0.0, 0.0, 0.0, 0.0, 1], [45056.0, 22585344.0, 27111424.0, 27295744.0, 0.00999999999999995, 0.001054579, 0.0700000000000001, 539.0, 0.0, 0.0, 4.0, 2516.0, 0.0, 0.0, 1.0, 0.0, 0.0, 0.0, 0.0, 1]], [[45056.0, 22585344.0, 27111424.0, 27295744.0, 0.00999999999999995, 0.001054579, 0.0700000000000001, 539.0, 0.0, 0.0, 4.0, 2516.0, 0.0, 0.0, 1.0, 0.0, 0.0, 0.0, 0.0, 1], [45056.0, 22585344.0, 27111424.0, 27295744.0, 0.00999999999999995, 0.001054579, 0.0700000000000001, 539.0, 0.0, 0.0, 4.0, 2516.0, 0.0, 0.0, 1.0, 0.0, 0.0, 0.0, 0.0, 1], [45056.0, 22585344.0, 27111424.0, 27295744.0, 0.00999999999999995, 0.001054579, 0.0700000000000001, 539.0, 0.0, 0.0, 4.0, 2516.0, 0.0, 0.0, 1.0, 0.0, 0.0, 0.0, 0.0, 1], [45056.0, 22585344.0, 27111424.0, 27295744.0, 0.00999999999999995, 0.001054579, 0.0700000000000001, 539.0, 0.0, 0.0, 4.0, 2516.0, 0.0, 0.0, 1.0, 0.0, 0.0, 0.0, 0.0, 1], [45056.0, 22585344.0, 27111424.0, 27295744.0, 0.00999999999999995, 0.001054579, 0.0700000000000001, 539.0, 0.0, 0.0, 4.0, 2516.0, 0.0, 0.0, 1.0, 0.0, 0.0, 0.0, 0.0, 1], [45056.0, 22585344.0, 27111424.0, 27295744.0, 0.00999999999999995, 0.001054579, 0.0700000000000001, 539.0, 0.0, 0.0, 4.0, 2516.0, 0.0, 0.0, 1.0, 0.0, 0.0, 0.0, 0.0, 1], [45056.0, 22585344.0, 27111424.0, 27295744.0, 0.00999999999999995, 0.001054579, 0.0700000000000001, 539.0, 0.0, 0.0, 4.0, 2516.0, 0.0, 0.0, 1.0, 0.0, 0.0, 0.0, 0.0, 1], [45056.0, 22585344.0, 27111424.0, 27295744.0, 0.00999999999999995, 0.001054579, 0.0700000000000001, 539.0, 0.0, 0.0, 4.0, 2516.0, 0.0, 0.0, 1.0, 0.0, 0.0, 0.0, 0.0, 1], [45056.0, 22585344.0, 27111424.0, 27295744.0, 0.00999999999999995, 0.001054579, 0.0700000000000001, 539.0, 0.0, 0.0, 4.0, 2516.0, 0.0, 0.0, 1.0, 0.0, 0.0, 0.0, 0.0, 1], [45056.0, 22585344.0, 27111424.0, 27295744.0, 0.00999999999999995, 0.001054579, 0.0700000000000001, 539.0, 0.0, 0.0, 4.0, 2516.0, 0.0, 0.0, 1.0, 0.0, 0.0, 0.0, 0.0, 1], [45056.0, 22585344.0, 27111424.0, 27295744.0, 0.00999999999999995, 0.001054579, 0.0700000000000001, 539.0, 0.0, 0.0, 4.0, 2516.0, 0.0, 0.0, 1.0, 0.0, 0.0, 0.0, 0.0, 1], [45056.0, 22585344.0, 27111424.0, 27295744.0, 0.00999999999999995, 0.001054579, 0.0700000000000001, 539.0, 0.0, 0.0, 4.0, 2516.0, 0.0, 0.0, 1.0, 0.0, 0.0, 0.0, 0.0, 1]], [[45056.0, 22585344.0, 27111424.0, 27295744.0, 0.00999999999999995, 0.001054579, 0.0700000000000001, 539.0, 0.0, 0.0, 4.0, 2516.0, 0.0, 0.0, 1.0, 0.0, 0.0, 0.0, 0.0, 1], [45056.0, 22585344.0, 27111424.0, 27295744.0, 0.00999999999999995, 0.001054579, 0.0700000000000001, 539.0, 0.0, 0.0, 4.0, 2516.0, 0.0, 0.0, 1.0, 0.0, 0.0, 0.0, 0.0, 1], [45056.0, 22585344.0, 27111424.0, 27295744.0, 0.00999999999999995, 0.001054579, 0.0700000000000001, 539.0, 0.0, 0.0, 4.0, 2516.0, 0.0, 0.0, 1.0, 0.0, 0.0, 0.0, 0.0, 1], [45056.0, 22585344.0, 27111424.0, 27295744.0, 0.00999999999999995, 0.001054579, 0.0700000000000001, 539.0, 0.0, 0.0, 4.0, 2516.0, 0.0, 0.0, 1.0, 0.0, 0.0, 0.0, 0.0, 1], [45056.0, 22585344.0, 27111424.0, 27295744.0, 0.00999999999999995, 0.001054579, 0.0700000000000001, 539.0, 0.0, 0.0, 4.0, 2516.0, 0.0, 0.0, 1.0, 0.0, 0.0, 0.0, 0.0, 1], [45056.0, 22585344.0, 27111424.0, 27295744.0, 0.00999999999999995, 0.001054579, 0.0700000000000001, 539.0, 0.0, 0.0, 4.0, 2516.0, 0.0, 0.0, 1.0, 0.0, 0.0, 0.0, 0.0, 1], [45056.0, 22585344.0, 27111424.0, 27295744.0, 0.00999999999999995, 0.001054579, 0.0700000000000001, 539.0, 0.0, 0.0, 4.0, 2516.0, 0.0, 0.0, 1.0, 0.0, 0.0, 0.0, 0.0, 1], [45056.0, 22585344.0, 27111424.0, 27295744.0, 0.00999999999999995, 0.001054579, 0.0700000000000001, 539.0, 0.0, 0.0, 4.0, 2516.0, 0.0, 0.0, 1.0, 0.0, 0.0, 0.0, 0.0, 1], [45056.0, 22585344.0, 27111424.0, 27295744.0, 0.00999999999999995, 0.001054579, 0.0700000000000001, 539.0, 0.0, 0.0, 4.0, 2516.0, 0.0, 0.0, 1.0, 0.0, 0.0, 0.0, 0.0, 1], [45056.0, 22585344.0, 27111424.0, 27295744.0, 0.00999999999999995, 0.001054579, 0.0700000000000001, 539.0, 0.0, 0.0, 4.0, 2516.0, 0.0, 0.0, 1.0, 0.0, 0.0, 0.0, 0.0, 1], [45056.0, 22585344.0, 27111424.0, 27295744.0, 0.00999999999999995, 0.001054579, 0.0700000000000001, 539.0, 0.0, 0.0, 4.0, 2516.0, 0.0, 0.0, 1.0, 0.0, 0.0, 0.0, 0.0, 1], [45056.0, 22585344.0, 27111424.0, 27295744.0, 0.00999999999999995, 0.001054579, 0.0700000000000001, 539.0, 0.0, 0.0, 4.0, 2516.0, 0.0, 0.0, 1.0, 0.0, 0.0, 0.0, 0.0, 1]], [[45056.0, 22585344.0, 27111424.0, 27295744.0, 0.00999999999999995, 0.001054579, 0.0700000000000001, 539.0, 0.0, 0.0, 4.0, 2516.0, 0.0, 0.0, 1.0, 0.0, 0.0, 0.0, 0.0, 1], [45056.0, 22585344.0, 27111424.0, 27295744.0, 0.00999999999999995, 0.001054579, 0.0700000000000001, 539.0, 0.0, 0.0, 4.0, 2516.0, 0.0, 0.0, 1.0, 0.0, 0.0, 0.0, 0.0, 1], [45056.0, 22585344.0, 27111424.0, 27295744.0, 0.00999999999999995, 0.001054579, 0.0700000000000001, 539.0, 0.0, 0.0, 4.0, 2516.0, 0.0, 0.0, 1.0, 0.0, 0.0, 0.0, 0.0, 1], [45056.0, 22585344.0, 27111424.0, 27295744.0, 0.00999999999999995, 0.001054579, 0.0700000000000001, 539.0, 0.0, 0.0, 4.0, 2516.0, 0.0, 0.0, 1.0, 0.0, 0.0, 0.0, 0.0, 1], [45056.0, 22585344.0, 27111424.0, 27295744.0, 0.00999999999999995, 0.001054579, 0.0700000000000001, 539.0, 0.0, 0.0, 4.0, 2516.0, 0.0, 0.0, 1.0, 0.0, 0.0, 0.0, 0.0, 1], [45056.0, 22585344.0, 27111424.0, 27295744.0, 0.00999999999999995, 0.001054579, 0.0700000000000001, 539.0, 0.0, 0.0, 4.0, 2516.0, 0.0, 0.0, 1.0, 0.0, 0.0, 0.0, 0.0, 1], [45056.0, 22585344.0, 27111424.0, 27295744.0, 0.00999999999999995, 0.001054579, 0.0700000000000001, 539.0, 0.0, 0.0, 4.0, 2516.0, 0.0, 0.0, 1.0, 0.0, 0.0, 0.0, 0.0, 1], [45056.0, 22585344.0, 27111424.0, 27295744.0, 0.00999999999999995, 0.001054579, 0.0700000000000001, 539.0, 0.0, 0.0, 4.0, 2516.0, 0.0, 0.0, 1.0, 0.0, 0.0, 0.0, 0.0, 1], [45056.0, 22585344.0, 27111424.0, 27295744.0, 0.00999999999999995, 0.001054579, 0.0700000000000001, 539.0, 0.0, 0.0, 4.0, 2516.0, 0.0, 0.0, 1.0, 0.0, 0.0, 0.0, 0.0, 1], [45056.0, 22585344.0, 27111424.0, 27295744.0, 0.00999999999999995, 0.001054579, 0.0700000000000001, 539.0, 0.0, 0.0, 4.0, 2516.0, 0.0, 0.0, 1.0, 0.0, 0.0, 0.0, 0.0, 1], [45056.0, 22585344.0, 27111424.0, 27295744.0, 0.00999999999999995, 0.001054579, 0.0700000000000001, 539.0, 0.0, 0.0, 4.0, 2516.0, 0.0, 0.0, 1.0, 0.0, 0.0, 0.0, 0.0, 1], [45056.0, 22585344.0, 27111424.0, 27295744.0, 0.00999999999999995, 0.001054579, 0.0700000000000001, 539.0, 0.0, 0.0, 4.0, 2516.0, 0.0, 0.0, 1.0, 0.0, 0.0, 0.0, 0.0, 1]], [[45056.0, 22585344.0, 27111424.0, 27295744.0, 0.00999999999999995, 0.001054579, 0.0700000000000001, 539.0, 0.0, 0.0, 4.0, 2516.0, 0.0, 0.0, 1.0, 0.0, 0.0, 0.0, 0.0, 1], [45056.0, 22585344.0, 27111424.0, 27295744.0, 0.00999999999999995, 0.001054579, 0.0700000000000001, 539.0, 0.0, 0.0, 4.0, 2516.0, 0.0, 0.0, 1.0, 0.0, 0.0, 0.0, 0.0, 1], [45056.0, 22585344.0, 27111424.0, 27295744.0, 0.00999999999999995, 0.001054579, 0.0700000000000001, 539.0, 0.0, 0.0, 4.0, 2516.0, 0.0, 0.0, 1.0, 0.0, 0.0, 0.0, 0.0, 1], [45056.0, 22585344.0, 27111424.0, 27295744.0, 0.00999999999999995, 0.001054579, 0.0700000000000001, 539.0, 0.0, 0.0, 4.0, 2516.0, 0.0, 0.0, 1.0, 0.0, 0.0, 0.0, 0.0, 1], [45056.0, 22585344.0, 27111424.0, 27295744.0, 0.00999999999999995, 0.001054579, 0.0700000000000001, 539.0, 0.0, 0.0, 4.0, 2516.0, 0.0, 0.0, 1.0, 0.0, 0.0, 0.0, 0.0, 1], [45056.0, 22585344.0, 27111424.0, 27295744.0, 0.00999999999999995, 0.001054579, 0.0700000000000001, 539.0, 0.0, 0.0, 4.0, 2516.0, 0.0, 0.0, 1.0, 0.0, 0.0, 0.0, 0.0, 1], [45056.0, 22585344.0, 27111424.0, 27295744.0, 0.00999999999999995, 0.001054579, 0.0700000000000001, 539.0, 0.0, 0.0, 4.0, 2516.0, 0.0, 0.0, 1.0, 0.0, 0.0, 0.0, 0.0, 1], [45056.0, 22585344.0, 27111424.0, 27295744.0, 0.00999999999999995, 0.001054579, 0.0700000000000001, 539.0, 0.0, 0.0, 4.0, 2516.0, 0.0, 0.0, 1.0, 0.0, 0.0, 0.0, 0.0, 1], [45056.0, 22585344.0, 27111424.0, 27295744.0, 0.00999999999999995, 0.001054579, 0.0700000000000001, 539.0, 0.0, 0.0, 4.0, 2516.0, 0.0, 0.0, 1.0, 0.0, 0.0, 0.0, 0.0, 1], [45056.0, 22585344.0, 27111424.0, 27295744.0, 0.00999999999999995, 0.001054579, 0.0700000000000001, 539.0, 0.0, 0.0, 4.0, 2516.0, 0.0, 0.0, 1.0, 0.0, 0.0, 0.0, 0.0, 1], [45056.0, 22585344.0, 27111424.0, 27295744.0, 0.00999999999999995, 0.001054579, 0.0700000000000001, 539.0, 0.0, 0.0, 4.0, 2516.0, 0.0, 0.0, 1.0, 0.0, 0.0, 0.0, 0.0, 1], [45056.0, 22585344.0, 27111424.0, 27295744.0, 0.00999999999999995, 0.001054579, 0.0700000000000001, 539.0, 0.0, 0.0, 4.0, 2516.0, 0.0, 0.0, 1.0, 0.0, 0.0, 0.0, 0.0, 1]], [[45056.0, 22585344.0, 27111424.0, 27295744.0, 0.00999999999999995, 0.001054579, 0.0700000000000001, 539.0, 0.0, 0.0, 4.0, 2516.0, 0.0, 0.0, 1.0, 0.0, 0.0, 0.0, 0.0, 1], [45056.0, 22585344.0, 27111424.0, 27295744.0, 0.00999999999999995, 0.001054579, 0.0700000000000001, 539.0, 0.0, 0.0, 4.0, 2516.0, 0.0, 0.0, 1.0, 0.0, 0.0, 0.0, 0.0, 1], [45056.0, 22585344.0, 27111424.0, 27295744.0, 0.00999999999999995, 0.001054579, 0.0700000000000001, 539.0, 0.0, 0.0, 4.0, 2516.0, 0.0, 0.0, 1.0, 0.0, 0.0, 0.0, 0.0, 1], [45056.0, 22585344.0, 27111424.0, 27295744.0, 0.00999999999999995, 0.001054579, 0.0700000000000001, 539.0, 0.0, 0.0, 4.0, 2516.0, 0.0, 0.0, 1.0, 0.0, 0.0, 0.0, 0.0, 1], [45056.0, 22585344.0, 27111424.0, 27295744.0, 0.00999999999999995, 0.001054579, 0.0700000000000001, 539.0, 0.0, 0.0, 4.0, 2516.0, 0.0, 0.0, 1.0, 0.0, 0.0, 0.0, 0.0, 1], [45056.0, 22585344.0, 27111424.0, 27295744.0, 0.00999999999999995, 0.001054579, 0.0700000000000001, 539.0, 0.0, 0.0, 4.0, 2516.0, 0.0, 0.0, 1.0, 0.0, 0.0, 0.0, 0.0, 1], [45056.0, 22585344.0, 27111424.0, 27295744.0, 0.00999999999999995, 0.001054579, 0.0700000000000001, 539.0, 0.0, 0.0, 4.0, 2516.0, 0.0, 0.0, 1.0, 0.0, 0.0, 0.0, 0.0, 1], [45056.0, 22585344.0, 27111424.0, 27295744.0, 0.00999999999999995, 0.001054579, 0.0700000000000001, 539.0, 0.0, 0.0, 4.0, 2516.0, 0.0, 0.0, 1.0, 0.0, 0.0, 0.0, 0.0, 1], [45056.0, 22585344.0, 27111424.0, 27295744.0, 0.00999999999999995, 0.001054579, 0.0700000000000001, 539.0, 0.0, 0.0, 4.0, 2516.0, 0.0, 0.0, 1.0, 0.0, 0.0, 0.0, 0.0, 1], [45056.0, 22585344.0, 27111424.0, 27295744.0, 0.00999999999999995, 0.001054579, 0.0700000000000001, 539.0, 0.0, 0.0, 4.0, 2516.0, 0.0, 0.0, 1.0, 0.0, 0.0, 0.0, 0.0, 1], [45056.0, 22585344.0, 27111424.0, 27295744.0, 0.00999999999999995, 0.001054579, 0.0700000000000001, 539.0, 0.0, 0.0, 4.0, 2516.0, 0.0, 0.0, 1.0, 0.0, 0.0, 0.0, 0.0, 1], [45056.0, 22585344.0, 27111424.0, 27295744.0, 0.00999999999999995, 0.001054579, 0.0700000000000001, 539.0, 0.0, 0.0, 4.0, 2516.0, 0.0, 0.0, 1.0, 0.0, 0.0, 0.0, 0.0, 1]], [[45056.0, 22585344.0, 27111424.0, 27295744.0, 0.00999999999999995, 0.001054579, 0.0700000000000001, 539.0, 0.0, 0.0, 4.0, 2516.0, 0.0, 0.0, 1.0, 0.0, 0.0, 0.0, 0.0, 1], [45056.0, 22585344.0, 27111424.0, 27295744.0, 0.00999999999999995, 0.001054579, 0.0700000000000001, 539.0, 0.0, 0.0, 4.0, 2516.0, 0.0, 0.0, 1.0, 0.0, 0.0, 0.0, 0.0, 1], [45056.0, 22585344.0, 27111424.0, 27295744.0, 0.00999999999999995, 0.001054579, 0.0700000000000001, 539.0, 0.0, 0.0, 4.0, 2516.0, 0.0, 0.0, 1.0, 0.0, 0.0, 0.0, 0.0, 1], [45056.0, 22585344.0, 27111424.0, 27295744.0, 0.00999999999999995, 0.001054579, 0.0700000000000001, 539.0, 0.0, 0.0, 4.0, 2516.0, 0.0, 0.0, 1.0, 0.0, 0.0, 0.0, 0.0, 1], [45056.0, 22585344.0, 27111424.0, 27295744.0, 0.00999999999999995, 0.001054579, 0.0700000000000001, 539.0, 0.0, 0.0, 4.0, 2516.0, 0.0, 0.0, 1.0, 0.0, 0.0, 0.0, 0.0, 1], [45056.0, 22585344.0, 27111424.0, 27295744.0, 0.00999999999999995, 0.001054579, 0.0700000000000001, 539.0, 0.0, 0.0, 4.0, 2516.0, 0.0, 0.0, 1.0, 0.0, 0.0, 0.0, 0.0, 1], [45056.0, 22585344.0, 27111424.0, 27295744.0, 0.00999999999999995, 0.001054579, 0.0700000000000001, 539.0, 0.0, 0.0, 4.0, 2516.0, 0.0, 0.0, 1.0, 0.0, 0.0, 0.0, 0.0, 1], [45056.0, 22585344.0, 27111424.0, 27295744.0, 0.00999999999999995, 0.001054579, 0.0700000000000001, 539.0, 0.0, 0.0, 4.0, 2516.0, 0.0, 0.0, 1.0, 0.0, 0.0, 0.0, 0.0, 1], [45056.0, 22585344.0, 27111424.0, 27295744.0, 0.00999999999999995, 0.001054579, 0.0700000000000001, 539.0, 0.0, 0.0, 4.0, 2516.0, 0.0, 0.0, 1.0, 0.0, 0.0, 0.0, 0.0, 1], [45056.0, 22585344.0, 27111424.0, 27295744.0, 0.00999999999999995, 0.001054579, 0.0700000000000001, 539.0, 0.0, 0.0, 4.0, 2516.0, 0.0, 0.0, 1.0, 0.0, 0.0, 0.0, 0.0, 1], [45056.0, 22585344.0, 27111424.0, 27295744.0, 0.00999999999999995, 0.001054579, 0.0700000000000001, 539.0, 0.0, 0.0, 4.0, 2516.0, 0.0, 0.0, 1.0, 0.0, 0.0, 0.0, 0.0, 1], [45056.0, 22585344.0, 27111424.0, 27295744.0, 0.00999999999999995, 0.001054579, 0.0700000000000001, 539.0, 0.0, 0.0, 4.0, 2516.0, 0.0, 0.0, 1.0, 0.0, 0.0, 0.0, 0.0, 1]], [[45056.0, 22585344.0, 27111424.0, 27295744.0, 0.00999999999999995, 0.001054579, 0.0700000000000001, 539.0, 0.0, 0.0, 4.0, 2516.0, 0.0, 0.0, 1.0, 0.0, 0.0, 0.0, 0.0, 1], [45056.0, 22585344.0, 27111424.0, 27295744.0, 0.00999999999999995, 0.001054579, 0.0700000000000001, 539.0, 0.0, 0.0, 4.0, 2516.0, 0.0, 0.0, 1.0, 0.0, 0.0, 0.0, 0.0, 1], [45056.0, 22585344.0, 27111424.0, 27295744.0, 0.00999999999999995, 0.001054579, 0.0700000000000001, 539.0, 0.0, 0.0, 4.0, 2516.0, 0.0, 0.0, 1.0, 0.0, 0.0, 0.0, 0.0, 1], [45056.0, 22585344.0, 27111424.0, 27295744.0, 0.00999999999999995, 0.001054579, 0.0700000000000001, 539.0, 0.0, 0.0, 4.0, 2516.0, 0.0, 0.0, 1.0, 0.0, 0.0, 0.0, 0.0, 1], [45056.0, 22585344.0, 27111424.0, 27295744.0, 0.00999999999999995, 0.001054579, 0.0700000000000001, 539.0, 0.0, 0.0, 4.0, 2516.0, 0.0, 0.0, 1.0, 0.0, 0.0, 0.0, 0.0, 1], [45056.0, 22585344.0, 27111424.0, 27295744.0, 0.00999999999999995, 0.001054579, 0.0700000000000001, 539.0, 0.0, 0.0, 4.0, 2516.0, 0.0, 0.0, 1.0, 0.0, 0.0, 0.0, 0.0, 1], [45056.0, 22585344.0, 27111424.0, 27295744.0, 0.00999999999999995, 0.001054579, 0.0700000000000001, 539.0, 0.0, 0.0, 4.0, 2516.0, 0.0, 0.0, 1.0, 0.0, 0.0, 0.0, 0.0, 1], [45056.0, 22585344.0, 27111424.0, 27295744.0, 0.00999999999999995, 0.001054579, 0.0700000000000001, 539.0, 0.0, 0.0, 4.0, 2516.0, 0.0, 0.0, 1.0, 0.0, 0.0, 0.0, 0.0, 1], [45056.0, 22585344.0, 27111424.0, 27295744.0, 0.00999999999999995, 0.001054579, 0.0700000000000001, 539.0, 0.0, 0.0, 4.0, 2516.0, 0.0, 0.0, 1.0, 0.0, 0.0, 0.0, 0.0, 1], [45056.0, 22585344.0, 27111424.0, 27295744.0, 0.00999999999999995, 0.001054579, 0.0700000000000001, 539.0, 0.0, 0.0, 4.0, 2516.0, 0.0, 0.0, 1.0, 0.0, 0.0, 0.0, 0.0, 1], [45056.0, 22585344.0, 27111424.0, 27295744.0, 0.00999999999999995, 0.001054579, 0.0700000000000001, 539.0, 0.0, 0.0, 4.0, 2516.0, 0.0, 0.0, 1.0, 0.0, 0.0, 0.0, 0.0, 1], [45056.0, 22585344.0, 27111424.0, 27295744.0, 0.00999999999999995, 0.001054579, 0.0700000000000001, 539.0, 0.0, 0.0, 4.0, 2516.0, 0.0, 0.0, 1.0, 0.0, 0.0, 0.0, 0.0, 1]], [[45056.0, 22585344.0, 27111424.0, 27295744.0, 0.00999999999999995, 0.001054579, 0.0700000000000001, 539.0, 0.0, 0.0, 4.0, 2516.0, 0.0, 0.0, 1.0, 0.0, 0.0, 0.0, 0.0, 1], [45056.0, 22585344.0, 27111424.0, 27295744.0, 0.00999999999999995, 0.001054579, 0.0700000000000001, 539.0, 0.0, 0.0, 4.0, 2516.0, 0.0, 0.0, 1.0, 0.0, 0.0, 0.0, 0.0, 1], [45056.0, 22585344.0, 27111424.0, 27295744.0, 0.00999999999999995, 0.001054579, 0.0700000000000001, 539.0, 0.0, 0.0, 4.0, 2516.0, 0.0, 0.0, 1.0, 0.0, 0.0, 0.0, 0.0, 1], [45056.0, 22585344.0, 27111424.0, 27295744.0, 0.00999999999999995, 0.001054579, 0.0700000000000001, 539.0, 0.0, 0.0, 4.0, 2516.0, 0.0, 0.0, 1.0, 0.0, 0.0, 0.0, 0.0, 1], [45056.0, 22585344.0, 27111424.0, 27295744.0, 0.00999999999999995, 0.001054579, 0.0700000000000001, 539.0, 0.0, 0.0, 4.0, 2516.0, 0.0, 0.0, 1.0, 0.0, 0.0, 0.0, 0.0, 1], [45056.0, 22585344.0, 27111424.0, 27295744.0, 0.00999999999999995, 0.001054579, 0.0700000000000001, 539.0, 0.0, 0.0, 4.0, 2516.0, 0.0, 0.0, 1.0, 0.0, 0.0, 0.0, 0.0, 1], [45056.0, 22585344.0, 27111424.0, 27295744.0, 0.00999999999999995, 0.001054579, 0.0700000000000001, 539.0, 0.0, 0.0, 4.0, 2516.0, 0.0, 0.0, 1.0, 0.0, 0.0, 0.0, 0.0, 1], [45056.0, 22585344.0, 27111424.0, 27295744.0, 0.00999999999999995, 0.001054579, 0.0700000000000001, 539.0, 0.0, 0.0, 4.0, 2516.0, 0.0, 0.0, 1.0, 0.0, 0.0, 0.0, 0.0, 1], [45056.0, 22585344.0, 27111424.0, 27295744.0, 0.00999999999999995, 0.001054579, 0.0700000000000001, 539.0, 0.0, 0.0, 4.0, 2516.0, 0.0, 0.0, 1.0, 0.0, 0.0, 0.0, 0.0, 1], [45056.0, 22585344.0, 27111424.0, 27295744.0, 0.00999999999999995, 0.001054579, 0.0700000000000001, 539.0, 0.0, 0.0, 4.0, 2516.0, 0.0, 0.0, 1.0, 0.0, 0.0, 0.0, 0.0, 1], [45056.0, 22585344.0, 27111424.0, 27295744.0, 0.00999999999999995, 0.001054579, 0.0700000000000001, 539.0, 0.0, 0.0, 4.0, 2516.0, 0.0, 0.0, 1.0, 0.0, 0.0, 0.0, 0.0, 1], [45056.0, 22585344.0, 27111424.0, 27295744.0, 0.00999999999999995, 0.001054579, 0.0700000000000001, 539.0, 0.0, 0.0, 4.0, 2516.0, 0.0, 0.0, 1.0, 0.0, 0.0, 0.0, 0.0, 1]], [[45056.0, 22585344.0, 27111424.0, 27295744.0, 0.00999999999999995, 0.001054579, 0.0700000000000001, 539.0, 0.0, 0.0, 4.0, 2516.0, 0.0, 0.0, 1.0, 0.0, 0.0, 0.0, 0.0, 1], [45056.0, 22585344.0, 27111424.0, 27295744.0, 0.00999999999999995, 0.001054579, 0.0700000000000001, 539.0, 0.0, 0.0, 4.0, 2516.0, 0.0, 0.0, 1.0, 0.0, 0.0, 0.0, 0.0, 1], [45056.0, 22585344.0, 27111424.0, 27295744.0, 0.00999999999999995, 0.001054579, 0.0700000000000001, 539.0, 0.0, 0.0, 4.0, 2516.0, 0.0, 0.0, 1.0, 0.0, 0.0, 0.0, 0.0, 1], [45056.0, 22585344.0, 27111424.0, 27295744.0, 0.00999999999999995, 0.001054579, 0.0700000000000001, 539.0, 0.0, 0.0, 4.0, 2516.0, 0.0, 0.0, 1.0, 0.0, 0.0, 0.0, 0.0, 1], [45056.0, 22585344.0, 27111424.0, 27295744.0, 0.00999999999999995, 0.001054579, 0.0700000000000001, 539.0, 0.0, 0.0, 4.0, 2516.0, 0.0, 0.0, 1.0, 0.0, 0.0, 0.0, 0.0, 1], [45056.0, 22585344.0, 27111424.0, 27295744.0, 0.00999999999999995, 0.001054579, 0.0700000000000001, 539.0, 0.0, 0.0, 4.0, 2516.0, 0.0, 0.0, 1.0, 0.0, 0.0, 0.0, 0.0, 1], [45056.0, 22585344.0, 27111424.0, 27295744.0, 0.00999999999999995, 0.001054579, 0.0700000000000001, 539.0, 0.0, 0.0, 4.0, 2516.0, 0.0, 0.0, 1.0, 0.0, 0.0, 0.0, 0.0, 1], [45056.0, 22585344.0, 27111424.0, 27295744.0, 0.00999999999999995, 0.001054579, 0.0700000000000001, 539.0, 0.0, 0.0, 4.0, 2516.0, 0.0, 0.0, 1.0, 0.0, 0.0, 0.0, 0.0, 1], [45056.0, 22585344.0, 27111424.0, 27295744.0, 0.00999999999999995, 0.001054579, 0.0700000000000001, 539.0, 0.0, 0.0, 4.0, 2516.0, 0.0, 0.0, 1.0, 0.0, 0.0, 0.0, 0.0, 1], [45056.0, 22585344.0, 27111424.0, 27295744.0, 0.00999999999999995, 0.001054579, 0.0700000000000001, 539.0, 0.0, 0.0, 4.0, 2516.0, 0.0, 0.0, 1.0, 0.0, 0.0, 0.0, 0.0, 1], [45056.0, 22585344.0, 27111424.0, 27295744.0, 0.00999999999999995, 0.001054579, 0.0700000000000001, 539.0, 0.0, 0.0, 4.0, 2516.0, 0.0, 0.0, 1.0, 0.0, 0.0, 0.0, 0.0, 1], [45056.0, 22585344.0, 27111424.0, 27295744.0, 0.00999999999999995, 0.001054579, 0.0700000000000001, 539.0, 0.0, 0.0, 4.0, 2516.0, 0.0, 0.0, 1.0, 0.0, 0.0, 0.0, 0.0, 1]], [[45056.0, 22585344.0, 27111424.0, 27295744.0, 0.00999999999999995, 0.001054579, 0.0700000000000001, 539.0, 0.0, 0.0, 4.0, 2516.0, 0.0, 0.0, 1.0, 0.0, 0.0, 0.0, 0.0, 1], [45056.0, 22585344.0, 27111424.0, 27295744.0, 0.00999999999999995, 0.001054579, 0.0700000000000001, 539.0, 0.0, 0.0, 4.0, 2516.0, 0.0, 0.0, 1.0, 0.0, 0.0, 0.0, 0.0, 1], [45056.0, 22585344.0, 27111424.0, 27295744.0, 0.00999999999999995, 0.001054579, 0.0700000000000001, 539.0, 0.0, 0.0, 4.0, 2516.0, 0.0, 0.0, 1.0, 0.0, 0.0, 0.0, 0.0, 1], [45056.0, 22585344.0, 27111424.0, 27295744.0, 0.00999999999999995, 0.001054579, 0.0700000000000001, 539.0, 0.0, 0.0, 4.0, 2516.0, 0.0, 0.0, 1.0, 0.0, 0.0, 0.0, 0.0, 1], [45056.0, 22585344.0, 27111424.0, 27295744.0, 0.00999999999999995, 0.001054579, 0.0700000000000001, 539.0, 0.0, 0.0, 4.0, 2516.0, 0.0, 0.0, 1.0, 0.0, 0.0, 0.0, 0.0, 1], [45056.0, 22585344.0, 27111424.0, 27295744.0, 0.00999999999999995, 0.001054579, 0.0700000000000001, 539.0, 0.0, 0.0, 4.0, 2516.0, 0.0, 0.0, 1.0, 0.0, 0.0, 0.0, 0.0, 1], [45056.0, 22585344.0, 27111424.0, 27295744.0, 0.00999999999999995, 0.001054579, 0.0700000000000001, 539.0, 0.0, 0.0, 4.0, 2516.0, 0.0, 0.0, 1.0, 0.0, 0.0, 0.0, 0.0, 1], [45056.0, 22585344.0, 27111424.0, 27295744.0, 0.00999999999999995, 0.001054579, 0.0700000000000001, 539.0, 0.0, 0.0, 4.0, 2516.0, 0.0, 0.0, 1.0, 0.0, 0.0, 0.0, 0.0, 1], [45056.0, 22585344.0, 27111424.0, 27295744.0, 0.00999999999999995, 0.001054579, 0.0700000000000001, 539.0, 0.0, 0.0, 4.0, 2516.0, 0.0, 0.0, 1.0, 0.0, 0.0, 0.0, 0.0, 1], [45056.0, 22585344.0, 27111424.0, 27295744.0, 0.00999999999999995, 0.001054579, 0.0700000000000001, 539.0, 0.0, 0.0, 4.0, 2516.0, 0.0, 0.0, 1.0, 0.0, 0.0, 0.0, 0.0, 1], [45056.0, 22585344.0, 27111424.0, 27295744.0, 0.00999999999999995, 0.001054579, 0.0700000000000001, 539.0, 0.0, 0.0, 4.0, 2516.0, 0.0, 0.0, 1.0, 0.0, 0.0, 0.0, 0.0, 1], [45056.0, 22585344.0, 27111424.0, 27295744.0, 0.00999999999999995, 0.001054579, 0.0700000000000001, 539.0, 0.0, 0.0, 4.0, 2516.0, 0.0, 0.0, 1.0, 0.0, 0.0, 0.0, 0.0, 1]], [[45056.0, 22585344.0, 27111424.0, 27295744.0, 0.00999999999999995, 0.001054579, 0.0700000000000001, 539.0, 0.0, 0.0, 4.0, 2516.0, 0.0, 0.0, 1.0, 0.0, 0.0, 0.0, 0.0, 1], [45056.0, 22585344.0, 27111424.0, 27295744.0, 0.00999999999999995, 0.001054579, 0.0700000000000001, 539.0, 0.0, 0.0, 4.0, 2516.0, 0.0, 0.0, 1.0, 0.0, 0.0, 0.0, 0.0, 1], [45056.0, 22585344.0, 27111424.0, 27295744.0, 0.00999999999999995, 0.001054579, 0.0700000000000001, 539.0, 0.0, 0.0, 4.0, 2516.0, 0.0, 0.0, 1.0, 0.0, 0.0, 0.0, 0.0, 1], [45056.0, 22585344.0, 27111424.0, 27295744.0, 0.00999999999999995, 0.001054579, 0.0700000000000001, 539.0, 0.0, 0.0, 4.0, 2516.0, 0.0, 0.0, 1.0, 0.0, 0.0, 0.0, 0.0, 1], [45056.0, 22585344.0, 27111424.0, 27295744.0, 0.00999999999999995, 0.001054579, 0.0700000000000001, 539.0, 0.0, 0.0, 4.0, 2516.0, 0.0, 0.0, 1.0, 0.0, 0.0, 0.0, 0.0, 1], [45056.0, 22585344.0, 27111424.0, 27295744.0, 0.00999999999999995, 0.001054579, 0.0700000000000001, 539.0, 0.0, 0.0, 4.0, 2516.0, 0.0, 0.0, 1.0, 0.0, 0.0, 0.0, 0.0, 1], [45056.0, 22585344.0, 27111424.0, 27295744.0, 0.00999999999999995, 0.001054579, 0.0700000000000001, 539.0, 0.0, 0.0, 4.0, 2516.0, 0.0, 0.0, 1.0, 0.0, 0.0, 0.0, 0.0, 1], [45056.0, 22585344.0, 27111424.0, 27295744.0, 0.00999999999999995, 0.001054579, 0.0700000000000001, 539.0, 0.0, 0.0, 4.0, 2516.0, 0.0, 0.0, 1.0, 0.0, 0.0, 0.0, 0.0, 1], [45056.0, 22585344.0, 27111424.0, 27295744.0, 0.00999999999999995, 0.001054579, 0.0700000000000001, 539.0, 0.0, 0.0, 4.0, 2516.0, 0.0, 0.0, 1.0, 0.0, 0.0, 0.0, 0.0, 1], [45056.0, 22585344.0, 27111424.0, 27295744.0, 0.00999999999999995, 0.001054579, 0.0700000000000001, 539.0, 0.0, 0.0, 4.0, 2516.0, 0.0, 0.0, 1.0, 0.0, 0.0, 0.0, 0.0, 1], [45056.0, 22585344.0, 27111424.0, 27295744.0, 0.00999999999999995, 0.001054579, 0.0700000000000001, 539.0, 0.0, 0.0, 4.0, 2516.0, 0.0, 0.0, 1.0, 0.0, 0.0, 0.0, 0.0, 1], [45056.0, 22585344.0, 27111424.0, 27295744.0, 0.00999999999999995, 0.001054579, 0.0700000000000001, 539.0, 0.0, 0.0, 4.0, 2516.0, 0.0, 0.0, 1.0, 0.0, 0.0, 0.0, 0.0, 1]], [[45056.0, 22585344.0, 27111424.0, 27295744.0, 0.00999999999999995, 0.001054579, 0.0700000000000001, 539.0, 0.0, 0.0, 4.0, 2516.0, 0.0, 0.0, 1.0, 0.0, 0.0, 0.0, 0.0, 1], [45056.0, 22585344.0, 27111424.0, 27295744.0, 0.00999999999999995, 0.001054579, 0.0700000000000001, 539.0, 0.0, 0.0, 4.0, 2516.0, 0.0, 0.0, 1.0, 0.0, 0.0, 0.0, 0.0, 1], [45056.0, 22585344.0, 27111424.0, 27295744.0, 0.00999999999999995, 0.001054579, 0.0700000000000001, 539.0, 0.0, 0.0, 4.0, 2516.0, 0.0, 0.0, 1.0, 0.0, 0.0, 0.0, 0.0, 1], [45056.0, 22585344.0, 27111424.0, 27295744.0, 0.00999999999999995, 0.001054579, 0.0700000000000001, 539.0, 0.0, 0.0, 4.0, 2516.0, 0.0, 0.0, 1.0, 0.0, 0.0, 0.0, 0.0, 1], [45056.0, 22585344.0, 27111424.0, 27295744.0, 0.00999999999999995, 0.001054579, 0.0700000000000001, 539.0, 0.0, 0.0, 4.0, 2516.0, 0.0, 0.0, 1.0, 0.0, 0.0, 0.0, 0.0, 1], [45056.0, 22585344.0, 27111424.0, 27295744.0, 0.00999999999999995, 0.001054579, 0.0700000000000001, 539.0, 0.0, 0.0, 4.0, 2516.0, 0.0, 0.0, 1.0, 0.0, 0.0, 0.0, 0.0, 1], [45056.0, 22585344.0, 27111424.0, 27295744.0, 0.00999999999999995, 0.001054579, 0.0700000000000001, 539.0, 0.0, 0.0, 4.0, 2516.0, 0.0, 0.0, 1.0, 0.0, 0.0, 0.0, 0.0, 1], [45056.0, 22585344.0, 27111424.0, 27295744.0, 0.00999999999999995, 0.001054579, 0.0700000000000001, 539.0, 0.0, 0.0, 4.0, 2516.0, 0.0, 0.0, 1.0, 0.0, 0.0, 0.0, 0.0, 1], [45056.0, 22585344.0, 27111424.0, 27295744.0, 0.00999999999999995, 0.001054579, 0.0700000000000001, 539.0, 0.0, 0.0, 4.0, 2516.0, 0.0, 0.0, 1.0, 0.0, 0.0, 0.0, 0.0, 1], [45056.0, 22585344.0, 27111424.0, 27295744.0, 0.00999999999999995, 0.001054579, 0.0700000000000001, 539.0, 0.0, 0.0, 4.0, 2516.0, 0.0, 0.0, 1.0, 0.0, 0.0, 0.0, 0.0, 1], [45056.0, 22585344.0, 27111424.0, 27295744.0, 0.00999999999999995, 0.001054579, 0.0700000000000001, 539.0, 0.0, 0.0, 4.0, 2516.0, 0.0, 0.0, 1.0, 0.0, 0.0, 0.0, 0.0, 1], [45056.0, 22585344.0, 27111424.0, 27295744.0, 0.00999999999999995, 0.001054579, 0.0700000000000001, 539.0, 0.0, 0.0, 4.0, 2516.0, 0.0, 0.0, 1.0, 0.0, 0.0, 0.0, 0.0, 1]], [[45056.0, 22585344.0, 27111424.0, 27295744.0, 0.00999999999999995, 0.001054579, 0.0700000000000001, 539.0, 0.0, 0.0, 4.0, 2516.0, 0.0, 0.0, 1.0, 0.0, 0.0, 0.0, 0.0, 1], [45056.0, 22585344.0, 27111424.0, 27295744.0, 0.00999999999999995, 0.001054579, 0.0700000000000001, 539.0, 0.0, 0.0, 4.0, 2516.0, 0.0, 0.0, 1.0, 0.0, 0.0, 0.0, 0.0, 1], [45056.0, 22585344.0, 27111424.0, 27295744.0, 0.00999999999999995, 0.001054579, 0.0700000000000001, 539.0, 0.0, 0.0, 4.0, 2516.0, 0.0, 0.0, 1.0, 0.0, 0.0, 0.0, 0.0, 1], [45056.0, 22585344.0, 27111424.0, 27295744.0, 0.00999999999999995, 0.001054579, 0.0700000000000001, 539.0, 0.0, 0.0, 4.0, 2516.0, 0.0, 0.0, 1.0, 0.0, 0.0, 0.0, 0.0, 1], [45056.0, 22585344.0, 27111424.0, 27295744.0, 0.00999999999999995, 0.001054579, 0.0700000000000001, 539.0, 0.0, 0.0, 4.0, 2516.0, 0.0, 0.0, 1.0, 0.0, 0.0, 0.0, 0.0, 1], [45056.0, 22585344.0, 27111424.0, 27295744.0, 0.00999999999999995, 0.001054579, 0.0700000000000001, 539.0, 0.0, 0.0, 4.0, 2516.0, 0.0, 0.0, 1.0, 0.0, 0.0, 0.0, 0.0, 1], [45056.0, 22585344.0, 27111424.0, 27295744.0, 0.00999999999999995, 0.001054579, 0.0700000000000001, 539.0, 0.0, 0.0, 4.0, 2516.0, 0.0, 0.0, 1.0, 0.0, 0.0, 0.0, 0.0, 1], [45056.0, 22585344.0, 27111424.0, 27295744.0, 0.00999999999999995, 0.001054579, 0.0700000000000001, 539.0, 0.0, 0.0, 4.0, 2516.0, 0.0, 0.0, 1.0, 0.0, 0.0, 0.0, 0.0, 1], [45056.0, 22585344.0, 27111424.0, 27295744.0, 0.00999999999999995, 0.001054579, 0.0700000000000001, 539.0, 0.0, 0.0, 4.0, 2516.0, 0.0, 0.0, 1.0, 0.0, 0.0, 0.0, 0.0, 1], [45056.0, 22585344.0, 27111424.0, 27295744.0, 0.00999999999999995, 0.001054579, 0.0700000000000001, 539.0, 0.0, 0.0, 4.0, 2516.0, 0.0, 0.0, 1.0, 0.0, 0.0, 0.0, 0.0, 1], [45056.0, 22585344.0, 27111424.0, 27295744.0, 0.00999999999999995, 0.001054579, 0.0700000000000001, 539.0, 0.0, 0.0, 4.0, 2516.0, 0.0, 0.0, 1.0, 0.0, 0.0, 0.0, 0.0, 1], [45056.0, 22585344.0, 27111424.0, 27295744.0, 0.00999999999999995, 0.001054579, 0.0700000000000001, 539.0, 0.0, 0.0, 4.0, 2516.0, 0.0, 0.0, 1.0, 0.0, 0.0, 0.0, 0.0, 1]], [[45056.0, 22585344.0, 27111424.0, 27295744.0, 0.00999999999999995, 0.001054579, 0.0700000000000001, 539.0, 0.0, 0.0, 4.0, 2516.0, 0.0, 0.0, 1.0, 0.0, 0.0, 0.0, 0.0, 1], [45056.0, 22585344.0, 27111424.0, 27295744.0, 0.00999999999999995, 0.001054579, 0.0700000000000001, 539.0, 0.0, 0.0, 4.0, 2516.0, 0.0, 0.0, 1.0, 0.0, 0.0, 0.0, 0.0, 1], [45056.0, 22585344.0, 27111424.0, 27295744.0, 0.00999999999999995, 0.001054579, 0.0700000000000001, 539.0, 0.0, 0.0, 4.0, 2516.0, 0.0, 0.0, 1.0, 0.0, 0.0, 0.0, 0.0, 1], [45056.0, 22585344.0, 27111424.0, 27295744.0, 0.00999999999999995, 0.001054579, 0.0700000000000001, 539.0, 0.0, 0.0, 4.0, 2516.0, 0.0, 0.0, 1.0, 0.0, 0.0, 0.0, 0.0, 1], [45056.0, 22585344.0, 27111424.0, 27295744.0, 0.00999999999999995, 0.001054579, 0.0700000000000001, 539.0, 0.0, 0.0, 4.0, 2516.0, 0.0, 0.0, 1.0, 0.0, 0.0, 0.0, 0.0, 1], [45056.0, 22585344.0, 27111424.0, 27295744.0, 0.00999999999999995, 0.001054579, 0.0700000000000001, 539.0, 0.0, 0.0, 4.0, 2516.0, 0.0, 0.0, 1.0, 0.0, 0.0, 0.0, 0.0, 1], [45056.0, 22585344.0, 27111424.0, 27295744.0, 0.00999999999999995, 0.001054579, 0.0700000000000001, 539.0, 0.0, 0.0, 4.0, 2516.0, 0.0, 0.0, 1.0, 0.0, 0.0, 0.0, 0.0, 1], [45056.0, 22585344.0, 27111424.0, 27295744.0, 0.00999999999999995, 0.001054579, 0.0700000000000001, 539.0, 0.0, 0.0, 4.0, 2516.0, 0.0, 0.0, 1.0, 0.0, 0.0, 0.0, 0.0, 1], [45056.0, 22585344.0, 27111424.0, 27295744.0, 0.00999999999999995, 0.001054579, 0.0700000000000001, 539.0, 0.0, 0.0, 4.0, 2516.0, 0.0, 0.0, 1.0, 0.0, 0.0, 0.0, 0.0, 1], [45056.0, 22585344.0, 27111424.0, 27295744.0, 0.00999999999999995, 0.001054579, 0.0700000000000001, 539.0, 0.0, 0.0, 4.0, 2516.0, 0.0, 0.0, 1.0, 0.0, 0.0, 0.0, 0.0, 1], [45056.0, 22585344.0, 27111424.0, 27295744.0, 0.00999999999999995, 0.001054579, 0.0700000000000001, 539.0, 0.0, 0.0, 4.0, 2516.0, 0.0, 0.0, 1.0, 0.0, 0.0, 0.0, 0.0, 1], [45056.0, 22585344.0, 27111424.0, 27295744.0, 0.00999999999999995, 0.001054579, 0.0700000000000001, 539.0, 0.0, 0.0, 4.0, 2516.0, 0.0, 0.0, 1.0, 0.0, 0.0, 0.0, 0.0, 1]], [[45056.0, 22585344.0, 27111424.0, 27295744.0, 0.00999999999999995, 0.001054579, 0.0700000000000001, 539.0, 0.0, 0.0, 4.0, 2516.0, 0.0, 0.0, 1.0, 0.0, 0.0, 0.0, 0.0, 1], [45056.0, 22585344.0, 27111424.0, 27295744.0, 0.00999999999999995, 0.001054579, 0.0700000000000001, 539.0, 0.0, 0.0, 4.0, 2516.0, 0.0, 0.0, 1.0, 0.0, 0.0, 0.0, 0.0, 1], [45056.0, 22585344.0, 27111424.0, 27295744.0, 0.00999999999999995, 0.001054579, 0.0700000000000001, 539.0, 0.0, 0.0, 4.0, 2516.0, 0.0, 0.0, 1.0, 0.0, 0.0, 0.0, 0.0, 1], [45056.0, 22585344.0, 27111424.0, 27295744.0, 0.00999999999999995, 0.001054579, 0.0700000000000001, 539.0, 0.0, 0.0, 4.0, 2516.0, 0.0, 0.0, 1.0, 0.0, 0.0, 0.0, 0.0, 1], [45056.0, 22585344.0, 27111424.0, 27295744.0, 0.00999999999999995, 0.001054579, 0.0700000000000001, 539.0, 0.0, 0.0, 4.0, 2516.0, 0.0, 0.0, 1.0, 0.0, 0.0, 0.0, 0.0, 1], [45056.0, 22585344.0, 27111424.0, 27295744.0, 0.00999999999999995, 0.001054579, 0.0700000000000001, 539.0, 0.0, 0.0, 4.0, 2516.0, 0.0, 0.0, 1.0, 0.0, 0.0, 0.0, 0.0, 1], [45056.0, 22585344.0, 27111424.0, 27295744.0, 0.00999999999999995, 0.001054579, 0.0700000000000001, 539.0, 0.0, 0.0, 4.0, 2516.0, 0.0, 0.0, 1.0, 0.0, 0.0, 0.0, 0.0, 1], [45056.0, 22585344.0, 27111424.0, 27295744.0, 0.00999999999999995, 0.001054579, 0.0700000000000001, 539.0, 0.0, 0.0, 4.0, 2516.0, 0.0, 0.0, 1.0, 0.0, 0.0, 0.0, 0.0, 1], [45056.0, 22585344.0, 27111424.0, 27295744.0, 0.00999999999999995, 0.001054579, 0.0700000000000001, 539.0, 0.0, 0.0, 4.0, 2516.0, 0.0, 0.0, 1.0, 0.0, 0.0, 0.0, 0.0, 1], [45056.0, 22585344.0, 27111424.0, 27295744.0, 0.00999999999999995, 0.001054579, 0.0700000000000001, 539.0, 0.0, 0.0, 4.0, 2516.0, 0.0, 0.0, 1.0, 0.0, 0.0, 0.0, 0.0, 1], [45056.0, 22585344.0, 27111424.0, 27295744.0, 0.00999999999999995, 0.001054579, 0.0700000000000001, 539.0, 0.0, 0.0, 4.0, 2516.0, 0.0, 0.0, 1.0, 0.0, 0.0, 0.0, 0.0, 1], [45056.0, 22585344.0, 27111424.0, 27295744.0, 0.00999999999999995, 0.001054579, 0.0700000000000001, 539.0, 0.0, 0.0, 4.0, 2516.0, 0.0, 0.0, 1.0, 0.0, 0.0, 0.0, 0.0, 1]], [[45056.0, 22585344.0, 27111424.0, 27295744.0, 0.00999999999999995, 0.001054579, 0.0700000000000001, 539.0, 0.0, 0.0, 4.0, 2516.0, 0.0, 0.0, 1.0, 0.0, 0.0, 0.0, 0.0, 1], [45056.0, 22585344.0, 27111424.0, 27295744.0, 0.00999999999999995, 0.001054579, 0.0700000000000001, 539.0, 0.0, 0.0, 4.0, 2516.0, 0.0, 0.0, 1.0, 0.0, 0.0, 0.0, 0.0, 1], [45056.0, 22585344.0, 27111424.0, 27295744.0, 0.00999999999999995, 0.001054579, 0.0700000000000001, 539.0, 0.0, 0.0, 4.0, 2516.0, 0.0, 0.0, 1.0, 0.0, 0.0, 0.0, 0.0, 1], [45056.0, 22585344.0, 27111424.0, 27295744.0, 0.00999999999999995, 0.001054579, 0.0700000000000001, 539.0, 0.0, 0.0, 4.0, 2516.0, 0.0, 0.0, 1.0, 0.0, 0.0, 0.0, 0.0, 1], [45056.0, 22585344.0, 27111424.0, 27295744.0, 0.00999999999999995, 0.001054579, 0.0700000000000001, 539.0, 0.0, 0.0, 4.0, 2516.0, 0.0, 0.0, 1.0, 0.0, 0.0, 0.0, 0.0, 1], [45056.0, 22585344.0, 27111424.0, 27295744.0, 0.00999999999999995, 0.001054579, 0.0700000000000001, 539.0, 0.0, 0.0, 4.0, 2516.0, 0.0, 0.0, 1.0, 0.0, 0.0, 0.0, 0.0, 1], [45056.0, 22585344.0, 27111424.0, 27295744.0, 0.00999999999999995, 0.001054579, 0.0700000000000001, 539.0, 0.0, 0.0, 4.0, 2516.0, 0.0, 0.0, 1.0, 0.0, 0.0, 0.0, 0.0, 1], [45056.0, 22585344.0, 27111424.0, 27295744.0, 0.00999999999999995, 0.001054579, 0.0700000000000001, 539.0, 0.0, 0.0, 4.0, 2516.0, 0.0, 0.0, 1.0, 0.0, 0.0, 0.0, 0.0, 1], [45056.0, 22585344.0, 27111424.0, 27295744.0, 0.00999999999999995, 0.001054579, 0.0700000000000001, 539.0, 0.0, 0.0, 4.0, 2516.0, 0.0, 0.0, 1.0, 0.0, 0.0, 0.0, 0.0, 1], [45056.0, 22585344.0, 27111424.0, 27295744.0, 0.00999999999999995, 0.001054579, 0.0700000000000001, 539.0, 0.0, 0.0, 4.0, 2516.0, 0.0, 0.0, 1.0, 0.0, 0.0, 0.0, 0.0, 1], [45056.0, 22585344.0, 27111424.0, 27295744.0, 0.00999999999999995, 0.001054579, 0.0700000000000001, 539.0, 0.0, 0.0, 4.0, 2516.0, 0.0, 0.0, 1.0, 0.0, 0.0, 0.0, 0.0, 1], [45056.0, 22585344.0, 27111424.0, 27295744.0, 0.00999999999999995, 0.001054579, 0.0700000000000001, 539.0, 0.0, 0.0, 4.0, 2516.0, 0.0, 0.0, 1.0, 0.0, 0.0, 0.0, 0.0, 1]]])"
   ]
  },
  {
   "cell_type": "code",
   "execution_count": 24,
   "id": "48e17fbc",
   "metadata": {},
   "outputs": [
    {
     "data": {
      "text/plain": [
       "torch.Size([24, 12, 20])"
      ]
     },
     "execution_count": 24,
     "metadata": {},
     "output_type": "execute_result"
    }
   ],
   "source": [
    "data.shape"
   ]
  },
  {
   "cell_type": "code",
   "execution_count": 25,
   "id": "4a90f5e7",
   "metadata": {},
   "outputs": [
    {
     "name": "stdout",
     "output_type": "stream",
     "text": [
      "gat_lstm_autoencoder(\n",
      "  (gat): GATLayer(\n",
      "    (projection): Linear(in_features=20, out_features=32, bias=True)\n",
      "    (leakyrelu): LeakyReLU(negative_slope=0.2)\n",
      "  )\n",
      "  (gat1): GATLayer(\n",
      "    (projection): Linear(in_features=32, out_features=16, bias=True)\n",
      "    (leakyrelu): LeakyReLU(negative_slope=0.2)\n",
      "  )\n",
      "  (gat2): GATLayer(\n",
      "    (projection): Linear(in_features=16, out_features=24, bias=True)\n",
      "    (leakyrelu): LeakyReLU(negative_slope=0.2)\n",
      "  )\n",
      "  (lstm): LSTM(288, 240, num_layers=3, dropout=0.2)\n",
      "  (linear): Linear(in_features=240, out_features=256, bias=True)\n",
      "  (reconstruct): ReconstructionModel(\n",
      "    (fc1): Linear(in_features=256, out_features=192, bias=True)\n",
      "    (dropout1): Dropout(p=0.3, inplace=False)\n",
      "    (fc1_): Linear(in_features=192, out_features=128, bias=True)\n",
      "    (dropout1_): Dropout(p=0.3, inplace=False)\n",
      "    (fc2): Linear(in_features=128, out_features=64, bias=True)\n",
      "    (dropout2): Dropout(p=0.3, inplace=False)\n",
      "    (fc3): Linear(in_features=64, out_features=128, bias=True)\n",
      "    (dropout3): Dropout(p=0.3, inplace=False)\n",
      "    (fc3_): Linear(in_features=128, out_features=192, bias=True)\n",
      "    (dropout3_): Dropout(p=0.3, inplace=False)\n",
      "    (fc4): Linear(in_features=192, out_features=240, bias=True)\n",
      "    (leakyrelu): ReLU()\n",
      "  )\n",
      ")\n"
     ]
    }
   ],
   "source": [
    "print(loaded_model.eval())\n",
    "output = loaded_model.predict(data,adj_matrix)"
   ]
  },
  {
   "cell_type": "code",
   "execution_count": 26,
   "id": "265ebfbd",
   "metadata": {},
   "outputs": [
    {
     "data": {
      "text/plain": [
       "tuple"
      ]
     },
     "execution_count": 26,
     "metadata": {},
     "output_type": "execute_result"
    }
   ],
   "source": [
    "type(output)"
   ]
  },
  {
   "cell_type": "code",
   "execution_count": 27,
   "id": "4df5defe",
   "metadata": {},
   "outputs": [
    {
     "name": "stdout",
     "output_type": "stream",
     "text": [
      "4 x 24 x 12 x 20\n"
     ]
    }
   ],
   "source": [
    "print(len(output), \"x\", len(output[0]), \"x\", len(output[0][0]), \"x\", len(output[0][0][0]))\n",
    "# for a in output:\n",
    "#     print([len(i) for i in a])"
   ]
  },
  {
   "cell_type": "code",
   "execution_count": 28,
   "id": "c372a820",
   "metadata": {},
   "outputs": [
    {
     "data": {
      "text/plain": [
       "array([[[ 0.538551  ,  0.49519414,  0.2766452 , ...,  0.00140307,\n",
       "         -0.00128244,  0.28827578],\n",
       "        [ 0.27736688,  0.34494245,  0.32915634, ...,  0.00207657,\n",
       "          0.00930755,  0.00103226],\n",
       "        [ 0.35711315,  0.19664751,  0.08563499, ..., -0.00306414,\n",
       "          0.00148787,  0.11176278],\n",
       "        ...,\n",
       "        [ 0.2655461 , -0.10687114,  0.55478275, ..., -0.00496848,\n",
       "         -0.00359256,  0.22282258],\n",
       "        [ 0.2824513 ,  0.5096499 ,  0.66432667, ...,  0.00142821,\n",
       "         -0.00620285,  0.04386146],\n",
       "        [ 0.14697582,  0.04510444,  0.02474901, ..., -0.00139765,\n",
       "          0.00265631,  0.09851115]],\n",
       "\n",
       "       [[ 0.538551  ,  0.49519414,  0.2766452 , ...,  0.00140307,\n",
       "         -0.00128244,  0.28827578],\n",
       "        [ 0.27736688,  0.34494245,  0.32915634, ...,  0.00207657,\n",
       "          0.00930755,  0.00103226],\n",
       "        [ 0.35711315,  0.19664751,  0.08563499, ..., -0.00306414,\n",
       "          0.00148787,  0.11176278],\n",
       "        ...,\n",
       "        [ 0.2655461 , -0.10687114,  0.55478275, ..., -0.00496848,\n",
       "         -0.00359256,  0.22282258],\n",
       "        [ 0.2824513 ,  0.5096499 ,  0.66432667, ...,  0.00142821,\n",
       "         -0.00620285,  0.04386146],\n",
       "        [ 0.14697582,  0.04510444,  0.02474901, ..., -0.00139765,\n",
       "          0.00265631,  0.09851115]],\n",
       "\n",
       "       [[ 0.538551  ,  0.49519414,  0.2766452 , ...,  0.00140307,\n",
       "         -0.00128244,  0.28827578],\n",
       "        [ 0.27736688,  0.34494245,  0.32915634, ...,  0.00207657,\n",
       "          0.00930755,  0.00103226],\n",
       "        [ 0.35711315,  0.19664751,  0.08563499, ..., -0.00306414,\n",
       "          0.00148787,  0.11176278],\n",
       "        ...,\n",
       "        [ 0.2655461 , -0.10687114,  0.5547828 , ..., -0.00496848,\n",
       "         -0.00359256,  0.22282258],\n",
       "        [ 0.2824513 ,  0.5096499 ,  0.66432667, ...,  0.00142821,\n",
       "         -0.00620285,  0.04386146],\n",
       "        [ 0.14697582,  0.04510444,  0.02474901, ..., -0.00139765,\n",
       "          0.00265631,  0.09851115]],\n",
       "\n",
       "       ...,\n",
       "\n",
       "       [[ 0.538551  ,  0.49519414,  0.2766452 , ...,  0.00140307,\n",
       "         -0.00128244,  0.28827578],\n",
       "        [ 0.27736688,  0.34494245,  0.32915634, ...,  0.00207657,\n",
       "          0.00930755,  0.00103226],\n",
       "        [ 0.35711315,  0.19664751,  0.08563499, ..., -0.00306414,\n",
       "          0.00148787,  0.11176278],\n",
       "        ...,\n",
       "        [ 0.2655461 , -0.10687114,  0.5547828 , ..., -0.00496848,\n",
       "         -0.00359256,  0.22282258],\n",
       "        [ 0.2824513 ,  0.5096499 ,  0.66432667, ...,  0.00142821,\n",
       "         -0.00620285,  0.04386146],\n",
       "        [ 0.14697582,  0.04510444,  0.02474901, ..., -0.00139765,\n",
       "          0.00265631,  0.09851115]],\n",
       "\n",
       "       [[ 0.538551  ,  0.49519414,  0.2766452 , ...,  0.00140307,\n",
       "         -0.00128244,  0.28827578],\n",
       "        [ 0.27736688,  0.34494245,  0.32915634, ...,  0.00207657,\n",
       "          0.00930755,  0.00103226],\n",
       "        [ 0.35711315,  0.19664751,  0.08563499, ..., -0.00306414,\n",
       "          0.00148787,  0.11176278],\n",
       "        ...,\n",
       "        [ 0.2655461 , -0.10687114,  0.5547828 , ..., -0.00496848,\n",
       "         -0.00359256,  0.22282258],\n",
       "        [ 0.2824513 ,  0.5096499 ,  0.66432667, ...,  0.00142821,\n",
       "         -0.00620285,  0.04386146],\n",
       "        [ 0.14697582,  0.04510444,  0.02474901, ..., -0.00139765,\n",
       "          0.00265631,  0.09851115]],\n",
       "\n",
       "       [[ 0.538551  ,  0.49519414,  0.2766452 , ...,  0.00140307,\n",
       "         -0.00128244,  0.28827578],\n",
       "        [ 0.27736688,  0.34494245,  0.32915634, ...,  0.00207657,\n",
       "          0.00930755,  0.00103226],\n",
       "        [ 0.35711315,  0.19664751,  0.08563499, ..., -0.00306414,\n",
       "          0.00148787,  0.11176278],\n",
       "        ...,\n",
       "        [ 0.2655461 , -0.10687114,  0.5547828 , ..., -0.00496848,\n",
       "         -0.00359256,  0.22282258],\n",
       "        [ 0.2824513 ,  0.5096499 ,  0.66432667, ...,  0.00142821,\n",
       "         -0.00620285,  0.04386146],\n",
       "        [ 0.14697582,  0.04510444,  0.02474901, ..., -0.00139765,\n",
       "          0.00265631,  0.09851115]]], dtype=float32)"
      ]
     },
     "execution_count": 28,
     "metadata": {},
     "output_type": "execute_result"
    }
   ],
   "source": [
    "output[0].detach().numpy()"
   ]
  },
  {
   "cell_type": "markdown",
   "id": "3c114c75",
   "metadata": {},
   "source": [
    "Save the `clf` model instance to BentoML local model store:"
   ]
  },
  {
   "cell_type": "markdown",
   "id": "d613e57e",
   "metadata": {},
   "source": [
    "Models saved can be accessed via `bentoml models` CLI command:"
   ]
  },
  {
   "cell_type": "markdown",
   "id": "672721c4",
   "metadata": {},
   "source": [
    "To verify that the saved model can be loaded correctly:"
   ]
  },
  {
   "cell_type": "markdown",
   "id": "8fd3bf97",
   "metadata": {},
   "source": [
    "In BentoML, the recommended way of running ML model inference in serving is via Runner, which \n",
    "gives BentoML more flexibility in terms of how to schedule the inference computation, how to \n",
    "batch inference requests and take advantage of hardware resources available. Saved models can\n",
    "be loaded as a Runner instance as shown below:\n"
   ]
  },
  {
   "cell_type": "code",
   "execution_count": 29,
   "id": "83205567",
   "metadata": {
    "scrolled": true
   },
   "outputs": [],
   "source": [
    "# # Create a Runner instance:\n",
    "# model_runner = bentoml.pytorch.get(\"gat_lstm_autoencoder:latest\").to_runner()\n",
    "\n",
    "# # Runner#init_local initializes the model in current process, this is meant for development and testing only:\n",
    "# model_runner.init_local()\n",
    "\n",
    "# # This should yield the same result as the loaded model:\n",
    "# model_runner.run(data, adj_matrix)"
   ]
  },
  {
   "cell_type": "markdown",
   "id": "3fa68254",
   "metadata": {},
   "source": [
    "## Serving the model\n",
    "\n",
    "A simple BentoML Service that serves the model saved above looks like this:"
   ]
  },
  {
   "cell_type": "code",
   "execution_count": 30,
   "id": "127aa3fd",
   "metadata": {},
   "outputs": [
    {
     "name": "stdout",
     "output_type": "stream",
     "text": [
      "Overwriting service.py\n"
     ]
    }
   ],
   "source": [
    "%%writefile service.py\n",
    "import numpy as np\n",
    "import bentoml\n",
    "import torch\n",
    "from bentoml.io import NumpyNdarray\n",
    "\n",
    "model_runner = bentoml.pytorch.load_model(\"gat_lstm_autoencoder:v1\").eval()\n",
    "\n",
    "galf = bentoml.Service(\"gat_lstm_autoencoder_classifier\")\n",
    "\n",
    "print(dir(model_runner))\n",
    "adj_matrix = torch.Tensor([#['payment 0', 'shipping 1', 'redis 2', 'mongodb 3', 'dispatch 4', 'rabbitmq 5', 'user 6', 'mysql 7', 'catalogue 8', 'ratings 9', 'web 10', 'cart 11']\n",
    "       [[1, 0, 0, 0, 0, 1, 0, 0, 0, 0, 1, 1],\n",
    "        [0, 1, 0, 0, 0, 0, 0, 1, 0, 0, 1, 0],\n",
    "        [0, 0, 1, 0, 0, 0, 1, 0, 0, 0, 0, 1],\n",
    "        [0, 0, 0, 1, 0, 0, 1, 0, 0, 0, 0, 0],\n",
    "        [0, 0, 0, 0, 1, 1, 0, 0, 0, 0, 0, 0],\n",
    "        [1, 0, 0, 0, 1, 1, 0, 0, 0, 0, 0, 0],\n",
    "        [0, 0, 1, 1, 0, 0, 1, 0, 0, 0, 1, 0],\n",
    "        [0, 1, 0, 0, 0, 0, 0, 1, 0, 1, 0, 0],\n",
    "        [0, 0, 0, 0, 0, 0, 0, 0, 1, 1, 1, 1],\n",
    "        [0, 0, 0, 0, 0, 0, 0, 1, 1, 1, 1, 0],\n",
    "        [1, 1, 0, 0, 0, 0, 1, 0, 1, 1, 1, 1],\n",
    "        [1, 0, 1, 0, 0, 0, 0, 0, 1, 0, 1, 1]]])\n",
    "\n",
    "data = torch.Tensor([[[45056.0, 22585344.0, 27111424.0, 27295744.0, 0.00999999999999995, 0.001054579, 0.0700000000000001, 539.0, 0.0, 0.0, 4.0, 2516.0, 0.0, 0.0, 1.0, 0.0, 0.0, 0.0, 0.0, 1], [45056.0, 22585344.0, 27111424.0, 27295744.0, 0.00999999999999995, 0.001054579, 0.0700000000000001, 539.0, 0.0, 0.0, 4.0, 2516.0, 0.0, 0.0, 1.0, 0.0, 0.0, 0.0, 0.0, 1], [45056.0, 22585344.0, 27111424.0, 27295744.0, 0.00999999999999995, 0.001054579, 0.0700000000000001, 539.0, 0.0, 0.0, 4.0, 2516.0, 0.0, 0.0, 1.0, 0.0, 0.0, 0.0, 0.0, 1], [45056.0, 22585344.0, 27111424.0, 27295744.0, 0.00999999999999995, 0.001054579, 0.0700000000000001, 539.0, 0.0, 0.0, 4.0, 2516.0, 0.0, 0.0, 1.0, 0.0, 0.0, 0.0, 0.0, 1], [45056.0, 22585344.0, 27111424.0, 27295744.0, 0.00999999999999995, 0.001054579, 0.0700000000000001, 539.0, 0.0, 0.0, 4.0, 2516.0, 0.0, 0.0, 1.0, 0.0, 0.0, 0.0, 0.0, 1], [45056.0, 22585344.0, 27111424.0, 27295744.0, 0.00999999999999995, 0.001054579, 0.0700000000000001, 539.0, 0.0, 0.0, 4.0, 2516.0, 0.0, 0.0, 1.0, 0.0, 0.0, 0.0, 0.0, 1], [45056.0, 22585344.0, 27111424.0, 27295744.0, 0.00999999999999995, 0.001054579, 0.0700000000000001, 539.0, 0.0, 0.0, 4.0, 2516.0, 0.0, 0.0, 1.0, 0.0, 0.0, 0.0, 0.0, 1], [45056.0, 22585344.0, 27111424.0, 27295744.0, 0.00999999999999995, 0.001054579, 0.0700000000000001, 539.0, 0.0, 0.0, 4.0, 2516.0, 0.0, 0.0, 1.0, 0.0, 0.0, 0.0, 0.0, 1], [45056.0, 22585344.0, 27111424.0, 27295744.0, 0.00999999999999995, 0.001054579, 0.0700000000000001, 539.0, 0.0, 0.0, 4.0, 2516.0, 0.0, 0.0, 1.0, 0.0, 0.0, 0.0, 0.0, 1], [45056.0, 22585344.0, 27111424.0, 27295744.0, 0.00999999999999995, 0.001054579, 0.0700000000000001, 539.0, 0.0, 0.0, 4.0, 2516.0, 0.0, 0.0, 1.0, 0.0, 0.0, 0.0, 0.0, 1], [45056.0, 22585344.0, 27111424.0, 27295744.0, 0.00999999999999995, 0.001054579, 0.0700000000000001, 539.0, 0.0, 0.0, 4.0, 2516.0, 0.0, 0.0, 1.0, 0.0, 0.0, 0.0, 0.0, 1], [45056.0, 22585344.0, 27111424.0, 27295744.0, 0.00999999999999995, 0.001054579, 0.0700000000000001, 539.0, 0.0, 0.0, 4.0, 2516.0, 0.0, 0.0, 1.0, 0.0, 0.0, 0.0, 0.0, 1]], [[45056.0, 22585344.0, 27111424.0, 27295744.0, 0.00999999999999995, 0.001054579, 0.0700000000000001, 539.0, 0.0, 0.0, 4.0, 2516.0, 0.0, 0.0, 1.0, 0.0, 0.0, 0.0, 0.0, 1], [45056.0, 22585344.0, 27111424.0, 27295744.0, 0.00999999999999995, 0.001054579, 0.0700000000000001, 539.0, 0.0, 0.0, 4.0, 2516.0, 0.0, 0.0, 1.0, 0.0, 0.0, 0.0, 0.0, 1], [45056.0, 22585344.0, 27111424.0, 27295744.0, 0.00999999999999995, 0.001054579, 0.0700000000000001, 539.0, 0.0, 0.0, 4.0, 2516.0, 0.0, 0.0, 1.0, 0.0, 0.0, 0.0, 0.0, 1], [45056.0, 22585344.0, 27111424.0, 27295744.0, 0.00999999999999995, 0.001054579, 0.0700000000000001, 539.0, 0.0, 0.0, 4.0, 2516.0, 0.0, 0.0, 1.0, 0.0, 0.0, 0.0, 0.0, 1], [45056.0, 22585344.0, 27111424.0, 27295744.0, 0.00999999999999995, 0.001054579, 0.0700000000000001, 539.0, 0.0, 0.0, 4.0, 2516.0, 0.0, 0.0, 1.0, 0.0, 0.0, 0.0, 0.0, 1], [45056.0, 22585344.0, 27111424.0, 27295744.0, 0.00999999999999995, 0.001054579, 0.0700000000000001, 539.0, 0.0, 0.0, 4.0, 2516.0, 0.0, 0.0, 1.0, 0.0, 0.0, 0.0, 0.0, 1], [45056.0, 22585344.0, 27111424.0, 27295744.0, 0.00999999999999995, 0.001054579, 0.0700000000000001, 539.0, 0.0, 0.0, 4.0, 2516.0, 0.0, 0.0, 1.0, 0.0, 0.0, 0.0, 0.0, 1], [45056.0, 22585344.0, 27111424.0, 27295744.0, 0.00999999999999995, 0.001054579, 0.0700000000000001, 539.0, 0.0, 0.0, 4.0, 2516.0, 0.0, 0.0, 1.0, 0.0, 0.0, 0.0, 0.0, 1], [45056.0, 22585344.0, 27111424.0, 27295744.0, 0.00999999999999995, 0.001054579, 0.0700000000000001, 539.0, 0.0, 0.0, 4.0, 2516.0, 0.0, 0.0, 1.0, 0.0, 0.0, 0.0, 0.0, 1], [45056.0, 22585344.0, 27111424.0, 27295744.0, 0.00999999999999995, 0.001054579, 0.0700000000000001, 539.0, 0.0, 0.0, 4.0, 2516.0, 0.0, 0.0, 1.0, 0.0, 0.0, 0.0, 0.0, 1], [45056.0, 22585344.0, 27111424.0, 27295744.0, 0.00999999999999995, 0.001054579, 0.0700000000000001, 539.0, 0.0, 0.0, 4.0, 2516.0, 0.0, 0.0, 1.0, 0.0, 0.0, 0.0, 0.0, 1], [45056.0, 22585344.0, 27111424.0, 27295744.0, 0.00999999999999995, 0.001054579, 0.0700000000000001, 539.0, 0.0, 0.0, 4.0, 2516.0, 0.0, 0.0, 1.0, 0.0, 0.0, 0.0, 0.0, 1]], [[45056.0, 22585344.0, 27111424.0, 27295744.0, 0.00999999999999995, 0.001054579, 0.0700000000000001, 539.0, 0.0, 0.0, 4.0, 2516.0, 0.0, 0.0, 1.0, 0.0, 0.0, 0.0, 0.0, 1], [45056.0, 22585344.0, 27111424.0, 27295744.0, 0.00999999999999995, 0.001054579, 0.0700000000000001, 539.0, 0.0, 0.0, 4.0, 2516.0, 0.0, 0.0, 1.0, 0.0, 0.0, 0.0, 0.0, 1], [45056.0, 22585344.0, 27111424.0, 27295744.0, 0.00999999999999995, 0.001054579, 0.0700000000000001, 539.0, 0.0, 0.0, 4.0, 2516.0, 0.0, 0.0, 1.0, 0.0, 0.0, 0.0, 0.0, 1], [45056.0, 22585344.0, 27111424.0, 27295744.0, 0.00999999999999995, 0.001054579, 0.0700000000000001, 539.0, 0.0, 0.0, 4.0, 2516.0, 0.0, 0.0, 1.0, 0.0, 0.0, 0.0, 0.0, 1], [45056.0, 22585344.0, 27111424.0, 27295744.0, 0.00999999999999995, 0.001054579, 0.0700000000000001, 539.0, 0.0, 0.0, 4.0, 2516.0, 0.0, 0.0, 1.0, 0.0, 0.0, 0.0, 0.0, 1], [45056.0, 22585344.0, 27111424.0, 27295744.0, 0.00999999999999995, 0.001054579, 0.0700000000000001, 539.0, 0.0, 0.0, 4.0, 2516.0, 0.0, 0.0, 1.0, 0.0, 0.0, 0.0, 0.0, 1], [45056.0, 22585344.0, 27111424.0, 27295744.0, 0.00999999999999995, 0.001054579, 0.0700000000000001, 539.0, 0.0, 0.0, 4.0, 2516.0, 0.0, 0.0, 1.0, 0.0, 0.0, 0.0, 0.0, 1], [45056.0, 22585344.0, 27111424.0, 27295744.0, 0.00999999999999995, 0.001054579, 0.0700000000000001, 539.0, 0.0, 0.0, 4.0, 2516.0, 0.0, 0.0, 1.0, 0.0, 0.0, 0.0, 0.0, 1], [45056.0, 22585344.0, 27111424.0, 27295744.0, 0.00999999999999995, 0.001054579, 0.0700000000000001, 539.0, 0.0, 0.0, 4.0, 2516.0, 0.0, 0.0, 1.0, 0.0, 0.0, 0.0, 0.0, 1], [45056.0, 22585344.0, 27111424.0, 27295744.0, 0.00999999999999995, 0.001054579, 0.0700000000000001, 539.0, 0.0, 0.0, 4.0, 2516.0, 0.0, 0.0, 1.0, 0.0, 0.0, 0.0, 0.0, 1], [45056.0, 22585344.0, 27111424.0, 27295744.0, 0.00999999999999995, 0.001054579, 0.0700000000000001, 539.0, 0.0, 0.0, 4.0, 2516.0, 0.0, 0.0, 1.0, 0.0, 0.0, 0.0, 0.0, 1], [45056.0, 22585344.0, 27111424.0, 27295744.0, 0.00999999999999995, 0.001054579, 0.0700000000000001, 539.0, 0.0, 0.0, 4.0, 2516.0, 0.0, 0.0, 1.0, 0.0, 0.0, 0.0, 0.0, 1]], [[45056.0, 22585344.0, 27111424.0, 27295744.0, 0.00999999999999995, 0.001054579, 0.0700000000000001, 539.0, 0.0, 0.0, 4.0, 2516.0, 0.0, 0.0, 1.0, 0.0, 0.0, 0.0, 0.0, 1], [45056.0, 22585344.0, 27111424.0, 27295744.0, 0.00999999999999995, 0.001054579, 0.0700000000000001, 539.0, 0.0, 0.0, 4.0, 2516.0, 0.0, 0.0, 1.0, 0.0, 0.0, 0.0, 0.0, 1], [45056.0, 22585344.0, 27111424.0, 27295744.0, 0.00999999999999995, 0.001054579, 0.0700000000000001, 539.0, 0.0, 0.0, 4.0, 2516.0, 0.0, 0.0, 1.0, 0.0, 0.0, 0.0, 0.0, 1], [45056.0, 22585344.0, 27111424.0, 27295744.0, 0.00999999999999995, 0.001054579, 0.0700000000000001, 539.0, 0.0, 0.0, 4.0, 2516.0, 0.0, 0.0, 1.0, 0.0, 0.0, 0.0, 0.0, 1], [45056.0, 22585344.0, 27111424.0, 27295744.0, 0.00999999999999995, 0.001054579, 0.0700000000000001, 539.0, 0.0, 0.0, 4.0, 2516.0, 0.0, 0.0, 1.0, 0.0, 0.0, 0.0, 0.0, 1], [45056.0, 22585344.0, 27111424.0, 27295744.0, 0.00999999999999995, 0.001054579, 0.0700000000000001, 539.0, 0.0, 0.0, 4.0, 2516.0, 0.0, 0.0, 1.0, 0.0, 0.0, 0.0, 0.0, 1], [45056.0, 22585344.0, 27111424.0, 27295744.0, 0.00999999999999995, 0.001054579, 0.0700000000000001, 539.0, 0.0, 0.0, 4.0, 2516.0, 0.0, 0.0, 1.0, 0.0, 0.0, 0.0, 0.0, 1], [45056.0, 22585344.0, 27111424.0, 27295744.0, 0.00999999999999995, 0.001054579, 0.0700000000000001, 539.0, 0.0, 0.0, 4.0, 2516.0, 0.0, 0.0, 1.0, 0.0, 0.0, 0.0, 0.0, 1], [45056.0, 22585344.0, 27111424.0, 27295744.0, 0.00999999999999995, 0.001054579, 0.0700000000000001, 539.0, 0.0, 0.0, 4.0, 2516.0, 0.0, 0.0, 1.0, 0.0, 0.0, 0.0, 0.0, 1], [45056.0, 22585344.0, 27111424.0, 27295744.0, 0.00999999999999995, 0.001054579, 0.0700000000000001, 539.0, 0.0, 0.0, 4.0, 2516.0, 0.0, 0.0, 1.0, 0.0, 0.0, 0.0, 0.0, 1], [45056.0, 22585344.0, 27111424.0, 27295744.0, 0.00999999999999995, 0.001054579, 0.0700000000000001, 539.0, 0.0, 0.0, 4.0, 2516.0, 0.0, 0.0, 1.0, 0.0, 0.0, 0.0, 0.0, 1], [45056.0, 22585344.0, 27111424.0, 27295744.0, 0.00999999999999995, 0.001054579, 0.0700000000000001, 539.0, 0.0, 0.0, 4.0, 2516.0, 0.0, 0.0, 1.0, 0.0, 0.0, 0.0, 0.0, 1]], [[45056.0, 22585344.0, 27111424.0, 27295744.0, 0.00999999999999995, 0.001054579, 0.0700000000000001, 539.0, 0.0, 0.0, 4.0, 2516.0, 0.0, 0.0, 1.0, 0.0, 0.0, 0.0, 0.0, 1], [45056.0, 22585344.0, 27111424.0, 27295744.0, 0.00999999999999995, 0.001054579, 0.0700000000000001, 539.0, 0.0, 0.0, 4.0, 2516.0, 0.0, 0.0, 1.0, 0.0, 0.0, 0.0, 0.0, 1], [45056.0, 22585344.0, 27111424.0, 27295744.0, 0.00999999999999995, 0.001054579, 0.0700000000000001, 539.0, 0.0, 0.0, 4.0, 2516.0, 0.0, 0.0, 1.0, 0.0, 0.0, 0.0, 0.0, 1], [45056.0, 22585344.0, 27111424.0, 27295744.0, 0.00999999999999995, 0.001054579, 0.0700000000000001, 539.0, 0.0, 0.0, 4.0, 2516.0, 0.0, 0.0, 1.0, 0.0, 0.0, 0.0, 0.0, 1], [45056.0, 22585344.0, 27111424.0, 27295744.0, 0.00999999999999995, 0.001054579, 0.0700000000000001, 539.0, 0.0, 0.0, 4.0, 2516.0, 0.0, 0.0, 1.0, 0.0, 0.0, 0.0, 0.0, 1], [45056.0, 22585344.0, 27111424.0, 27295744.0, 0.00999999999999995, 0.001054579, 0.0700000000000001, 539.0, 0.0, 0.0, 4.0, 2516.0, 0.0, 0.0, 1.0, 0.0, 0.0, 0.0, 0.0, 1], [45056.0, 22585344.0, 27111424.0, 27295744.0, 0.00999999999999995, 0.001054579, 0.0700000000000001, 539.0, 0.0, 0.0, 4.0, 2516.0, 0.0, 0.0, 1.0, 0.0, 0.0, 0.0, 0.0, 1], [45056.0, 22585344.0, 27111424.0, 27295744.0, 0.00999999999999995, 0.001054579, 0.0700000000000001, 539.0, 0.0, 0.0, 4.0, 2516.0, 0.0, 0.0, 1.0, 0.0, 0.0, 0.0, 0.0, 1], [45056.0, 22585344.0, 27111424.0, 27295744.0, 0.00999999999999995, 0.001054579, 0.0700000000000001, 539.0, 0.0, 0.0, 4.0, 2516.0, 0.0, 0.0, 1.0, 0.0, 0.0, 0.0, 0.0, 1], [45056.0, 22585344.0, 27111424.0, 27295744.0, 0.00999999999999995, 0.001054579, 0.0700000000000001, 539.0, 0.0, 0.0, 4.0, 2516.0, 0.0, 0.0, 1.0, 0.0, 0.0, 0.0, 0.0, 1], [45056.0, 22585344.0, 27111424.0, 27295744.0, 0.00999999999999995, 0.001054579, 0.0700000000000001, 539.0, 0.0, 0.0, 4.0, 2516.0, 0.0, 0.0, 1.0, 0.0, 0.0, 0.0, 0.0, 1], [45056.0, 22585344.0, 27111424.0, 27295744.0, 0.00999999999999995, 0.001054579, 0.0700000000000001, 539.0, 0.0, 0.0, 4.0, 2516.0, 0.0, 0.0, 1.0, 0.0, 0.0, 0.0, 0.0, 1]], [[45056.0, 22585344.0, 27111424.0, 27295744.0, 0.00999999999999995, 0.001054579, 0.0700000000000001, 539.0, 0.0, 0.0, 4.0, 2516.0, 0.0, 0.0, 1.0, 0.0, 0.0, 0.0, 0.0, 1], [45056.0, 22585344.0, 27111424.0, 27295744.0, 0.00999999999999995, 0.001054579, 0.0700000000000001, 539.0, 0.0, 0.0, 4.0, 2516.0, 0.0, 0.0, 1.0, 0.0, 0.0, 0.0, 0.0, 1], [45056.0, 22585344.0, 27111424.0, 27295744.0, 0.00999999999999995, 0.001054579, 0.0700000000000001, 539.0, 0.0, 0.0, 4.0, 2516.0, 0.0, 0.0, 1.0, 0.0, 0.0, 0.0, 0.0, 1], [45056.0, 22585344.0, 27111424.0, 27295744.0, 0.00999999999999995, 0.001054579, 0.0700000000000001, 539.0, 0.0, 0.0, 4.0, 2516.0, 0.0, 0.0, 1.0, 0.0, 0.0, 0.0, 0.0, 1], [45056.0, 22585344.0, 27111424.0, 27295744.0, 0.00999999999999995, 0.001054579, 0.0700000000000001, 539.0, 0.0, 0.0, 4.0, 2516.0, 0.0, 0.0, 1.0, 0.0, 0.0, 0.0, 0.0, 1], [45056.0, 22585344.0, 27111424.0, 27295744.0, 0.00999999999999995, 0.001054579, 0.0700000000000001, 539.0, 0.0, 0.0, 4.0, 2516.0, 0.0, 0.0, 1.0, 0.0, 0.0, 0.0, 0.0, 1], [45056.0, 22585344.0, 27111424.0, 27295744.0, 0.00999999999999995, 0.001054579, 0.0700000000000001, 539.0, 0.0, 0.0, 4.0, 2516.0, 0.0, 0.0, 1.0, 0.0, 0.0, 0.0, 0.0, 1], [45056.0, 22585344.0, 27111424.0, 27295744.0, 0.00999999999999995, 0.001054579, 0.0700000000000001, 539.0, 0.0, 0.0, 4.0, 2516.0, 0.0, 0.0, 1.0, 0.0, 0.0, 0.0, 0.0, 1], [45056.0, 22585344.0, 27111424.0, 27295744.0, 0.00999999999999995, 0.001054579, 0.0700000000000001, 539.0, 0.0, 0.0, 4.0, 2516.0, 0.0, 0.0, 1.0, 0.0, 0.0, 0.0, 0.0, 1], [45056.0, 22585344.0, 27111424.0, 27295744.0, 0.00999999999999995, 0.001054579, 0.0700000000000001, 539.0, 0.0, 0.0, 4.0, 2516.0, 0.0, 0.0, 1.0, 0.0, 0.0, 0.0, 0.0, 1], [45056.0, 22585344.0, 27111424.0, 27295744.0, 0.00999999999999995, 0.001054579, 0.0700000000000001, 539.0, 0.0, 0.0, 4.0, 2516.0, 0.0, 0.0, 1.0, 0.0, 0.0, 0.0, 0.0, 1], [45056.0, 22585344.0, 27111424.0, 27295744.0, 0.00999999999999995, 0.001054579, 0.0700000000000001, 539.0, 0.0, 0.0, 4.0, 2516.0, 0.0, 0.0, 1.0, 0.0, 0.0, 0.0, 0.0, 1]], [[45056.0, 22585344.0, 27111424.0, 27295744.0, 0.00999999999999995, 0.001054579, 0.0700000000000001, 539.0, 0.0, 0.0, 4.0, 2516.0, 0.0, 0.0, 1.0, 0.0, 0.0, 0.0, 0.0, 1], [45056.0, 22585344.0, 27111424.0, 27295744.0, 0.00999999999999995, 0.001054579, 0.0700000000000001, 539.0, 0.0, 0.0, 4.0, 2516.0, 0.0, 0.0, 1.0, 0.0, 0.0, 0.0, 0.0, 1], [45056.0, 22585344.0, 27111424.0, 27295744.0, 0.00999999999999995, 0.001054579, 0.0700000000000001, 539.0, 0.0, 0.0, 4.0, 2516.0, 0.0, 0.0, 1.0, 0.0, 0.0, 0.0, 0.0, 1], [45056.0, 22585344.0, 27111424.0, 27295744.0, 0.00999999999999995, 0.001054579, 0.0700000000000001, 539.0, 0.0, 0.0, 4.0, 2516.0, 0.0, 0.0, 1.0, 0.0, 0.0, 0.0, 0.0, 1], [45056.0, 22585344.0, 27111424.0, 27295744.0, 0.00999999999999995, 0.001054579, 0.0700000000000001, 539.0, 0.0, 0.0, 4.0, 2516.0, 0.0, 0.0, 1.0, 0.0, 0.0, 0.0, 0.0, 1], [45056.0, 22585344.0, 27111424.0, 27295744.0, 0.00999999999999995, 0.001054579, 0.0700000000000001, 539.0, 0.0, 0.0, 4.0, 2516.0, 0.0, 0.0, 1.0, 0.0, 0.0, 0.0, 0.0, 1], [45056.0, 22585344.0, 27111424.0, 27295744.0, 0.00999999999999995, 0.001054579, 0.0700000000000001, 539.0, 0.0, 0.0, 4.0, 2516.0, 0.0, 0.0, 1.0, 0.0, 0.0, 0.0, 0.0, 1], [45056.0, 22585344.0, 27111424.0, 27295744.0, 0.00999999999999995, 0.001054579, 0.0700000000000001, 539.0, 0.0, 0.0, 4.0, 2516.0, 0.0, 0.0, 1.0, 0.0, 0.0, 0.0, 0.0, 1], [45056.0, 22585344.0, 27111424.0, 27295744.0, 0.00999999999999995, 0.001054579, 0.0700000000000001, 539.0, 0.0, 0.0, 4.0, 2516.0, 0.0, 0.0, 1.0, 0.0, 0.0, 0.0, 0.0, 1], [45056.0, 22585344.0, 27111424.0, 27295744.0, 0.00999999999999995, 0.001054579, 0.0700000000000001, 539.0, 0.0, 0.0, 4.0, 2516.0, 0.0, 0.0, 1.0, 0.0, 0.0, 0.0, 0.0, 1], [45056.0, 22585344.0, 27111424.0, 27295744.0, 0.00999999999999995, 0.001054579, 0.0700000000000001, 539.0, 0.0, 0.0, 4.0, 2516.0, 0.0, 0.0, 1.0, 0.0, 0.0, 0.0, 0.0, 1], [45056.0, 22585344.0, 27111424.0, 27295744.0, 0.00999999999999995, 0.001054579, 0.0700000000000001, 539.0, 0.0, 0.0, 4.0, 2516.0, 0.0, 0.0, 1.0, 0.0, 0.0, 0.0, 0.0, 1]], [[45056.0, 22585344.0, 27111424.0, 27295744.0, 0.00999999999999995, 0.001054579, 0.0700000000000001, 539.0, 0.0, 0.0, 4.0, 2516.0, 0.0, 0.0, 1.0, 0.0, 0.0, 0.0, 0.0, 1], [45056.0, 22585344.0, 27111424.0, 27295744.0, 0.00999999999999995, 0.001054579, 0.0700000000000001, 539.0, 0.0, 0.0, 4.0, 2516.0, 0.0, 0.0, 1.0, 0.0, 0.0, 0.0, 0.0, 1], [45056.0, 22585344.0, 27111424.0, 27295744.0, 0.00999999999999995, 0.001054579, 0.0700000000000001, 539.0, 0.0, 0.0, 4.0, 2516.0, 0.0, 0.0, 1.0, 0.0, 0.0, 0.0, 0.0, 1], [45056.0, 22585344.0, 27111424.0, 27295744.0, 0.00999999999999995, 0.001054579, 0.0700000000000001, 539.0, 0.0, 0.0, 4.0, 2516.0, 0.0, 0.0, 1.0, 0.0, 0.0, 0.0, 0.0, 1], [45056.0, 22585344.0, 27111424.0, 27295744.0, 0.00999999999999995, 0.001054579, 0.0700000000000001, 539.0, 0.0, 0.0, 4.0, 2516.0, 0.0, 0.0, 1.0, 0.0, 0.0, 0.0, 0.0, 1], [45056.0, 22585344.0, 27111424.0, 27295744.0, 0.00999999999999995, 0.001054579, 0.0700000000000001, 539.0, 0.0, 0.0, 4.0, 2516.0, 0.0, 0.0, 1.0, 0.0, 0.0, 0.0, 0.0, 1], [45056.0, 22585344.0, 27111424.0, 27295744.0, 0.00999999999999995, 0.001054579, 0.0700000000000001, 539.0, 0.0, 0.0, 4.0, 2516.0, 0.0, 0.0, 1.0, 0.0, 0.0, 0.0, 0.0, 1], [45056.0, 22585344.0, 27111424.0, 27295744.0, 0.00999999999999995, 0.001054579, 0.0700000000000001, 539.0, 0.0, 0.0, 4.0, 2516.0, 0.0, 0.0, 1.0, 0.0, 0.0, 0.0, 0.0, 1], [45056.0, 22585344.0, 27111424.0, 27295744.0, 0.00999999999999995, 0.001054579, 0.0700000000000001, 539.0, 0.0, 0.0, 4.0, 2516.0, 0.0, 0.0, 1.0, 0.0, 0.0, 0.0, 0.0, 1], [45056.0, 22585344.0, 27111424.0, 27295744.0, 0.00999999999999995, 0.001054579, 0.0700000000000001, 539.0, 0.0, 0.0, 4.0, 2516.0, 0.0, 0.0, 1.0, 0.0, 0.0, 0.0, 0.0, 1], [45056.0, 22585344.0, 27111424.0, 27295744.0, 0.00999999999999995, 0.001054579, 0.0700000000000001, 539.0, 0.0, 0.0, 4.0, 2516.0, 0.0, 0.0, 1.0, 0.0, 0.0, 0.0, 0.0, 1], [45056.0, 22585344.0, 27111424.0, 27295744.0, 0.00999999999999995, 0.001054579, 0.0700000000000001, 539.0, 0.0, 0.0, 4.0, 2516.0, 0.0, 0.0, 1.0, 0.0, 0.0, 0.0, 0.0, 1]], [[45056.0, 22585344.0, 27111424.0, 27295744.0, 0.00999999999999995, 0.001054579, 0.0700000000000001, 539.0, 0.0, 0.0, 4.0, 2516.0, 0.0, 0.0, 1.0, 0.0, 0.0, 0.0, 0.0, 1], [45056.0, 22585344.0, 27111424.0, 27295744.0, 0.00999999999999995, 0.001054579, 0.0700000000000001, 539.0, 0.0, 0.0, 4.0, 2516.0, 0.0, 0.0, 1.0, 0.0, 0.0, 0.0, 0.0, 1], [45056.0, 22585344.0, 27111424.0, 27295744.0, 0.00999999999999995, 0.001054579, 0.0700000000000001, 539.0, 0.0, 0.0, 4.0, 2516.0, 0.0, 0.0, 1.0, 0.0, 0.0, 0.0, 0.0, 1], [45056.0, 22585344.0, 27111424.0, 27295744.0, 0.00999999999999995, 0.001054579, 0.0700000000000001, 539.0, 0.0, 0.0, 4.0, 2516.0, 0.0, 0.0, 1.0, 0.0, 0.0, 0.0, 0.0, 1], [45056.0, 22585344.0, 27111424.0, 27295744.0, 0.00999999999999995, 0.001054579, 0.0700000000000001, 539.0, 0.0, 0.0, 4.0, 2516.0, 0.0, 0.0, 1.0, 0.0, 0.0, 0.0, 0.0, 1], [45056.0, 22585344.0, 27111424.0, 27295744.0, 0.00999999999999995, 0.001054579, 0.0700000000000001, 539.0, 0.0, 0.0, 4.0, 2516.0, 0.0, 0.0, 1.0, 0.0, 0.0, 0.0, 0.0, 1], [45056.0, 22585344.0, 27111424.0, 27295744.0, 0.00999999999999995, 0.001054579, 0.0700000000000001, 539.0, 0.0, 0.0, 4.0, 2516.0, 0.0, 0.0, 1.0, 0.0, 0.0, 0.0, 0.0, 1], [45056.0, 22585344.0, 27111424.0, 27295744.0, 0.00999999999999995, 0.001054579, 0.0700000000000001, 539.0, 0.0, 0.0, 4.0, 2516.0, 0.0, 0.0, 1.0, 0.0, 0.0, 0.0, 0.0, 1], [45056.0, 22585344.0, 27111424.0, 27295744.0, 0.00999999999999995, 0.001054579, 0.0700000000000001, 539.0, 0.0, 0.0, 4.0, 2516.0, 0.0, 0.0, 1.0, 0.0, 0.0, 0.0, 0.0, 1], [45056.0, 22585344.0, 27111424.0, 27295744.0, 0.00999999999999995, 0.001054579, 0.0700000000000001, 539.0, 0.0, 0.0, 4.0, 2516.0, 0.0, 0.0, 1.0, 0.0, 0.0, 0.0, 0.0, 1], [45056.0, 22585344.0, 27111424.0, 27295744.0, 0.00999999999999995, 0.001054579, 0.0700000000000001, 539.0, 0.0, 0.0, 4.0, 2516.0, 0.0, 0.0, 1.0, 0.0, 0.0, 0.0, 0.0, 1], [45056.0, 22585344.0, 27111424.0, 27295744.0, 0.00999999999999995, 0.001054579, 0.0700000000000001, 539.0, 0.0, 0.0, 4.0, 2516.0, 0.0, 0.0, 1.0, 0.0, 0.0, 0.0, 0.0, 1]], [[45056.0, 22585344.0, 27111424.0, 27295744.0, 0.00999999999999995, 0.001054579, 0.0700000000000001, 539.0, 0.0, 0.0, 4.0, 2516.0, 0.0, 0.0, 1.0, 0.0, 0.0, 0.0, 0.0, 1], [45056.0, 22585344.0, 27111424.0, 27295744.0, 0.00999999999999995, 0.001054579, 0.0700000000000001, 539.0, 0.0, 0.0, 4.0, 2516.0, 0.0, 0.0, 1.0, 0.0, 0.0, 0.0, 0.0, 1], [45056.0, 22585344.0, 27111424.0, 27295744.0, 0.00999999999999995, 0.001054579, 0.0700000000000001, 539.0, 0.0, 0.0, 4.0, 2516.0, 0.0, 0.0, 1.0, 0.0, 0.0, 0.0, 0.0, 1], [45056.0, 22585344.0, 27111424.0, 27295744.0, 0.00999999999999995, 0.001054579, 0.0700000000000001, 539.0, 0.0, 0.0, 4.0, 2516.0, 0.0, 0.0, 1.0, 0.0, 0.0, 0.0, 0.0, 1], [45056.0, 22585344.0, 27111424.0, 27295744.0, 0.00999999999999995, 0.001054579, 0.0700000000000001, 539.0, 0.0, 0.0, 4.0, 2516.0, 0.0, 0.0, 1.0, 0.0, 0.0, 0.0, 0.0, 1], [45056.0, 22585344.0, 27111424.0, 27295744.0, 0.00999999999999995, 0.001054579, 0.0700000000000001, 539.0, 0.0, 0.0, 4.0, 2516.0, 0.0, 0.0, 1.0, 0.0, 0.0, 0.0, 0.0, 1], [45056.0, 22585344.0, 27111424.0, 27295744.0, 0.00999999999999995, 0.001054579, 0.0700000000000001, 539.0, 0.0, 0.0, 4.0, 2516.0, 0.0, 0.0, 1.0, 0.0, 0.0, 0.0, 0.0, 1], [45056.0, 22585344.0, 27111424.0, 27295744.0, 0.00999999999999995, 0.001054579, 0.0700000000000001, 539.0, 0.0, 0.0, 4.0, 2516.0, 0.0, 0.0, 1.0, 0.0, 0.0, 0.0, 0.0, 1], [45056.0, 22585344.0, 27111424.0, 27295744.0, 0.00999999999999995, 0.001054579, 0.0700000000000001, 539.0, 0.0, 0.0, 4.0, 2516.0, 0.0, 0.0, 1.0, 0.0, 0.0, 0.0, 0.0, 1], [45056.0, 22585344.0, 27111424.0, 27295744.0, 0.00999999999999995, 0.001054579, 0.0700000000000001, 539.0, 0.0, 0.0, 4.0, 2516.0, 0.0, 0.0, 1.0, 0.0, 0.0, 0.0, 0.0, 1], [45056.0, 22585344.0, 27111424.0, 27295744.0, 0.00999999999999995, 0.001054579, 0.0700000000000001, 539.0, 0.0, 0.0, 4.0, 2516.0, 0.0, 0.0, 1.0, 0.0, 0.0, 0.0, 0.0, 1], [45056.0, 22585344.0, 27111424.0, 27295744.0, 0.00999999999999995, 0.001054579, 0.0700000000000001, 539.0, 0.0, 0.0, 4.0, 2516.0, 0.0, 0.0, 1.0, 0.0, 0.0, 0.0, 0.0, 1]], [[45056.0, 22585344.0, 27111424.0, 27295744.0, 0.00999999999999995, 0.001054579, 0.0700000000000001, 539.0, 0.0, 0.0, 4.0, 2516.0, 0.0, 0.0, 1.0, 0.0, 0.0, 0.0, 0.0, 1], [45056.0, 22585344.0, 27111424.0, 27295744.0, 0.00999999999999995, 0.001054579, 0.0700000000000001, 539.0, 0.0, 0.0, 4.0, 2516.0, 0.0, 0.0, 1.0, 0.0, 0.0, 0.0, 0.0, 1], [45056.0, 22585344.0, 27111424.0, 27295744.0, 0.00999999999999995, 0.001054579, 0.0700000000000001, 539.0, 0.0, 0.0, 4.0, 2516.0, 0.0, 0.0, 1.0, 0.0, 0.0, 0.0, 0.0, 1], [45056.0, 22585344.0, 27111424.0, 27295744.0, 0.00999999999999995, 0.001054579, 0.0700000000000001, 539.0, 0.0, 0.0, 4.0, 2516.0, 0.0, 0.0, 1.0, 0.0, 0.0, 0.0, 0.0, 1], [45056.0, 22585344.0, 27111424.0, 27295744.0, 0.00999999999999995, 0.001054579, 0.0700000000000001, 539.0, 0.0, 0.0, 4.0, 2516.0, 0.0, 0.0, 1.0, 0.0, 0.0, 0.0, 0.0, 1], [45056.0, 22585344.0, 27111424.0, 27295744.0, 0.00999999999999995, 0.001054579, 0.0700000000000001, 539.0, 0.0, 0.0, 4.0, 2516.0, 0.0, 0.0, 1.0, 0.0, 0.0, 0.0, 0.0, 1], [45056.0, 22585344.0, 27111424.0, 27295744.0, 0.00999999999999995, 0.001054579, 0.0700000000000001, 539.0, 0.0, 0.0, 4.0, 2516.0, 0.0, 0.0, 1.0, 0.0, 0.0, 0.0, 0.0, 1], [45056.0, 22585344.0, 27111424.0, 27295744.0, 0.00999999999999995, 0.001054579, 0.0700000000000001, 539.0, 0.0, 0.0, 4.0, 2516.0, 0.0, 0.0, 1.0, 0.0, 0.0, 0.0, 0.0, 1], [45056.0, 22585344.0, 27111424.0, 27295744.0, 0.00999999999999995, 0.001054579, 0.0700000000000001, 539.0, 0.0, 0.0, 4.0, 2516.0, 0.0, 0.0, 1.0, 0.0, 0.0, 0.0, 0.0, 1], [45056.0, 22585344.0, 27111424.0, 27295744.0, 0.00999999999999995, 0.001054579, 0.0700000000000001, 539.0, 0.0, 0.0, 4.0, 2516.0, 0.0, 0.0, 1.0, 0.0, 0.0, 0.0, 0.0, 1], [45056.0, 22585344.0, 27111424.0, 27295744.0, 0.00999999999999995, 0.001054579, 0.0700000000000001, 539.0, 0.0, 0.0, 4.0, 2516.0, 0.0, 0.0, 1.0, 0.0, 0.0, 0.0, 0.0, 1], [45056.0, 22585344.0, 27111424.0, 27295744.0, 0.00999999999999995, 0.001054579, 0.0700000000000001, 539.0, 0.0, 0.0, 4.0, 2516.0, 0.0, 0.0, 1.0, 0.0, 0.0, 0.0, 0.0, 1]], [[45056.0, 22585344.0, 27111424.0, 27295744.0, 0.00999999999999995, 0.001054579, 0.0700000000000001, 539.0, 0.0, 0.0, 4.0, 2516.0, 0.0, 0.0, 1.0, 0.0, 0.0, 0.0, 0.0, 1], [45056.0, 22585344.0, 27111424.0, 27295744.0, 0.00999999999999995, 0.001054579, 0.0700000000000001, 539.0, 0.0, 0.0, 4.0, 2516.0, 0.0, 0.0, 1.0, 0.0, 0.0, 0.0, 0.0, 1], [45056.0, 22585344.0, 27111424.0, 27295744.0, 0.00999999999999995, 0.001054579, 0.0700000000000001, 539.0, 0.0, 0.0, 4.0, 2516.0, 0.0, 0.0, 1.0, 0.0, 0.0, 0.0, 0.0, 1], [45056.0, 22585344.0, 27111424.0, 27295744.0, 0.00999999999999995, 0.001054579, 0.0700000000000001, 539.0, 0.0, 0.0, 4.0, 2516.0, 0.0, 0.0, 1.0, 0.0, 0.0, 0.0, 0.0, 1], [45056.0, 22585344.0, 27111424.0, 27295744.0, 0.00999999999999995, 0.001054579, 0.0700000000000001, 539.0, 0.0, 0.0, 4.0, 2516.0, 0.0, 0.0, 1.0, 0.0, 0.0, 0.0, 0.0, 1], [45056.0, 22585344.0, 27111424.0, 27295744.0, 0.00999999999999995, 0.001054579, 0.0700000000000001, 539.0, 0.0, 0.0, 4.0, 2516.0, 0.0, 0.0, 1.0, 0.0, 0.0, 0.0, 0.0, 1], [45056.0, 22585344.0, 27111424.0, 27295744.0, 0.00999999999999995, 0.001054579, 0.0700000000000001, 539.0, 0.0, 0.0, 4.0, 2516.0, 0.0, 0.0, 1.0, 0.0, 0.0, 0.0, 0.0, 1], [45056.0, 22585344.0, 27111424.0, 27295744.0, 0.00999999999999995, 0.001054579, 0.0700000000000001, 539.0, 0.0, 0.0, 4.0, 2516.0, 0.0, 0.0, 1.0, 0.0, 0.0, 0.0, 0.0, 1], [45056.0, 22585344.0, 27111424.0, 27295744.0, 0.00999999999999995, 0.001054579, 0.0700000000000001, 539.0, 0.0, 0.0, 4.0, 2516.0, 0.0, 0.0, 1.0, 0.0, 0.0, 0.0, 0.0, 1], [45056.0, 22585344.0, 27111424.0, 27295744.0, 0.00999999999999995, 0.001054579, 0.0700000000000001, 539.0, 0.0, 0.0, 4.0, 2516.0, 0.0, 0.0, 1.0, 0.0, 0.0, 0.0, 0.0, 1], [45056.0, 22585344.0, 27111424.0, 27295744.0, 0.00999999999999995, 0.001054579, 0.0700000000000001, 539.0, 0.0, 0.0, 4.0, 2516.0, 0.0, 0.0, 1.0, 0.0, 0.0, 0.0, 0.0, 1], [45056.0, 22585344.0, 27111424.0, 27295744.0, 0.00999999999999995, 0.001054579, 0.0700000000000001, 539.0, 0.0, 0.0, 4.0, 2516.0, 0.0, 0.0, 1.0, 0.0, 0.0, 0.0, 0.0, 1]], [[45056.0, 22585344.0, 27111424.0, 27295744.0, 0.00999999999999995, 0.001054579, 0.0700000000000001, 539.0, 0.0, 0.0, 4.0, 2516.0, 0.0, 0.0, 1.0, 0.0, 0.0, 0.0, 0.0, 1], [45056.0, 22585344.0, 27111424.0, 27295744.0, 0.00999999999999995, 0.001054579, 0.0700000000000001, 539.0, 0.0, 0.0, 4.0, 2516.0, 0.0, 0.0, 1.0, 0.0, 0.0, 0.0, 0.0, 1], [45056.0, 22585344.0, 27111424.0, 27295744.0, 0.00999999999999995, 0.001054579, 0.0700000000000001, 539.0, 0.0, 0.0, 4.0, 2516.0, 0.0, 0.0, 1.0, 0.0, 0.0, 0.0, 0.0, 1], [45056.0, 22585344.0, 27111424.0, 27295744.0, 0.00999999999999995, 0.001054579, 0.0700000000000001, 539.0, 0.0, 0.0, 4.0, 2516.0, 0.0, 0.0, 1.0, 0.0, 0.0, 0.0, 0.0, 1], [45056.0, 22585344.0, 27111424.0, 27295744.0, 0.00999999999999995, 0.001054579, 0.0700000000000001, 539.0, 0.0, 0.0, 4.0, 2516.0, 0.0, 0.0, 1.0, 0.0, 0.0, 0.0, 0.0, 1], [45056.0, 22585344.0, 27111424.0, 27295744.0, 0.00999999999999995, 0.001054579, 0.0700000000000001, 539.0, 0.0, 0.0, 4.0, 2516.0, 0.0, 0.0, 1.0, 0.0, 0.0, 0.0, 0.0, 1], [45056.0, 22585344.0, 27111424.0, 27295744.0, 0.00999999999999995, 0.001054579, 0.0700000000000001, 539.0, 0.0, 0.0, 4.0, 2516.0, 0.0, 0.0, 1.0, 0.0, 0.0, 0.0, 0.0, 1], [45056.0, 22585344.0, 27111424.0, 27295744.0, 0.00999999999999995, 0.001054579, 0.0700000000000001, 539.0, 0.0, 0.0, 4.0, 2516.0, 0.0, 0.0, 1.0, 0.0, 0.0, 0.0, 0.0, 1], [45056.0, 22585344.0, 27111424.0, 27295744.0, 0.00999999999999995, 0.001054579, 0.0700000000000001, 539.0, 0.0, 0.0, 4.0, 2516.0, 0.0, 0.0, 1.0, 0.0, 0.0, 0.0, 0.0, 1], [45056.0, 22585344.0, 27111424.0, 27295744.0, 0.00999999999999995, 0.001054579, 0.0700000000000001, 539.0, 0.0, 0.0, 4.0, 2516.0, 0.0, 0.0, 1.0, 0.0, 0.0, 0.0, 0.0, 1], [45056.0, 22585344.0, 27111424.0, 27295744.0, 0.00999999999999995, 0.001054579, 0.0700000000000001, 539.0, 0.0, 0.0, 4.0, 2516.0, 0.0, 0.0, 1.0, 0.0, 0.0, 0.0, 0.0, 1], [45056.0, 22585344.0, 27111424.0, 27295744.0, 0.00999999999999995, 0.001054579, 0.0700000000000001, 539.0, 0.0, 0.0, 4.0, 2516.0, 0.0, 0.0, 1.0, 0.0, 0.0, 0.0, 0.0, 1]], [[45056.0, 22585344.0, 27111424.0, 27295744.0, 0.00999999999999995, 0.001054579, 0.0700000000000001, 539.0, 0.0, 0.0, 4.0, 2516.0, 0.0, 0.0, 1.0, 0.0, 0.0, 0.0, 0.0, 1], [45056.0, 22585344.0, 27111424.0, 27295744.0, 0.00999999999999995, 0.001054579, 0.0700000000000001, 539.0, 0.0, 0.0, 4.0, 2516.0, 0.0, 0.0, 1.0, 0.0, 0.0, 0.0, 0.0, 1], [45056.0, 22585344.0, 27111424.0, 27295744.0, 0.00999999999999995, 0.001054579, 0.0700000000000001, 539.0, 0.0, 0.0, 4.0, 2516.0, 0.0, 0.0, 1.0, 0.0, 0.0, 0.0, 0.0, 1], [45056.0, 22585344.0, 27111424.0, 27295744.0, 0.00999999999999995, 0.001054579, 0.0700000000000001, 539.0, 0.0, 0.0, 4.0, 2516.0, 0.0, 0.0, 1.0, 0.0, 0.0, 0.0, 0.0, 1], [45056.0, 22585344.0, 27111424.0, 27295744.0, 0.00999999999999995, 0.001054579, 0.0700000000000001, 539.0, 0.0, 0.0, 4.0, 2516.0, 0.0, 0.0, 1.0, 0.0, 0.0, 0.0, 0.0, 1], [45056.0, 22585344.0, 27111424.0, 27295744.0, 0.00999999999999995, 0.001054579, 0.0700000000000001, 539.0, 0.0, 0.0, 4.0, 2516.0, 0.0, 0.0, 1.0, 0.0, 0.0, 0.0, 0.0, 1], [45056.0, 22585344.0, 27111424.0, 27295744.0, 0.00999999999999995, 0.001054579, 0.0700000000000001, 539.0, 0.0, 0.0, 4.0, 2516.0, 0.0, 0.0, 1.0, 0.0, 0.0, 0.0, 0.0, 1], [45056.0, 22585344.0, 27111424.0, 27295744.0, 0.00999999999999995, 0.001054579, 0.0700000000000001, 539.0, 0.0, 0.0, 4.0, 2516.0, 0.0, 0.0, 1.0, 0.0, 0.0, 0.0, 0.0, 1], [45056.0, 22585344.0, 27111424.0, 27295744.0, 0.00999999999999995, 0.001054579, 0.0700000000000001, 539.0, 0.0, 0.0, 4.0, 2516.0, 0.0, 0.0, 1.0, 0.0, 0.0, 0.0, 0.0, 1], [45056.0, 22585344.0, 27111424.0, 27295744.0, 0.00999999999999995, 0.001054579, 0.0700000000000001, 539.0, 0.0, 0.0, 4.0, 2516.0, 0.0, 0.0, 1.0, 0.0, 0.0, 0.0, 0.0, 1], [45056.0, 22585344.0, 27111424.0, 27295744.0, 0.00999999999999995, 0.001054579, 0.0700000000000001, 539.0, 0.0, 0.0, 4.0, 2516.0, 0.0, 0.0, 1.0, 0.0, 0.0, 0.0, 0.0, 1], [45056.0, 22585344.0, 27111424.0, 27295744.0, 0.00999999999999995, 0.001054579, 0.0700000000000001, 539.0, 0.0, 0.0, 4.0, 2516.0, 0.0, 0.0, 1.0, 0.0, 0.0, 0.0, 0.0, 1]], [[45056.0, 22585344.0, 27111424.0, 27295744.0, 0.00999999999999995, 0.001054579, 0.0700000000000001, 539.0, 0.0, 0.0, 4.0, 2516.0, 0.0, 0.0, 1.0, 0.0, 0.0, 0.0, 0.0, 1], [45056.0, 22585344.0, 27111424.0, 27295744.0, 0.00999999999999995, 0.001054579, 0.0700000000000001, 539.0, 0.0, 0.0, 4.0, 2516.0, 0.0, 0.0, 1.0, 0.0, 0.0, 0.0, 0.0, 1], [45056.0, 22585344.0, 27111424.0, 27295744.0, 0.00999999999999995, 0.001054579, 0.0700000000000001, 539.0, 0.0, 0.0, 4.0, 2516.0, 0.0, 0.0, 1.0, 0.0, 0.0, 0.0, 0.0, 1], [45056.0, 22585344.0, 27111424.0, 27295744.0, 0.00999999999999995, 0.001054579, 0.0700000000000001, 539.0, 0.0, 0.0, 4.0, 2516.0, 0.0, 0.0, 1.0, 0.0, 0.0, 0.0, 0.0, 1], [45056.0, 22585344.0, 27111424.0, 27295744.0, 0.00999999999999995, 0.001054579, 0.0700000000000001, 539.0, 0.0, 0.0, 4.0, 2516.0, 0.0, 0.0, 1.0, 0.0, 0.0, 0.0, 0.0, 1], [45056.0, 22585344.0, 27111424.0, 27295744.0, 0.00999999999999995, 0.001054579, 0.0700000000000001, 539.0, 0.0, 0.0, 4.0, 2516.0, 0.0, 0.0, 1.0, 0.0, 0.0, 0.0, 0.0, 1], [45056.0, 22585344.0, 27111424.0, 27295744.0, 0.00999999999999995, 0.001054579, 0.0700000000000001, 539.0, 0.0, 0.0, 4.0, 2516.0, 0.0, 0.0, 1.0, 0.0, 0.0, 0.0, 0.0, 1], [45056.0, 22585344.0, 27111424.0, 27295744.0, 0.00999999999999995, 0.001054579, 0.0700000000000001, 539.0, 0.0, 0.0, 4.0, 2516.0, 0.0, 0.0, 1.0, 0.0, 0.0, 0.0, 0.0, 1], [45056.0, 22585344.0, 27111424.0, 27295744.0, 0.00999999999999995, 0.001054579, 0.0700000000000001, 539.0, 0.0, 0.0, 4.0, 2516.0, 0.0, 0.0, 1.0, 0.0, 0.0, 0.0, 0.0, 1], [45056.0, 22585344.0, 27111424.0, 27295744.0, 0.00999999999999995, 0.001054579, 0.0700000000000001, 539.0, 0.0, 0.0, 4.0, 2516.0, 0.0, 0.0, 1.0, 0.0, 0.0, 0.0, 0.0, 1], [45056.0, 22585344.0, 27111424.0, 27295744.0, 0.00999999999999995, 0.001054579, 0.0700000000000001, 539.0, 0.0, 0.0, 4.0, 2516.0, 0.0, 0.0, 1.0, 0.0, 0.0, 0.0, 0.0, 1], [45056.0, 22585344.0, 27111424.0, 27295744.0, 0.00999999999999995, 0.001054579, 0.0700000000000001, 539.0, 0.0, 0.0, 4.0, 2516.0, 0.0, 0.0, 1.0, 0.0, 0.0, 0.0, 0.0, 1]], [[45056.0, 22585344.0, 27111424.0, 27295744.0, 0.00999999999999995, 0.001054579, 0.0700000000000001, 539.0, 0.0, 0.0, 4.0, 2516.0, 0.0, 0.0, 1.0, 0.0, 0.0, 0.0, 0.0, 1], [45056.0, 22585344.0, 27111424.0, 27295744.0, 0.00999999999999995, 0.001054579, 0.0700000000000001, 539.0, 0.0, 0.0, 4.0, 2516.0, 0.0, 0.0, 1.0, 0.0, 0.0, 0.0, 0.0, 1], [45056.0, 22585344.0, 27111424.0, 27295744.0, 0.00999999999999995, 0.001054579, 0.0700000000000001, 539.0, 0.0, 0.0, 4.0, 2516.0, 0.0, 0.0, 1.0, 0.0, 0.0, 0.0, 0.0, 1], [45056.0, 22585344.0, 27111424.0, 27295744.0, 0.00999999999999995, 0.001054579, 0.0700000000000001, 539.0, 0.0, 0.0, 4.0, 2516.0, 0.0, 0.0, 1.0, 0.0, 0.0, 0.0, 0.0, 1], [45056.0, 22585344.0, 27111424.0, 27295744.0, 0.00999999999999995, 0.001054579, 0.0700000000000001, 539.0, 0.0, 0.0, 4.0, 2516.0, 0.0, 0.0, 1.0, 0.0, 0.0, 0.0, 0.0, 1], [45056.0, 22585344.0, 27111424.0, 27295744.0, 0.00999999999999995, 0.001054579, 0.0700000000000001, 539.0, 0.0, 0.0, 4.0, 2516.0, 0.0, 0.0, 1.0, 0.0, 0.0, 0.0, 0.0, 1], [45056.0, 22585344.0, 27111424.0, 27295744.0, 0.00999999999999995, 0.001054579, 0.0700000000000001, 539.0, 0.0, 0.0, 4.0, 2516.0, 0.0, 0.0, 1.0, 0.0, 0.0, 0.0, 0.0, 1], [45056.0, 22585344.0, 27111424.0, 27295744.0, 0.00999999999999995, 0.001054579, 0.0700000000000001, 539.0, 0.0, 0.0, 4.0, 2516.0, 0.0, 0.0, 1.0, 0.0, 0.0, 0.0, 0.0, 1], [45056.0, 22585344.0, 27111424.0, 27295744.0, 0.00999999999999995, 0.001054579, 0.0700000000000001, 539.0, 0.0, 0.0, 4.0, 2516.0, 0.0, 0.0, 1.0, 0.0, 0.0, 0.0, 0.0, 1], [45056.0, 22585344.0, 27111424.0, 27295744.0, 0.00999999999999995, 0.001054579, 0.0700000000000001, 539.0, 0.0, 0.0, 4.0, 2516.0, 0.0, 0.0, 1.0, 0.0, 0.0, 0.0, 0.0, 1], [45056.0, 22585344.0, 27111424.0, 27295744.0, 0.00999999999999995, 0.001054579, 0.0700000000000001, 539.0, 0.0, 0.0, 4.0, 2516.0, 0.0, 0.0, 1.0, 0.0, 0.0, 0.0, 0.0, 1], [45056.0, 22585344.0, 27111424.0, 27295744.0, 0.00999999999999995, 0.001054579, 0.0700000000000001, 539.0, 0.0, 0.0, 4.0, 2516.0, 0.0, 0.0, 1.0, 0.0, 0.0, 0.0, 0.0, 1]], [[45056.0, 22585344.0, 27111424.0, 27295744.0, 0.00999999999999995, 0.001054579, 0.0700000000000001, 539.0, 0.0, 0.0, 4.0, 2516.0, 0.0, 0.0, 1.0, 0.0, 0.0, 0.0, 0.0, 1], [45056.0, 22585344.0, 27111424.0, 27295744.0, 0.00999999999999995, 0.001054579, 0.0700000000000001, 539.0, 0.0, 0.0, 4.0, 2516.0, 0.0, 0.0, 1.0, 0.0, 0.0, 0.0, 0.0, 1], [45056.0, 22585344.0, 27111424.0, 27295744.0, 0.00999999999999995, 0.001054579, 0.0700000000000001, 539.0, 0.0, 0.0, 4.0, 2516.0, 0.0, 0.0, 1.0, 0.0, 0.0, 0.0, 0.0, 1], [45056.0, 22585344.0, 27111424.0, 27295744.0, 0.00999999999999995, 0.001054579, 0.0700000000000001, 539.0, 0.0, 0.0, 4.0, 2516.0, 0.0, 0.0, 1.0, 0.0, 0.0, 0.0, 0.0, 1], [45056.0, 22585344.0, 27111424.0, 27295744.0, 0.00999999999999995, 0.001054579, 0.0700000000000001, 539.0, 0.0, 0.0, 4.0, 2516.0, 0.0, 0.0, 1.0, 0.0, 0.0, 0.0, 0.0, 1], [45056.0, 22585344.0, 27111424.0, 27295744.0, 0.00999999999999995, 0.001054579, 0.0700000000000001, 539.0, 0.0, 0.0, 4.0, 2516.0, 0.0, 0.0, 1.0, 0.0, 0.0, 0.0, 0.0, 1], [45056.0, 22585344.0, 27111424.0, 27295744.0, 0.00999999999999995, 0.001054579, 0.0700000000000001, 539.0, 0.0, 0.0, 4.0, 2516.0, 0.0, 0.0, 1.0, 0.0, 0.0, 0.0, 0.0, 1], [45056.0, 22585344.0, 27111424.0, 27295744.0, 0.00999999999999995, 0.001054579, 0.0700000000000001, 539.0, 0.0, 0.0, 4.0, 2516.0, 0.0, 0.0, 1.0, 0.0, 0.0, 0.0, 0.0, 1], [45056.0, 22585344.0, 27111424.0, 27295744.0, 0.00999999999999995, 0.001054579, 0.0700000000000001, 539.0, 0.0, 0.0, 4.0, 2516.0, 0.0, 0.0, 1.0, 0.0, 0.0, 0.0, 0.0, 1], [45056.0, 22585344.0, 27111424.0, 27295744.0, 0.00999999999999995, 0.001054579, 0.0700000000000001, 539.0, 0.0, 0.0, 4.0, 2516.0, 0.0, 0.0, 1.0, 0.0, 0.0, 0.0, 0.0, 1], [45056.0, 22585344.0, 27111424.0, 27295744.0, 0.00999999999999995, 0.001054579, 0.0700000000000001, 539.0, 0.0, 0.0, 4.0, 2516.0, 0.0, 0.0, 1.0, 0.0, 0.0, 0.0, 0.0, 1], [45056.0, 22585344.0, 27111424.0, 27295744.0, 0.00999999999999995, 0.001054579, 0.0700000000000001, 539.0, 0.0, 0.0, 4.0, 2516.0, 0.0, 0.0, 1.0, 0.0, 0.0, 0.0, 0.0, 1]], [[45056.0, 22585344.0, 27111424.0, 27295744.0, 0.00999999999999995, 0.001054579, 0.0700000000000001, 539.0, 0.0, 0.0, 4.0, 2516.0, 0.0, 0.0, 1.0, 0.0, 0.0, 0.0, 0.0, 1], [45056.0, 22585344.0, 27111424.0, 27295744.0, 0.00999999999999995, 0.001054579, 0.0700000000000001, 539.0, 0.0, 0.0, 4.0, 2516.0, 0.0, 0.0, 1.0, 0.0, 0.0, 0.0, 0.0, 1], [45056.0, 22585344.0, 27111424.0, 27295744.0, 0.00999999999999995, 0.001054579, 0.0700000000000001, 539.0, 0.0, 0.0, 4.0, 2516.0, 0.0, 0.0, 1.0, 0.0, 0.0, 0.0, 0.0, 1], [45056.0, 22585344.0, 27111424.0, 27295744.0, 0.00999999999999995, 0.001054579, 0.0700000000000001, 539.0, 0.0, 0.0, 4.0, 2516.0, 0.0, 0.0, 1.0, 0.0, 0.0, 0.0, 0.0, 1], [45056.0, 22585344.0, 27111424.0, 27295744.0, 0.00999999999999995, 0.001054579, 0.0700000000000001, 539.0, 0.0, 0.0, 4.0, 2516.0, 0.0, 0.0, 1.0, 0.0, 0.0, 0.0, 0.0, 1], [45056.0, 22585344.0, 27111424.0, 27295744.0, 0.00999999999999995, 0.001054579, 0.0700000000000001, 539.0, 0.0, 0.0, 4.0, 2516.0, 0.0, 0.0, 1.0, 0.0, 0.0, 0.0, 0.0, 1], [45056.0, 22585344.0, 27111424.0, 27295744.0, 0.00999999999999995, 0.001054579, 0.0700000000000001, 539.0, 0.0, 0.0, 4.0, 2516.0, 0.0, 0.0, 1.0, 0.0, 0.0, 0.0, 0.0, 1], [45056.0, 22585344.0, 27111424.0, 27295744.0, 0.00999999999999995, 0.001054579, 0.0700000000000001, 539.0, 0.0, 0.0, 4.0, 2516.0, 0.0, 0.0, 1.0, 0.0, 0.0, 0.0, 0.0, 1], [45056.0, 22585344.0, 27111424.0, 27295744.0, 0.00999999999999995, 0.001054579, 0.0700000000000001, 539.0, 0.0, 0.0, 4.0, 2516.0, 0.0, 0.0, 1.0, 0.0, 0.0, 0.0, 0.0, 1], [45056.0, 22585344.0, 27111424.0, 27295744.0, 0.00999999999999995, 0.001054579, 0.0700000000000001, 539.0, 0.0, 0.0, 4.0, 2516.0, 0.0, 0.0, 1.0, 0.0, 0.0, 0.0, 0.0, 1], [45056.0, 22585344.0, 27111424.0, 27295744.0, 0.00999999999999995, 0.001054579, 0.0700000000000001, 539.0, 0.0, 0.0, 4.0, 2516.0, 0.0, 0.0, 1.0, 0.0, 0.0, 0.0, 0.0, 1], [45056.0, 22585344.0, 27111424.0, 27295744.0, 0.00999999999999995, 0.001054579, 0.0700000000000001, 539.0, 0.0, 0.0, 4.0, 2516.0, 0.0, 0.0, 1.0, 0.0, 0.0, 0.0, 0.0, 1]], [[45056.0, 22585344.0, 27111424.0, 27295744.0, 0.00999999999999995, 0.001054579, 0.0700000000000001, 539.0, 0.0, 0.0, 4.0, 2516.0, 0.0, 0.0, 1.0, 0.0, 0.0, 0.0, 0.0, 1], [45056.0, 22585344.0, 27111424.0, 27295744.0, 0.00999999999999995, 0.001054579, 0.0700000000000001, 539.0, 0.0, 0.0, 4.0, 2516.0, 0.0, 0.0, 1.0, 0.0, 0.0, 0.0, 0.0, 1], [45056.0, 22585344.0, 27111424.0, 27295744.0, 0.00999999999999995, 0.001054579, 0.0700000000000001, 539.0, 0.0, 0.0, 4.0, 2516.0, 0.0, 0.0, 1.0, 0.0, 0.0, 0.0, 0.0, 1], [45056.0, 22585344.0, 27111424.0, 27295744.0, 0.00999999999999995, 0.001054579, 0.0700000000000001, 539.0, 0.0, 0.0, 4.0, 2516.0, 0.0, 0.0, 1.0, 0.0, 0.0, 0.0, 0.0, 1], [45056.0, 22585344.0, 27111424.0, 27295744.0, 0.00999999999999995, 0.001054579, 0.0700000000000001, 539.0, 0.0, 0.0, 4.0, 2516.0, 0.0, 0.0, 1.0, 0.0, 0.0, 0.0, 0.0, 1], [45056.0, 22585344.0, 27111424.0, 27295744.0, 0.00999999999999995, 0.001054579, 0.0700000000000001, 539.0, 0.0, 0.0, 4.0, 2516.0, 0.0, 0.0, 1.0, 0.0, 0.0, 0.0, 0.0, 1], [45056.0, 22585344.0, 27111424.0, 27295744.0, 0.00999999999999995, 0.001054579, 0.0700000000000001, 539.0, 0.0, 0.0, 4.0, 2516.0, 0.0, 0.0, 1.0, 0.0, 0.0, 0.0, 0.0, 1], [45056.0, 22585344.0, 27111424.0, 27295744.0, 0.00999999999999995, 0.001054579, 0.0700000000000001, 539.0, 0.0, 0.0, 4.0, 2516.0, 0.0, 0.0, 1.0, 0.0, 0.0, 0.0, 0.0, 1], [45056.0, 22585344.0, 27111424.0, 27295744.0, 0.00999999999999995, 0.001054579, 0.0700000000000001, 539.0, 0.0, 0.0, 4.0, 2516.0, 0.0, 0.0, 1.0, 0.0, 0.0, 0.0, 0.0, 1], [45056.0, 22585344.0, 27111424.0, 27295744.0, 0.00999999999999995, 0.001054579, 0.0700000000000001, 539.0, 0.0, 0.0, 4.0, 2516.0, 0.0, 0.0, 1.0, 0.0, 0.0, 0.0, 0.0, 1], [45056.0, 22585344.0, 27111424.0, 27295744.0, 0.00999999999999995, 0.001054579, 0.0700000000000001, 539.0, 0.0, 0.0, 4.0, 2516.0, 0.0, 0.0, 1.0, 0.0, 0.0, 0.0, 0.0, 1], [45056.0, 22585344.0, 27111424.0, 27295744.0, 0.00999999999999995, 0.001054579, 0.0700000000000001, 539.0, 0.0, 0.0, 4.0, 2516.0, 0.0, 0.0, 1.0, 0.0, 0.0, 0.0, 0.0, 1]], [[45056.0, 22585344.0, 27111424.0, 27295744.0, 0.00999999999999995, 0.001054579, 0.0700000000000001, 539.0, 0.0, 0.0, 4.0, 2516.0, 0.0, 0.0, 1.0, 0.0, 0.0, 0.0, 0.0, 1], [45056.0, 22585344.0, 27111424.0, 27295744.0, 0.00999999999999995, 0.001054579, 0.0700000000000001, 539.0, 0.0, 0.0, 4.0, 2516.0, 0.0, 0.0, 1.0, 0.0, 0.0, 0.0, 0.0, 1], [45056.0, 22585344.0, 27111424.0, 27295744.0, 0.00999999999999995, 0.001054579, 0.0700000000000001, 539.0, 0.0, 0.0, 4.0, 2516.0, 0.0, 0.0, 1.0, 0.0, 0.0, 0.0, 0.0, 1], [45056.0, 22585344.0, 27111424.0, 27295744.0, 0.00999999999999995, 0.001054579, 0.0700000000000001, 539.0, 0.0, 0.0, 4.0, 2516.0, 0.0, 0.0, 1.0, 0.0, 0.0, 0.0, 0.0, 1], [45056.0, 22585344.0, 27111424.0, 27295744.0, 0.00999999999999995, 0.001054579, 0.0700000000000001, 539.0, 0.0, 0.0, 4.0, 2516.0, 0.0, 0.0, 1.0, 0.0, 0.0, 0.0, 0.0, 1], [45056.0, 22585344.0, 27111424.0, 27295744.0, 0.00999999999999995, 0.001054579, 0.0700000000000001, 539.0, 0.0, 0.0, 4.0, 2516.0, 0.0, 0.0, 1.0, 0.0, 0.0, 0.0, 0.0, 1], [45056.0, 22585344.0, 27111424.0, 27295744.0, 0.00999999999999995, 0.001054579, 0.0700000000000001, 539.0, 0.0, 0.0, 4.0, 2516.0, 0.0, 0.0, 1.0, 0.0, 0.0, 0.0, 0.0, 1], [45056.0, 22585344.0, 27111424.0, 27295744.0, 0.00999999999999995, 0.001054579, 0.0700000000000001, 539.0, 0.0, 0.0, 4.0, 2516.0, 0.0, 0.0, 1.0, 0.0, 0.0, 0.0, 0.0, 1], [45056.0, 22585344.0, 27111424.0, 27295744.0, 0.00999999999999995, 0.001054579, 0.0700000000000001, 539.0, 0.0, 0.0, 4.0, 2516.0, 0.0, 0.0, 1.0, 0.0, 0.0, 0.0, 0.0, 1], [45056.0, 22585344.0, 27111424.0, 27295744.0, 0.00999999999999995, 0.001054579, 0.0700000000000001, 539.0, 0.0, 0.0, 4.0, 2516.0, 0.0, 0.0, 1.0, 0.0, 0.0, 0.0, 0.0, 1], [45056.0, 22585344.0, 27111424.0, 27295744.0, 0.00999999999999995, 0.001054579, 0.0700000000000001, 539.0, 0.0, 0.0, 4.0, 2516.0, 0.0, 0.0, 1.0, 0.0, 0.0, 0.0, 0.0, 1], [45056.0, 22585344.0, 27111424.0, 27295744.0, 0.00999999999999995, 0.001054579, 0.0700000000000001, 539.0, 0.0, 0.0, 4.0, 2516.0, 0.0, 0.0, 1.0, 0.0, 0.0, 0.0, 0.0, 1]], [[45056.0, 22585344.0, 27111424.0, 27295744.0, 0.00999999999999995, 0.001054579, 0.0700000000000001, 539.0, 0.0, 0.0, 4.0, 2516.0, 0.0, 0.0, 1.0, 0.0, 0.0, 0.0, 0.0, 1], [45056.0, 22585344.0, 27111424.0, 27295744.0, 0.00999999999999995, 0.001054579, 0.0700000000000001, 539.0, 0.0, 0.0, 4.0, 2516.0, 0.0, 0.0, 1.0, 0.0, 0.0, 0.0, 0.0, 1], [45056.0, 22585344.0, 27111424.0, 27295744.0, 0.00999999999999995, 0.001054579, 0.0700000000000001, 539.0, 0.0, 0.0, 4.0, 2516.0, 0.0, 0.0, 1.0, 0.0, 0.0, 0.0, 0.0, 1], [45056.0, 22585344.0, 27111424.0, 27295744.0, 0.00999999999999995, 0.001054579, 0.0700000000000001, 539.0, 0.0, 0.0, 4.0, 2516.0, 0.0, 0.0, 1.0, 0.0, 0.0, 0.0, 0.0, 1], [45056.0, 22585344.0, 27111424.0, 27295744.0, 0.00999999999999995, 0.001054579, 0.0700000000000001, 539.0, 0.0, 0.0, 4.0, 2516.0, 0.0, 0.0, 1.0, 0.0, 0.0, 0.0, 0.0, 1], [45056.0, 22585344.0, 27111424.0, 27295744.0, 0.00999999999999995, 0.001054579, 0.0700000000000001, 539.0, 0.0, 0.0, 4.0, 2516.0, 0.0, 0.0, 1.0, 0.0, 0.0, 0.0, 0.0, 1], [45056.0, 22585344.0, 27111424.0, 27295744.0, 0.00999999999999995, 0.001054579, 0.0700000000000001, 539.0, 0.0, 0.0, 4.0, 2516.0, 0.0, 0.0, 1.0, 0.0, 0.0, 0.0, 0.0, 1], [45056.0, 22585344.0, 27111424.0, 27295744.0, 0.00999999999999995, 0.001054579, 0.0700000000000001, 539.0, 0.0, 0.0, 4.0, 2516.0, 0.0, 0.0, 1.0, 0.0, 0.0, 0.0, 0.0, 1], [45056.0, 22585344.0, 27111424.0, 27295744.0, 0.00999999999999995, 0.001054579, 0.0700000000000001, 539.0, 0.0, 0.0, 4.0, 2516.0, 0.0, 0.0, 1.0, 0.0, 0.0, 0.0, 0.0, 1], [45056.0, 22585344.0, 27111424.0, 27295744.0, 0.00999999999999995, 0.001054579, 0.0700000000000001, 539.0, 0.0, 0.0, 4.0, 2516.0, 0.0, 0.0, 1.0, 0.0, 0.0, 0.0, 0.0, 1], [45056.0, 22585344.0, 27111424.0, 27295744.0, 0.00999999999999995, 0.001054579, 0.0700000000000001, 539.0, 0.0, 0.0, 4.0, 2516.0, 0.0, 0.0, 1.0, 0.0, 0.0, 0.0, 0.0, 1], [45056.0, 22585344.0, 27111424.0, 27295744.0, 0.00999999999999995, 0.001054579, 0.0700000000000001, 539.0, 0.0, 0.0, 4.0, 2516.0, 0.0, 0.0, 1.0, 0.0, 0.0, 0.0, 0.0, 1]], [[45056.0, 22585344.0, 27111424.0, 27295744.0, 0.00999999999999995, 0.001054579, 0.0700000000000001, 539.0, 0.0, 0.0, 4.0, 2516.0, 0.0, 0.0, 1.0, 0.0, 0.0, 0.0, 0.0, 1], [45056.0, 22585344.0, 27111424.0, 27295744.0, 0.00999999999999995, 0.001054579, 0.0700000000000001, 539.0, 0.0, 0.0, 4.0, 2516.0, 0.0, 0.0, 1.0, 0.0, 0.0, 0.0, 0.0, 1], [45056.0, 22585344.0, 27111424.0, 27295744.0, 0.00999999999999995, 0.001054579, 0.0700000000000001, 539.0, 0.0, 0.0, 4.0, 2516.0, 0.0, 0.0, 1.0, 0.0, 0.0, 0.0, 0.0, 1], [45056.0, 22585344.0, 27111424.0, 27295744.0, 0.00999999999999995, 0.001054579, 0.0700000000000001, 539.0, 0.0, 0.0, 4.0, 2516.0, 0.0, 0.0, 1.0, 0.0, 0.0, 0.0, 0.0, 1], [45056.0, 22585344.0, 27111424.0, 27295744.0, 0.00999999999999995, 0.001054579, 0.0700000000000001, 539.0, 0.0, 0.0, 4.0, 2516.0, 0.0, 0.0, 1.0, 0.0, 0.0, 0.0, 0.0, 1], [45056.0, 22585344.0, 27111424.0, 27295744.0, 0.00999999999999995, 0.001054579, 0.0700000000000001, 539.0, 0.0, 0.0, 4.0, 2516.0, 0.0, 0.0, 1.0, 0.0, 0.0, 0.0, 0.0, 1], [45056.0, 22585344.0, 27111424.0, 27295744.0, 0.00999999999999995, 0.001054579, 0.0700000000000001, 539.0, 0.0, 0.0, 4.0, 2516.0, 0.0, 0.0, 1.0, 0.0, 0.0, 0.0, 0.0, 1], [45056.0, 22585344.0, 27111424.0, 27295744.0, 0.00999999999999995, 0.001054579, 0.0700000000000001, 539.0, 0.0, 0.0, 4.0, 2516.0, 0.0, 0.0, 1.0, 0.0, 0.0, 0.0, 0.0, 1], [45056.0, 22585344.0, 27111424.0, 27295744.0, 0.00999999999999995, 0.001054579, 0.0700000000000001, 539.0, 0.0, 0.0, 4.0, 2516.0, 0.0, 0.0, 1.0, 0.0, 0.0, 0.0, 0.0, 1], [45056.0, 22585344.0, 27111424.0, 27295744.0, 0.00999999999999995, 0.001054579, 0.0700000000000001, 539.0, 0.0, 0.0, 4.0, 2516.0, 0.0, 0.0, 1.0, 0.0, 0.0, 0.0, 0.0, 1], [45056.0, 22585344.0, 27111424.0, 27295744.0, 0.00999999999999995, 0.001054579, 0.0700000000000001, 539.0, 0.0, 0.0, 4.0, 2516.0, 0.0, 0.0, 1.0, 0.0, 0.0, 0.0, 0.0, 1], [45056.0, 22585344.0, 27111424.0, 27295744.0, 0.00999999999999995, 0.001054579, 0.0700000000000001, 539.0, 0.0, 0.0, 4.0, 2516.0, 0.0, 0.0, 1.0, 0.0, 0.0, 0.0, 0.0, 1]], [[45056.0, 22585344.0, 27111424.0, 27295744.0, 0.00999999999999995, 0.001054579, 0.0700000000000001, 539.0, 0.0, 0.0, 4.0, 2516.0, 0.0, 0.0, 1.0, 0.0, 0.0, 0.0, 0.0, 1], [45056.0, 22585344.0, 27111424.0, 27295744.0, 0.00999999999999995, 0.001054579, 0.0700000000000001, 539.0, 0.0, 0.0, 4.0, 2516.0, 0.0, 0.0, 1.0, 0.0, 0.0, 0.0, 0.0, 1], [45056.0, 22585344.0, 27111424.0, 27295744.0, 0.00999999999999995, 0.001054579, 0.0700000000000001, 539.0, 0.0, 0.0, 4.0, 2516.0, 0.0, 0.0, 1.0, 0.0, 0.0, 0.0, 0.0, 1], [45056.0, 22585344.0, 27111424.0, 27295744.0, 0.00999999999999995, 0.001054579, 0.0700000000000001, 539.0, 0.0, 0.0, 4.0, 2516.0, 0.0, 0.0, 1.0, 0.0, 0.0, 0.0, 0.0, 1], [45056.0, 22585344.0, 27111424.0, 27295744.0, 0.00999999999999995, 0.001054579, 0.0700000000000001, 539.0, 0.0, 0.0, 4.0, 2516.0, 0.0, 0.0, 1.0, 0.0, 0.0, 0.0, 0.0, 1], [45056.0, 22585344.0, 27111424.0, 27295744.0, 0.00999999999999995, 0.001054579, 0.0700000000000001, 539.0, 0.0, 0.0, 4.0, 2516.0, 0.0, 0.0, 1.0, 0.0, 0.0, 0.0, 0.0, 1], [45056.0, 22585344.0, 27111424.0, 27295744.0, 0.00999999999999995, 0.001054579, 0.0700000000000001, 539.0, 0.0, 0.0, 4.0, 2516.0, 0.0, 0.0, 1.0, 0.0, 0.0, 0.0, 0.0, 1], [45056.0, 22585344.0, 27111424.0, 27295744.0, 0.00999999999999995, 0.001054579, 0.0700000000000001, 539.0, 0.0, 0.0, 4.0, 2516.0, 0.0, 0.0, 1.0, 0.0, 0.0, 0.0, 0.0, 1], [45056.0, 22585344.0, 27111424.0, 27295744.0, 0.00999999999999995, 0.001054579, 0.0700000000000001, 539.0, 0.0, 0.0, 4.0, 2516.0, 0.0, 0.0, 1.0, 0.0, 0.0, 0.0, 0.0, 1], [45056.0, 22585344.0, 27111424.0, 27295744.0, 0.00999999999999995, 0.001054579, 0.0700000000000001, 539.0, 0.0, 0.0, 4.0, 2516.0, 0.0, 0.0, 1.0, 0.0, 0.0, 0.0, 0.0, 1], [45056.0, 22585344.0, 27111424.0, 27295744.0, 0.00999999999999995, 0.001054579, 0.0700000000000001, 539.0, 0.0, 0.0, 4.0, 2516.0, 0.0, 0.0, 1.0, 0.0, 0.0, 0.0, 0.0, 1], [45056.0, 22585344.0, 27111424.0, 27295744.0, 0.00999999999999995, 0.001054579, 0.0700000000000001, 539.0, 0.0, 0.0, 4.0, 2516.0, 0.0, 0.0, 1.0, 0.0, 0.0, 0.0, 0.0, 1]], [[45056.0, 22585344.0, 27111424.0, 27295744.0, 0.00999999999999995, 0.001054579, 0.0700000000000001, 539.0, 0.0, 0.0, 4.0, 2516.0, 0.0, 0.0, 1.0, 0.0, 0.0, 0.0, 0.0, 1], [45056.0, 22585344.0, 27111424.0, 27295744.0, 0.00999999999999995, 0.001054579, 0.0700000000000001, 539.0, 0.0, 0.0, 4.0, 2516.0, 0.0, 0.0, 1.0, 0.0, 0.0, 0.0, 0.0, 1], [45056.0, 22585344.0, 27111424.0, 27295744.0, 0.00999999999999995, 0.001054579, 0.0700000000000001, 539.0, 0.0, 0.0, 4.0, 2516.0, 0.0, 0.0, 1.0, 0.0, 0.0, 0.0, 0.0, 1], [45056.0, 22585344.0, 27111424.0, 27295744.0, 0.00999999999999995, 0.001054579, 0.0700000000000001, 539.0, 0.0, 0.0, 4.0, 2516.0, 0.0, 0.0, 1.0, 0.0, 0.0, 0.0, 0.0, 1], [45056.0, 22585344.0, 27111424.0, 27295744.0, 0.00999999999999995, 0.001054579, 0.0700000000000001, 539.0, 0.0, 0.0, 4.0, 2516.0, 0.0, 0.0, 1.0, 0.0, 0.0, 0.0, 0.0, 1], [45056.0, 22585344.0, 27111424.0, 27295744.0, 0.00999999999999995, 0.001054579, 0.0700000000000001, 539.0, 0.0, 0.0, 4.0, 2516.0, 0.0, 0.0, 1.0, 0.0, 0.0, 0.0, 0.0, 1], [45056.0, 22585344.0, 27111424.0, 27295744.0, 0.00999999999999995, 0.001054579, 0.0700000000000001, 539.0, 0.0, 0.0, 4.0, 2516.0, 0.0, 0.0, 1.0, 0.0, 0.0, 0.0, 0.0, 1], [45056.0, 22585344.0, 27111424.0, 27295744.0, 0.00999999999999995, 0.001054579, 0.0700000000000001, 539.0, 0.0, 0.0, 4.0, 2516.0, 0.0, 0.0, 1.0, 0.0, 0.0, 0.0, 0.0, 1], [45056.0, 22585344.0, 27111424.0, 27295744.0, 0.00999999999999995, 0.001054579, 0.0700000000000001, 539.0, 0.0, 0.0, 4.0, 2516.0, 0.0, 0.0, 1.0, 0.0, 0.0, 0.0, 0.0, 1], [45056.0, 22585344.0, 27111424.0, 27295744.0, 0.00999999999999995, 0.001054579, 0.0700000000000001, 539.0, 0.0, 0.0, 4.0, 2516.0, 0.0, 0.0, 1.0, 0.0, 0.0, 0.0, 0.0, 1], [45056.0, 22585344.0, 27111424.0, 27295744.0, 0.00999999999999995, 0.001054579, 0.0700000000000001, 539.0, 0.0, 0.0, 4.0, 2516.0, 0.0, 0.0, 1.0, 0.0, 0.0, 0.0, 0.0, 1], [45056.0, 22585344.0, 27111424.0, 27295744.0, 0.00999999999999995, 0.001054579, 0.0700000000000001, 539.0, 0.0, 0.0, 4.0, 2516.0, 0.0, 0.0, 1.0, 0.0, 0.0, 0.0, 0.0, 1]]])\n",
    "@galf.api(input=NumpyNdarray(), output=NumpyNdarray())\n",
    "def classify(input_series: np.ndarray) -> np.ndarray:\n",
    "    print(\"###########################################\")\n",
    "    print(\"###########################################\")\n",
    "    print(input_series.shape)\n",
    "    print(\"###########################################\")\n",
    "    print(\"###########################################\")\n",
    "    out =model_runner.predict(torch.from_numpy(input_series).to(torch.float32),adj_matrix.to(torch.float32))[0].detach().numpy()\n",
    "    print(out.shape)\n",
    "    return out\n"
   ]
  },
  {
   "cell_type": "code",
   "execution_count": 31,
   "id": "341f41db",
   "metadata": {},
   "outputs": [
    {
     "data": {
      "text/plain": [
       "torch.float32"
      ]
     },
     "execution_count": 31,
     "metadata": {},
     "output_type": "execute_result"
    }
   ],
   "source": [
    "data.dtype"
   ]
  },
  {
   "cell_type": "markdown",
   "id": "203beeed",
   "metadata": {},
   "source": [
    "Note: using `%%writefile` here because `bentoml.Service` definition must be created in its own `.py` file\n",
    "\n",
    "Start a dev model server to test out the service defined above:"
   ]
  },
  {
   "cell_type": "code",
   "execution_count": null,
   "id": "7523b58f",
   "metadata": {
    "scrolled": true
   },
   "outputs": [
    {
     "name": "stdout",
     "output_type": "stream",
     "text": [
      "['T_destination', '__annotations__', '__call__', '__class__', '__delattr__', '__dict__', '__dir__', '__doc__', '__eq__', '__format__', '__ge__', '__getattr__', '__getattribute__', '__gt__', '__hash__', '__init__', '__init_subclass__', '__le__', '__lt__', '__module__', '__ne__', '__new__', '__reduce__', '__reduce_ex__', '__repr__', '__setattr__', '__setstate__', '__sizeof__', '__slotnames__', '__str__', '__subclasshook__', '__weakref__', '_apply', '_backward_hooks', '_backward_pre_hooks', '_buffers', '_call_impl', '_forward_hooks', '_forward_hooks_with_kwargs', '_forward_pre_hooks', '_forward_pre_hooks_with_kwargs', '_get_backward_hooks', '_get_backward_pre_hooks', '_get_name', '_is_full_backward_hook', '_load_from_state_dict', '_load_state_dict_post_hooks', '_load_state_dict_pre_hooks', '_maybe_warn_non_full_backward_hook', '_modules', '_named_members', '_non_persistent_buffers_set', '_parameters', '_register_load_state_dict_pre_hook', '_register_state_dict_hook', '_replicate_for_data_parallel', '_save_to_state_dict', '_slow_forward', '_state_dict_hooks', '_state_dict_pre_hooks', '_version', 'add_module', 'apply', 'batch_size', 'bfloat16', 'buffers', 'call_super_init', 'children', 'cpu', 'cuda', 'double', 'dump_patches', 'eval', 'extra_repr', 'float', 'forward', 'gat', 'gat1', 'gat2', 'get_buffer', 'get_extra_state', 'get_parameter', 'get_submodule', 'half', 'hidden_size', 'hidden_size1', 'input_features_size', 'ipu', 'linear', 'load_state_dict', 'lstm', 'modules', 'named_buffers', 'named_children', 'named_modules', 'named_parameters', 'num_nodes', 'parameters', 'period', 'predict', 'reconstruct', 'register_backward_hook', 'register_buffer', 'register_forward_hook', 'register_forward_pre_hook', 'register_full_backward_hook', 'register_full_backward_pre_hook', 'register_load_state_dict_post_hook', 'register_module', 'register_parameter', 'register_state_dict_pre_hook', 'requires_grad_', 'set_extra_state', 'share_memory', 'state_dict', 'to', 'to_empty', 'train', 'training', 'type', 'xpu', 'zero_grad']\n",
      "2023-06-04T11:39:26+0000 [INFO] [cli] Prometheus metrics for HTTP BentoServer from \"service.py:galf\" can be accessed at http://localhost:3000/metrics.\n",
      "2023-06-04T11:39:27+0000 [INFO] [cli] Starting development HTTP BentoServer from \"service.py:galf\" listening on http://0.0.0.0:3000 (Press CTRL+C to quit)\n",
      "2023-06-04 11:39:27 circus[166] [INFO] Loading the plugin...\n",
      "2023-06-04 11:39:27 circus[166] [INFO] Endpoint: 'tcp://127.0.0.1:34427'\n",
      "2023-06-04 11:39:27 circus[166] [INFO] Pub/sub: 'tcp://127.0.0.1:43629'\n",
      "2023-06-04T11:39:27+0000 [INFO] [observer] Watching directories: ['/home/bentoml/models', '/home/bentoml/bentoml/models']\n",
      "['T_destination', '__annotations__', '__call__', '__class__', '__delattr__', '__dict__', '__dir__', '__doc__', '__eq__', '__format__', '__ge__', '__getattr__', '__getattribute__', '__gt__', '__hash__', '__init__', '__init_subclass__', '__le__', '__lt__', '__module__', '__ne__', '__new__', '__reduce__', '__reduce_ex__', '__repr__', '__setattr__', '__setstate__', '__sizeof__', '__slotnames__', '__str__', '__subclasshook__', '__weakref__', '_apply', '_backward_hooks', '_backward_pre_hooks', '_buffers', '_call_impl', '_forward_hooks', '_forward_hooks_with_kwargs', '_forward_pre_hooks', '_forward_pre_hooks_with_kwargs', '_get_backward_hooks', '_get_backward_pre_hooks', '_get_name', '_is_full_backward_hook', '_load_from_state_dict', '_load_state_dict_post_hooks', '_load_state_dict_pre_hooks', '_maybe_warn_non_full_backward_hook', '_modules', '_named_members', '_non_persistent_buffers_set', '_parameters', '_register_load_state_dict_pre_hook', '_register_state_dict_hook', '_replicate_for_data_parallel', '_save_to_state_dict', '_slow_forward', '_state_dict_hooks', '_state_dict_pre_hooks', '_version', 'add_module', 'apply', 'batch_size', 'bfloat16', 'buffers', 'call_super_init', 'children', 'cpu', 'cuda', 'double', 'dump_patches', 'eval', 'extra_repr', 'float', 'forward', 'gat', 'gat1', 'gat2', 'get_buffer', 'get_extra_state', 'get_parameter', 'get_submodule', 'half', 'hidden_size', 'hidden_size1', 'input_features_size', 'ipu', 'linear', 'load_state_dict', 'lstm', 'modules', 'named_buffers', 'named_children', 'named_modules', 'named_parameters', 'num_nodes', 'parameters', 'period', 'predict', 'reconstruct', 'register_backward_hook', 'register_buffer', 'register_forward_hook', 'register_forward_pre_hook', 'register_full_backward_hook', 'register_full_backward_pre_hook', 'register_load_state_dict_post_hook', 'register_module', 'register_parameter', 'register_state_dict_pre_hook', 'requires_grad_', 'set_extra_state', 'share_memory', 'state_dict', 'to', 'to_empty', 'train', 'training', 'type', 'xpu', 'zero_grad']\n",
      "2023-06-04T11:40:26+0000 [WARNING] [observer] MODIFIED: 'anomaly.ipynb'\n",
      "2023-06-04T11:40:26+0000 [WARNING] [observer] Detected changes. Reloading...\n",
      "2023-06-04 11:40:27 circus[211] [INFO] Loading the plugin...\n",
      "2023-06-04 11:40:27 circus[211] [INFO] Endpoint: 'tcp://127.0.0.1:34427'\n",
      "2023-06-04 11:40:27 circus[211] [INFO] Pub/sub: 'tcp://127.0.0.1:43629'\n",
      "2023-06-04T11:40:27+0000 [INFO] [observer] Watching directories: ['/home/bentoml/models', '/home/bentoml/bentoml/models']\n",
      "['T_destination', '__annotations__', '__call__', '__class__', '__delattr__', '__dict__', '__dir__', '__doc__', '__eq__', '__format__', '__ge__', '__getattr__', '__getattribute__', '__gt__', '__hash__', '__init__', '__init_subclass__', '__le__', '__lt__', '__module__', '__ne__', '__new__', '__reduce__', '__reduce_ex__', '__repr__', '__setattr__', '__setstate__', '__sizeof__', '__slotnames__', '__str__', '__subclasshook__', '__weakref__', '_apply', '_backward_hooks', '_backward_pre_hooks', '_buffers', '_call_impl', '_forward_hooks', '_forward_hooks_with_kwargs', '_forward_pre_hooks', '_forward_pre_hooks_with_kwargs', '_get_backward_hooks', '_get_backward_pre_hooks', '_get_name', '_is_full_backward_hook', '_load_from_state_dict', '_load_state_dict_post_hooks', '_load_state_dict_pre_hooks', '_maybe_warn_non_full_backward_hook', '_modules', '_named_members', '_non_persistent_buffers_set', '_parameters', '_register_load_state_dict_pre_hook', '_register_state_dict_hook', '_replicate_for_data_parallel', '_save_to_state_dict', '_slow_forward', '_state_dict_hooks', '_state_dict_pre_hooks', '_version', 'add_module', 'apply', 'batch_size', 'bfloat16', 'buffers', 'call_super_init', 'children', 'cpu', 'cuda', 'double', 'dump_patches', 'eval', 'extra_repr', 'float', 'forward', 'gat', 'gat1', 'gat2', 'get_buffer', 'get_extra_state', 'get_parameter', 'get_submodule', 'half', 'hidden_size', 'hidden_size1', 'input_features_size', 'ipu', 'linear', 'load_state_dict', 'lstm', 'modules', 'named_buffers', 'named_children', 'named_modules', 'named_parameters', 'num_nodes', 'parameters', 'period', 'predict', 'reconstruct', 'register_backward_hook', 'register_buffer', 'register_forward_hook', 'register_forward_pre_hook', 'register_full_backward_hook', 'register_full_backward_pre_hook', 'register_load_state_dict_post_hook', 'register_module', 'register_parameter', 'register_state_dict_pre_hook', 'requires_grad_', 'set_extra_state', 'share_memory', 'state_dict', 'to', 'to_empty', 'train', 'training', 'type', 'xpu', 'zero_grad']\n",
      "###########################################\n",
      "###########################################\n",
      "(24, 12, 20)\n",
      "###########################################\n",
      "###########################################\n",
      "(24, 12, 20)\n",
      "2023-06-04T11:42:08+0000 [INFO] [dev_api_server:gat_lstm_autoencoder_classifier] 172.18.0.20:51202 (scheme=http,method=POST,path=/classify,type=application/json,length=17904) (status=200,type=application/json,length=126886) 33.281ms (trace=6535dd1f4754f7ce6848a39856a2a67d,span=f91e0f45f7932d58,sampled=0)\n"
     ]
    }
   ],
   "source": [
    "!bentoml serve service.py:galf --reload"
   ]
  },
  {
   "cell_type": "markdown",
   "id": "3974e4ce",
   "metadata": {},
   "source": [
    "\n",
    "Open your web browser at http://127.0.0.1:3000 to view the Bento UI for sending test requests.\n",
    "\n",
    "You may also send request with `curl` command or any HTTP client, e.g.:\n",
    "\n",
    "```bash\n",
    "curl -X POST -H \"content-type: application/json\" --data \"[[5.9, 3, 5.1, 1.8]]\" http://127.0.0.1:3000/classify\n",
    "```\n"
   ]
  },
  {
   "cell_type": "code",
   "execution_count": 36,
   "id": "d1f4fabc",
   "metadata": {},
   "outputs": [
    {
     "ename": "NameError",
     "evalue": "name 'model_runner' is not defined",
     "output_type": "error",
     "traceback": [
      "\u001b[0;31m---------------------------------------------------------------------------\u001b[0m",
      "\u001b[0;31mNameError\u001b[0m                                 Traceback (most recent call last)",
      "Cell \u001b[0;32mIn [36], line 1\u001b[0m\n\u001b[0;32m----> 1\u001b[0m \u001b[38;5;28mdir\u001b[39m(\u001b[43mmodel_runner\u001b[49m)\n",
      "\u001b[0;31mNameError\u001b[0m: name 'model_runner' is not defined"
     ]
    }
   ],
   "source": []
  },
  {
   "cell_type": "markdown",
   "id": "4f1a8bcc",
   "metadata": {},
   "source": [
    "### Build Bento for deployment"
   ]
  },
  {
   "cell_type": "markdown",
   "id": "d6192cd5",
   "metadata": {},
   "source": [
    "Bento is the distribution format in BentoML which captures all the source code, model files, config\n",
    "files and dependency specifications required for running the service for production deployment. Think \n",
    "of it as Docker/Container designed for machine learning models.\n",
    "\n",
    "To begin with building Bento, create a `bentofile.yaml` under your project directory:"
   ]
  },
  {
   "cell_type": "code",
   "execution_count": null,
   "id": "6458e417",
   "metadata": {},
   "outputs": [],
   "source": [
    "%%writefile bentofile.yaml\n",
    "service: \"service.py:galf\"\n",
    "labels:\n",
    "  owner: bentoml-team\n",
    "  project: gallery\n",
    "include:\n",
    "- \"*.py\"\n",
    "python:\n",
    "  packages:\n",
    "    - scikit-learn\n",
    "    - pandas\n",
    "    - torch\n",
    "    - numpy\n",
    "    - seaborn\n",
    "    - matplotlib"
   ]
  },
  {
   "cell_type": "markdown",
   "id": "47505e3c",
   "metadata": {},
   "source": [
    "Next, run `bentoml build` from current directory to start the Bento build:"
   ]
  },
  {
   "cell_type": "code",
   "execution_count": null,
   "id": "b7cab8b2",
   "metadata": {},
   "outputs": [],
   "source": [
    "!bentoml build"
   ]
  },
  {
   "cell_type": "markdown",
   "id": "4c159551",
   "metadata": {},
   "source": [
    "A new Bento is now built and saved to local Bento store. You can view and manage it via \n",
    "`bentoml list`,`bentoml get` and `bentoml delete` CLI command."
   ]
  },
  {
   "cell_type": "markdown",
   "id": "81ed8b84",
   "metadata": {},
   "source": [
    "## Containerize and Deployment"
   ]
  },
  {
   "cell_type": "markdown",
   "id": "8c215454",
   "metadata": {},
   "source": [
    "Bento is designed to be deployed to run efficiently in a variety of different environments.\n",
    "And there are lots of deployment options and tools as part of the BentoML eco-system, such as \n",
    "[Yatai](https://github.com/bentoml/Yatai) and [bentoctl](https://github.com/bentoml/bentoctl) for\n",
    "direct deployment to cloud platforms.\n",
    "\n",
    "In this guide, we will show you the most basic way of deploying a Bento, which is converting a Bento\n",
    "into a Docker image containing the HTTP model server.\n",
    "\n",
    "Make sure you have docker installed and docker deamon running, and run the following commnand:\n",
    "\n",
    "```bash\n",
    "bentoml containerize iris_classifier:latest\n",
    "```\n",
    "\n",
    "This will build a new docker image with all source code, model files and dependencies in place,\n",
    "and ready for production deployment. To start a container with this docker image locally, run:\n",
    "\n",
    "```bash\n",
    "docker run -p 3000:3000 iris_classifier:invwzzsw7li6zckb2ie5eubhd \n",
    "```\n",
    "\n",
    "## What's Next?\n",
    "\n",
    "- 👉 [Pop into our Slack community!](https://l.linklyhq.com/l/ktO8) We're happy to help with any issue you face or even just to meet you and hear what you're working on.\n",
    "\n",
    "- Dive deeper into the [Core Concepts](https://docs.bentoml.org/en/latest/concepts/index.html) in BentoML\n",
    "- Learn how to use BentoML with other ML Frameworks at [Frameworks Guide](https://docs.bentoml.org/en/latest/frameworks/index.html) or check out other [gallery projects](https://github.com/bentoml/BentoML/tree/main/examples)\n",
    "- Learn more about model deployment options for Bento:\n",
    "  - [🦄️ Yatai](https://github.com/bentoml/Yatai): Model Deployment at scale on Kubernetes\n",
    "  - [🚀 bentoctl](https://github.com/bentoml/bentoctl): Fast model deployment on any cloud platform\n"
   ]
  }
 ],
 "metadata": {
  "kernelspec": {
   "display_name": "Python 3 (ipykernel)",
   "language": "python",
   "name": "python3"
  },
  "language_info": {
   "codemirror_mode": {
    "name": "ipython",
    "version": 3
   },
   "file_extension": ".py",
   "mimetype": "text/x-python",
   "name": "python",
   "nbconvert_exporter": "python",
   "pygments_lexer": "ipython3",
   "version": "3.9.13"
  }
 },
 "nbformat": 4,
 "nbformat_minor": 5
}
